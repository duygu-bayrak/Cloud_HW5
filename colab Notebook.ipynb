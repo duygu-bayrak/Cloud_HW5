{
  "nbformat": 4,
  "nbformat_minor": 0,
  "metadata": {
    "colab": {
      "name": "Untitled0.ipynb",
      "provenance": []
    },
    "kernelspec": {
      "name": "python3",
      "display_name": "Python 3"
    },
    "language_info": {
      "name": "python"
    },
    "accelerator": "GPU",
    "widgets": {
      "application/vnd.jupyter.widget-state+json": {
        "0f5e14ce43e84a569214feaab6dfedef": {
          "model_module": "@jupyter-widgets/controls",
          "model_name": "HBoxModel",
          "model_module_version": "1.5.0",
          "state": {
            "_view_name": "HBoxView",
            "_dom_classes": [],
            "_model_name": "HBoxModel",
            "_view_module": "@jupyter-widgets/controls",
            "_model_module_version": "1.5.0",
            "_view_count": null,
            "_view_module_version": "1.5.0",
            "box_style": "",
            "layout": "IPY_MODEL_3d48632a7ae945c4bcc24e7e2b907761",
            "_model_module": "@jupyter-widgets/controls",
            "children": [
              "IPY_MODEL_0bc4b645906e409983319f07b8839f4a",
              "IPY_MODEL_2be2c844414549059f0aca13c7ccae54",
              "IPY_MODEL_b90be48140b54c37972e0c7b07475efb"
            ]
          }
        },
        "3d48632a7ae945c4bcc24e7e2b907761": {
          "model_module": "@jupyter-widgets/base",
          "model_name": "LayoutModel",
          "model_module_version": "1.2.0",
          "state": {
            "_view_name": "LayoutView",
            "grid_template_rows": null,
            "right": null,
            "justify_content": null,
            "_view_module": "@jupyter-widgets/base",
            "overflow": null,
            "_model_module_version": "1.2.0",
            "_view_count": null,
            "flex_flow": null,
            "width": null,
            "min_width": null,
            "border": null,
            "align_items": null,
            "bottom": null,
            "_model_module": "@jupyter-widgets/base",
            "top": null,
            "grid_column": null,
            "overflow_y": null,
            "overflow_x": null,
            "grid_auto_flow": null,
            "grid_area": null,
            "grid_template_columns": null,
            "flex": null,
            "_model_name": "LayoutModel",
            "justify_items": null,
            "grid_row": null,
            "max_height": null,
            "align_content": null,
            "visibility": null,
            "align_self": null,
            "height": null,
            "min_height": null,
            "padding": null,
            "grid_auto_rows": null,
            "grid_gap": null,
            "max_width": null,
            "order": null,
            "_view_module_version": "1.2.0",
            "grid_template_areas": null,
            "object_position": null,
            "object_fit": null,
            "grid_auto_columns": null,
            "margin": null,
            "display": null,
            "left": null
          }
        },
        "0bc4b645906e409983319f07b8839f4a": {
          "model_module": "@jupyter-widgets/controls",
          "model_name": "HTMLModel",
          "model_module_version": "1.5.0",
          "state": {
            "_view_name": "HTMLView",
            "style": "IPY_MODEL_5f34fe1c1b57454a8ba26259ddc1017d",
            "_dom_classes": [],
            "description": "",
            "_model_name": "HTMLModel",
            "placeholder": "​",
            "_view_module": "@jupyter-widgets/controls",
            "_model_module_version": "1.5.0",
            "value": "",
            "_view_count": null,
            "_view_module_version": "1.5.0",
            "description_tooltip": null,
            "_model_module": "@jupyter-widgets/controls",
            "layout": "IPY_MODEL_1331173b0535445fa186a0eaef836cb8"
          }
        },
        "2be2c844414549059f0aca13c7ccae54": {
          "model_module": "@jupyter-widgets/controls",
          "model_name": "FloatProgressModel",
          "model_module_version": "1.5.0",
          "state": {
            "_view_name": "ProgressView",
            "style": "IPY_MODEL_bde618262de042598f08a2265d7cd411",
            "_dom_classes": [],
            "description": "",
            "_model_name": "FloatProgressModel",
            "bar_style": "success",
            "max": 170498071,
            "_view_module": "@jupyter-widgets/controls",
            "_model_module_version": "1.5.0",
            "value": 170498071,
            "_view_count": null,
            "_view_module_version": "1.5.0",
            "orientation": "horizontal",
            "min": 0,
            "description_tooltip": null,
            "_model_module": "@jupyter-widgets/controls",
            "layout": "IPY_MODEL_ce5053fa1a714022aaac27148dba8f94"
          }
        },
        "b90be48140b54c37972e0c7b07475efb": {
          "model_module": "@jupyter-widgets/controls",
          "model_name": "HTMLModel",
          "model_module_version": "1.5.0",
          "state": {
            "_view_name": "HTMLView",
            "style": "IPY_MODEL_c0150b64e1104958a51d5f033161e072",
            "_dom_classes": [],
            "description": "",
            "_model_name": "HTMLModel",
            "placeholder": "​",
            "_view_module": "@jupyter-widgets/controls",
            "_model_module_version": "1.5.0",
            "value": " 170499072/? [00:11&lt;00:00, 18246194.32it/s]",
            "_view_count": null,
            "_view_module_version": "1.5.0",
            "description_tooltip": null,
            "_model_module": "@jupyter-widgets/controls",
            "layout": "IPY_MODEL_65b1563e5aab415fa9767f5acbf8881f"
          }
        },
        "5f34fe1c1b57454a8ba26259ddc1017d": {
          "model_module": "@jupyter-widgets/controls",
          "model_name": "DescriptionStyleModel",
          "model_module_version": "1.5.0",
          "state": {
            "_view_name": "StyleView",
            "_model_name": "DescriptionStyleModel",
            "description_width": "",
            "_view_module": "@jupyter-widgets/base",
            "_model_module_version": "1.5.0",
            "_view_count": null,
            "_view_module_version": "1.2.0",
            "_model_module": "@jupyter-widgets/controls"
          }
        },
        "1331173b0535445fa186a0eaef836cb8": {
          "model_module": "@jupyter-widgets/base",
          "model_name": "LayoutModel",
          "model_module_version": "1.2.0",
          "state": {
            "_view_name": "LayoutView",
            "grid_template_rows": null,
            "right": null,
            "justify_content": null,
            "_view_module": "@jupyter-widgets/base",
            "overflow": null,
            "_model_module_version": "1.2.0",
            "_view_count": null,
            "flex_flow": null,
            "width": null,
            "min_width": null,
            "border": null,
            "align_items": null,
            "bottom": null,
            "_model_module": "@jupyter-widgets/base",
            "top": null,
            "grid_column": null,
            "overflow_y": null,
            "overflow_x": null,
            "grid_auto_flow": null,
            "grid_area": null,
            "grid_template_columns": null,
            "flex": null,
            "_model_name": "LayoutModel",
            "justify_items": null,
            "grid_row": null,
            "max_height": null,
            "align_content": null,
            "visibility": null,
            "align_self": null,
            "height": null,
            "min_height": null,
            "padding": null,
            "grid_auto_rows": null,
            "grid_gap": null,
            "max_width": null,
            "order": null,
            "_view_module_version": "1.2.0",
            "grid_template_areas": null,
            "object_position": null,
            "object_fit": null,
            "grid_auto_columns": null,
            "margin": null,
            "display": null,
            "left": null
          }
        },
        "bde618262de042598f08a2265d7cd411": {
          "model_module": "@jupyter-widgets/controls",
          "model_name": "ProgressStyleModel",
          "model_module_version": "1.5.0",
          "state": {
            "_view_name": "StyleView",
            "_model_name": "ProgressStyleModel",
            "description_width": "",
            "_view_module": "@jupyter-widgets/base",
            "_model_module_version": "1.5.0",
            "_view_count": null,
            "_view_module_version": "1.2.0",
            "bar_color": null,
            "_model_module": "@jupyter-widgets/controls"
          }
        },
        "ce5053fa1a714022aaac27148dba8f94": {
          "model_module": "@jupyter-widgets/base",
          "model_name": "LayoutModel",
          "model_module_version": "1.2.0",
          "state": {
            "_view_name": "LayoutView",
            "grid_template_rows": null,
            "right": null,
            "justify_content": null,
            "_view_module": "@jupyter-widgets/base",
            "overflow": null,
            "_model_module_version": "1.2.0",
            "_view_count": null,
            "flex_flow": null,
            "width": null,
            "min_width": null,
            "border": null,
            "align_items": null,
            "bottom": null,
            "_model_module": "@jupyter-widgets/base",
            "top": null,
            "grid_column": null,
            "overflow_y": null,
            "overflow_x": null,
            "grid_auto_flow": null,
            "grid_area": null,
            "grid_template_columns": null,
            "flex": null,
            "_model_name": "LayoutModel",
            "justify_items": null,
            "grid_row": null,
            "max_height": null,
            "align_content": null,
            "visibility": null,
            "align_self": null,
            "height": null,
            "min_height": null,
            "padding": null,
            "grid_auto_rows": null,
            "grid_gap": null,
            "max_width": null,
            "order": null,
            "_view_module_version": "1.2.0",
            "grid_template_areas": null,
            "object_position": null,
            "object_fit": null,
            "grid_auto_columns": null,
            "margin": null,
            "display": null,
            "left": null
          }
        },
        "c0150b64e1104958a51d5f033161e072": {
          "model_module": "@jupyter-widgets/controls",
          "model_name": "DescriptionStyleModel",
          "model_module_version": "1.5.0",
          "state": {
            "_view_name": "StyleView",
            "_model_name": "DescriptionStyleModel",
            "description_width": "",
            "_view_module": "@jupyter-widgets/base",
            "_model_module_version": "1.5.0",
            "_view_count": null,
            "_view_module_version": "1.2.0",
            "_model_module": "@jupyter-widgets/controls"
          }
        },
        "65b1563e5aab415fa9767f5acbf8881f": {
          "model_module": "@jupyter-widgets/base",
          "model_name": "LayoutModel",
          "model_module_version": "1.2.0",
          "state": {
            "_view_name": "LayoutView",
            "grid_template_rows": null,
            "right": null,
            "justify_content": null,
            "_view_module": "@jupyter-widgets/base",
            "overflow": null,
            "_model_module_version": "1.2.0",
            "_view_count": null,
            "flex_flow": null,
            "width": null,
            "min_width": null,
            "border": null,
            "align_items": null,
            "bottom": null,
            "_model_module": "@jupyter-widgets/base",
            "top": null,
            "grid_column": null,
            "overflow_y": null,
            "overflow_x": null,
            "grid_auto_flow": null,
            "grid_area": null,
            "grid_template_columns": null,
            "flex": null,
            "_model_name": "LayoutModel",
            "justify_items": null,
            "grid_row": null,
            "max_height": null,
            "align_content": null,
            "visibility": null,
            "align_self": null,
            "height": null,
            "min_height": null,
            "padding": null,
            "grid_auto_rows": null,
            "grid_gap": null,
            "max_width": null,
            "order": null,
            "_view_module_version": "1.2.0",
            "grid_template_areas": null,
            "object_position": null,
            "object_fit": null,
            "grid_auto_columns": null,
            "margin": null,
            "display": null,
            "left": null
          }
        },
        "57b15f992fc44d16913b2b9c636d4f47": {
          "model_module": "@jupyter-widgets/controls",
          "model_name": "VBoxModel",
          "model_module_version": "1.5.0",
          "state": {
            "_view_name": "VBoxView",
            "_dom_classes": [],
            "_model_name": "VBoxModel",
            "_view_module": "@jupyter-widgets/controls",
            "_model_module_version": "1.5.0",
            "_view_count": null,
            "_view_module_version": "1.5.0",
            "box_style": "",
            "layout": "IPY_MODEL_df968dea841b4476afd8d632f47e0010",
            "_model_module": "@jupyter-widgets/controls",
            "children": [
              "IPY_MODEL_1a86156ad88f4df489c0913df74e0dbe",
              "IPY_MODEL_331a36c58f9f4f61990f12c3daba1017"
            ]
          }
        },
        "df968dea841b4476afd8d632f47e0010": {
          "model_module": "@jupyter-widgets/base",
          "model_name": "LayoutModel",
          "model_module_version": "1.2.0",
          "state": {
            "_view_name": "LayoutView",
            "grid_template_rows": null,
            "right": null,
            "justify_content": null,
            "_view_module": "@jupyter-widgets/base",
            "overflow": null,
            "_model_module_version": "1.2.0",
            "_view_count": null,
            "flex_flow": null,
            "width": null,
            "min_width": null,
            "border": null,
            "align_items": null,
            "bottom": null,
            "_model_module": "@jupyter-widgets/base",
            "top": null,
            "grid_column": null,
            "overflow_y": null,
            "overflow_x": null,
            "grid_auto_flow": null,
            "grid_area": null,
            "grid_template_columns": null,
            "flex": null,
            "_model_name": "LayoutModel",
            "justify_items": null,
            "grid_row": null,
            "max_height": null,
            "align_content": null,
            "visibility": null,
            "align_self": null,
            "height": null,
            "min_height": null,
            "padding": null,
            "grid_auto_rows": null,
            "grid_gap": null,
            "max_width": null,
            "order": null,
            "_view_module_version": "1.2.0",
            "grid_template_areas": null,
            "object_position": null,
            "object_fit": null,
            "grid_auto_columns": null,
            "margin": null,
            "display": null,
            "left": null
          }
        },
        "1a86156ad88f4df489c0913df74e0dbe": {
          "model_module": "@jupyter-widgets/controls",
          "model_name": "LabelModel",
          "model_module_version": "1.5.0",
          "state": {
            "_view_name": "LabelView",
            "style": "IPY_MODEL_da3c8f48be6e4bb7be129564caddcd31",
            "_dom_classes": [],
            "description": "",
            "_model_name": "LabelModel",
            "placeholder": "​",
            "_view_module": "@jupyter-widgets/controls",
            "_model_module_version": "1.5.0",
            "value": " 0.01MB of 0.01MB uploaded (0.00MB deduped)\r",
            "_view_count": null,
            "_view_module_version": "1.5.0",
            "description_tooltip": null,
            "_model_module": "@jupyter-widgets/controls",
            "layout": "IPY_MODEL_785fd83e74da4b8183754b3ccfa3f07b"
          }
        },
        "331a36c58f9f4f61990f12c3daba1017": {
          "model_module": "@jupyter-widgets/controls",
          "model_name": "FloatProgressModel",
          "model_module_version": "1.5.0",
          "state": {
            "_view_name": "ProgressView",
            "style": "IPY_MODEL_ff5d6cef37c942c2aa7f1b6c56c1c288",
            "_dom_classes": [],
            "description": "",
            "_model_name": "FloatProgressModel",
            "bar_style": "",
            "max": 1,
            "_view_module": "@jupyter-widgets/controls",
            "_model_module_version": "1.5.0",
            "value": 1,
            "_view_count": null,
            "_view_module_version": "1.5.0",
            "orientation": "horizontal",
            "min": 0,
            "description_tooltip": null,
            "_model_module": "@jupyter-widgets/controls",
            "layout": "IPY_MODEL_9cf4b16dd14148c3a33736a87886c141"
          }
        },
        "da3c8f48be6e4bb7be129564caddcd31": {
          "model_module": "@jupyter-widgets/controls",
          "model_name": "DescriptionStyleModel",
          "model_module_version": "1.5.0",
          "state": {
            "_view_name": "StyleView",
            "_model_name": "DescriptionStyleModel",
            "description_width": "",
            "_view_module": "@jupyter-widgets/base",
            "_model_module_version": "1.5.0",
            "_view_count": null,
            "_view_module_version": "1.2.0",
            "_model_module": "@jupyter-widgets/controls"
          }
        },
        "785fd83e74da4b8183754b3ccfa3f07b": {
          "model_module": "@jupyter-widgets/base",
          "model_name": "LayoutModel",
          "model_module_version": "1.2.0",
          "state": {
            "_view_name": "LayoutView",
            "grid_template_rows": null,
            "right": null,
            "justify_content": null,
            "_view_module": "@jupyter-widgets/base",
            "overflow": null,
            "_model_module_version": "1.2.0",
            "_view_count": null,
            "flex_flow": null,
            "width": null,
            "min_width": null,
            "border": null,
            "align_items": null,
            "bottom": null,
            "_model_module": "@jupyter-widgets/base",
            "top": null,
            "grid_column": null,
            "overflow_y": null,
            "overflow_x": null,
            "grid_auto_flow": null,
            "grid_area": null,
            "grid_template_columns": null,
            "flex": null,
            "_model_name": "LayoutModel",
            "justify_items": null,
            "grid_row": null,
            "max_height": null,
            "align_content": null,
            "visibility": null,
            "align_self": null,
            "height": null,
            "min_height": null,
            "padding": null,
            "grid_auto_rows": null,
            "grid_gap": null,
            "max_width": null,
            "order": null,
            "_view_module_version": "1.2.0",
            "grid_template_areas": null,
            "object_position": null,
            "object_fit": null,
            "grid_auto_columns": null,
            "margin": null,
            "display": null,
            "left": null
          }
        },
        "ff5d6cef37c942c2aa7f1b6c56c1c288": {
          "model_module": "@jupyter-widgets/controls",
          "model_name": "ProgressStyleModel",
          "model_module_version": "1.5.0",
          "state": {
            "_view_name": "StyleView",
            "_model_name": "ProgressStyleModel",
            "description_width": "",
            "_view_module": "@jupyter-widgets/base",
            "_model_module_version": "1.5.0",
            "_view_count": null,
            "_view_module_version": "1.2.0",
            "bar_color": null,
            "_model_module": "@jupyter-widgets/controls"
          }
        },
        "9cf4b16dd14148c3a33736a87886c141": {
          "model_module": "@jupyter-widgets/base",
          "model_name": "LayoutModel",
          "model_module_version": "1.2.0",
          "state": {
            "_view_name": "LayoutView",
            "grid_template_rows": null,
            "right": null,
            "justify_content": null,
            "_view_module": "@jupyter-widgets/base",
            "overflow": null,
            "_model_module_version": "1.2.0",
            "_view_count": null,
            "flex_flow": null,
            "width": null,
            "min_width": null,
            "border": null,
            "align_items": null,
            "bottom": null,
            "_model_module": "@jupyter-widgets/base",
            "top": null,
            "grid_column": null,
            "overflow_y": null,
            "overflow_x": null,
            "grid_auto_flow": null,
            "grid_area": null,
            "grid_template_columns": null,
            "flex": null,
            "_model_name": "LayoutModel",
            "justify_items": null,
            "grid_row": null,
            "max_height": null,
            "align_content": null,
            "visibility": null,
            "align_self": null,
            "height": null,
            "min_height": null,
            "padding": null,
            "grid_auto_rows": null,
            "grid_gap": null,
            "max_width": null,
            "order": null,
            "_view_module_version": "1.2.0",
            "grid_template_areas": null,
            "object_position": null,
            "object_fit": null,
            "grid_auto_columns": null,
            "margin": null,
            "display": null,
            "left": null
          }
        },
        "b6aac905beb44719b6b1bae13a1c55ba": {
          "model_module": "@jupyter-widgets/controls",
          "model_name": "VBoxModel",
          "model_module_version": "1.5.0",
          "state": {
            "_view_name": "VBoxView",
            "_dom_classes": [],
            "_model_name": "VBoxModel",
            "_view_module": "@jupyter-widgets/controls",
            "_model_module_version": "1.5.0",
            "_view_count": null,
            "_view_module_version": "1.5.0",
            "box_style": "",
            "layout": "IPY_MODEL_2195c0b1dc0442fea34b3bdf4f5f38a1",
            "_model_module": "@jupyter-widgets/controls",
            "children": [
              "IPY_MODEL_e05bef5b68b4474d80cb6f25099c6cbd",
              "IPY_MODEL_700b1d0ffcc441c2b65e5004eadd0687"
            ]
          }
        },
        "2195c0b1dc0442fea34b3bdf4f5f38a1": {
          "model_module": "@jupyter-widgets/base",
          "model_name": "LayoutModel",
          "model_module_version": "1.2.0",
          "state": {
            "_view_name": "LayoutView",
            "grid_template_rows": null,
            "right": null,
            "justify_content": null,
            "_view_module": "@jupyter-widgets/base",
            "overflow": null,
            "_model_module_version": "1.2.0",
            "_view_count": null,
            "flex_flow": null,
            "width": null,
            "min_width": null,
            "border": null,
            "align_items": null,
            "bottom": null,
            "_model_module": "@jupyter-widgets/base",
            "top": null,
            "grid_column": null,
            "overflow_y": null,
            "overflow_x": null,
            "grid_auto_flow": null,
            "grid_area": null,
            "grid_template_columns": null,
            "flex": null,
            "_model_name": "LayoutModel",
            "justify_items": null,
            "grid_row": null,
            "max_height": null,
            "align_content": null,
            "visibility": null,
            "align_self": null,
            "height": null,
            "min_height": null,
            "padding": null,
            "grid_auto_rows": null,
            "grid_gap": null,
            "max_width": null,
            "order": null,
            "_view_module_version": "1.2.0",
            "grid_template_areas": null,
            "object_position": null,
            "object_fit": null,
            "grid_auto_columns": null,
            "margin": null,
            "display": null,
            "left": null
          }
        },
        "e05bef5b68b4474d80cb6f25099c6cbd": {
          "model_module": "@jupyter-widgets/controls",
          "model_name": "LabelModel",
          "model_module_version": "1.5.0",
          "state": {
            "_view_name": "LabelView",
            "style": "IPY_MODEL_6c7455238bfd4317b45e621f40c4c95d",
            "_dom_classes": [],
            "description": "",
            "_model_name": "LabelModel",
            "placeholder": "​",
            "_view_module": "@jupyter-widgets/controls",
            "_model_module_version": "1.5.0",
            "value": " 0.01MB of 0.01MB uploaded (0.00MB deduped)\r",
            "_view_count": null,
            "_view_module_version": "1.5.0",
            "description_tooltip": null,
            "_model_module": "@jupyter-widgets/controls",
            "layout": "IPY_MODEL_60b5f671a184414ca08fb2540560b91b"
          }
        },
        "700b1d0ffcc441c2b65e5004eadd0687": {
          "model_module": "@jupyter-widgets/controls",
          "model_name": "FloatProgressModel",
          "model_module_version": "1.5.0",
          "state": {
            "_view_name": "ProgressView",
            "style": "IPY_MODEL_52303c1a372b4c739e25dd919fac204b",
            "_dom_classes": [],
            "description": "",
            "_model_name": "FloatProgressModel",
            "bar_style": "",
            "max": 1,
            "_view_module": "@jupyter-widgets/controls",
            "_model_module_version": "1.5.0",
            "value": 1,
            "_view_count": null,
            "_view_module_version": "1.5.0",
            "orientation": "horizontal",
            "min": 0,
            "description_tooltip": null,
            "_model_module": "@jupyter-widgets/controls",
            "layout": "IPY_MODEL_5ab603352d594d67bcba15de2a07c414"
          }
        },
        "6c7455238bfd4317b45e621f40c4c95d": {
          "model_module": "@jupyter-widgets/controls",
          "model_name": "DescriptionStyleModel",
          "model_module_version": "1.5.0",
          "state": {
            "_view_name": "StyleView",
            "_model_name": "DescriptionStyleModel",
            "description_width": "",
            "_view_module": "@jupyter-widgets/base",
            "_model_module_version": "1.5.0",
            "_view_count": null,
            "_view_module_version": "1.2.0",
            "_model_module": "@jupyter-widgets/controls"
          }
        },
        "60b5f671a184414ca08fb2540560b91b": {
          "model_module": "@jupyter-widgets/base",
          "model_name": "LayoutModel",
          "model_module_version": "1.2.0",
          "state": {
            "_view_name": "LayoutView",
            "grid_template_rows": null,
            "right": null,
            "justify_content": null,
            "_view_module": "@jupyter-widgets/base",
            "overflow": null,
            "_model_module_version": "1.2.0",
            "_view_count": null,
            "flex_flow": null,
            "width": null,
            "min_width": null,
            "border": null,
            "align_items": null,
            "bottom": null,
            "_model_module": "@jupyter-widgets/base",
            "top": null,
            "grid_column": null,
            "overflow_y": null,
            "overflow_x": null,
            "grid_auto_flow": null,
            "grid_area": null,
            "grid_template_columns": null,
            "flex": null,
            "_model_name": "LayoutModel",
            "justify_items": null,
            "grid_row": null,
            "max_height": null,
            "align_content": null,
            "visibility": null,
            "align_self": null,
            "height": null,
            "min_height": null,
            "padding": null,
            "grid_auto_rows": null,
            "grid_gap": null,
            "max_width": null,
            "order": null,
            "_view_module_version": "1.2.0",
            "grid_template_areas": null,
            "object_position": null,
            "object_fit": null,
            "grid_auto_columns": null,
            "margin": null,
            "display": null,
            "left": null
          }
        },
        "52303c1a372b4c739e25dd919fac204b": {
          "model_module": "@jupyter-widgets/controls",
          "model_name": "ProgressStyleModel",
          "model_module_version": "1.5.0",
          "state": {
            "_view_name": "StyleView",
            "_model_name": "ProgressStyleModel",
            "description_width": "",
            "_view_module": "@jupyter-widgets/base",
            "_model_module_version": "1.5.0",
            "_view_count": null,
            "_view_module_version": "1.2.0",
            "bar_color": null,
            "_model_module": "@jupyter-widgets/controls"
          }
        },
        "5ab603352d594d67bcba15de2a07c414": {
          "model_module": "@jupyter-widgets/base",
          "model_name": "LayoutModel",
          "model_module_version": "1.2.0",
          "state": {
            "_view_name": "LayoutView",
            "grid_template_rows": null,
            "right": null,
            "justify_content": null,
            "_view_module": "@jupyter-widgets/base",
            "overflow": null,
            "_model_module_version": "1.2.0",
            "_view_count": null,
            "flex_flow": null,
            "width": null,
            "min_width": null,
            "border": null,
            "align_items": null,
            "bottom": null,
            "_model_module": "@jupyter-widgets/base",
            "top": null,
            "grid_column": null,
            "overflow_y": null,
            "overflow_x": null,
            "grid_auto_flow": null,
            "grid_area": null,
            "grid_template_columns": null,
            "flex": null,
            "_model_name": "LayoutModel",
            "justify_items": null,
            "grid_row": null,
            "max_height": null,
            "align_content": null,
            "visibility": null,
            "align_self": null,
            "height": null,
            "min_height": null,
            "padding": null,
            "grid_auto_rows": null,
            "grid_gap": null,
            "max_width": null,
            "order": null,
            "_view_module_version": "1.2.0",
            "grid_template_areas": null,
            "object_position": null,
            "object_fit": null,
            "grid_auto_columns": null,
            "margin": null,
            "display": null,
            "left": null
          }
        }
      }
    }
  },
  "cells": [
    {
      "cell_type": "code",
      "source": [
        "!pip3 install git+https://github.com/Intelligent-Systems-Lab/FedML\n"
      ],
      "metadata": {
        "colab": {
          "base_uri": "https://localhost:8080/"
        },
        "id": "emqI0a8vEKcb",
        "outputId": "bfc42599-9181-49f8-c886-08ddaf840ad9"
      },
      "execution_count": 1,
      "outputs": [
        {
          "output_type": "stream",
          "name": "stdout",
          "text": [
            "Collecting git+https://github.com/Intelligent-Systems-Lab/FedML\n",
            "  Cloning https://github.com/Intelligent-Systems-Lab/FedML to /tmp/pip-req-build-cpoln5pa\n",
            "  Running command git clone -q https://github.com/Intelligent-Systems-Lab/FedML /tmp/pip-req-build-cpoln5pa\n",
            "Building wheels for collected packages: FedML\n",
            "  Building wheel for FedML (setup.py) ... \u001b[?25l\u001b[?25hdone\n",
            "  Created wheel for FedML: filename=FedML-0.0.0-py3-none-any.whl size=61594005 sha256=61ab5c5e079aa9b50d871cdfb2e59b32e02edde2d4b776fb97a78852695021ee\n",
            "  Stored in directory: /tmp/pip-ephem-wheel-cache-n7dfffcr/wheels/77/d7/27/9eecf324b75b35ac92998d5105c7fcbd328a851ef1086910cc\n",
            "Successfully built FedML\n",
            "Installing collected packages: FedML\n",
            "Successfully installed FedML-0.0.0\n"
          ]
        }
      ]
    },
    {
      "cell_type": "code",
      "source": [
        "!pip install wandb"
      ],
      "metadata": {
        "colab": {
          "base_uri": "https://localhost:8080/"
        },
        "id": "ZVaWn0dGES_S",
        "outputId": "56abbe1c-19a0-4c70-9203-365787296abc"
      },
      "execution_count": 2,
      "outputs": [
        {
          "output_type": "stream",
          "name": "stdout",
          "text": [
            "Collecting wandb\n",
            "  Downloading wandb-0.12.9-py2.py3-none-any.whl (1.7 MB)\n",
            "\u001b[K     |████████████████████████████████| 1.7 MB 5.4 MB/s \n",
            "\u001b[?25hRequirement already satisfied: protobuf>=3.12.0 in /usr/local/lib/python3.7/dist-packages (from wandb) (3.17.3)\n",
            "Requirement already satisfied: requests<3,>=2.0.0 in /usr/local/lib/python3.7/dist-packages (from wandb) (2.23.0)\n",
            "Collecting docker-pycreds>=0.4.0\n",
            "  Downloading docker_pycreds-0.4.0-py2.py3-none-any.whl (9.0 kB)\n",
            "Collecting yaspin>=1.0.0\n",
            "  Downloading yaspin-2.1.0-py3-none-any.whl (18 kB)\n",
            "Collecting sentry-sdk>=1.0.0\n",
            "  Downloading sentry_sdk-1.5.1-py2.py3-none-any.whl (140 kB)\n",
            "\u001b[K     |████████████████████████████████| 140 kB 48.0 MB/s \n",
            "\u001b[?25hCollecting configparser>=3.8.1\n",
            "  Downloading configparser-5.2.0-py3-none-any.whl (19 kB)\n",
            "Collecting pathtools\n",
            "  Downloading pathtools-0.1.2.tar.gz (11 kB)\n",
            "Collecting GitPython>=1.0.0\n",
            "  Downloading GitPython-3.1.24-py3-none-any.whl (180 kB)\n",
            "\u001b[K     |████████████████████████████████| 180 kB 38.3 MB/s \n",
            "\u001b[?25hCollecting shortuuid>=0.5.0\n",
            "  Downloading shortuuid-1.0.8-py3-none-any.whl (9.5 kB)\n",
            "Requirement already satisfied: six>=1.13.0 in /usr/local/lib/python3.7/dist-packages (from wandb) (1.15.0)\n",
            "Requirement already satisfied: PyYAML in /usr/local/lib/python3.7/dist-packages (from wandb) (3.13)\n",
            "Collecting subprocess32>=3.5.3\n",
            "  Downloading subprocess32-3.5.4.tar.gz (97 kB)\n",
            "\u001b[K     |████████████████████████████████| 97 kB 6.6 MB/s \n",
            "\u001b[?25hRequirement already satisfied: python-dateutil>=2.6.1 in /usr/local/lib/python3.7/dist-packages (from wandb) (2.8.2)\n",
            "Requirement already satisfied: Click!=8.0.0,>=7.0 in /usr/local/lib/python3.7/dist-packages (from wandb) (7.1.2)\n",
            "Requirement already satisfied: promise<3,>=2.0 in /usr/local/lib/python3.7/dist-packages (from wandb) (2.3)\n",
            "Requirement already satisfied: psutil>=5.0.0 in /usr/local/lib/python3.7/dist-packages (from wandb) (5.4.8)\n",
            "Collecting gitdb<5,>=4.0.1\n",
            "  Downloading gitdb-4.0.9-py3-none-any.whl (63 kB)\n",
            "\u001b[K     |████████████████████████████████| 63 kB 1.4 MB/s \n",
            "\u001b[?25hRequirement already satisfied: typing-extensions>=3.7.4.3 in /usr/local/lib/python3.7/dist-packages (from GitPython>=1.0.0->wandb) (3.10.0.2)\n",
            "Collecting smmap<6,>=3.0.1\n",
            "  Downloading smmap-5.0.0-py3-none-any.whl (24 kB)\n",
            "Requirement already satisfied: idna<3,>=2.5 in /usr/local/lib/python3.7/dist-packages (from requests<3,>=2.0.0->wandb) (2.10)\n",
            "Requirement already satisfied: urllib3!=1.25.0,!=1.25.1,<1.26,>=1.21.1 in /usr/local/lib/python3.7/dist-packages (from requests<3,>=2.0.0->wandb) (1.24.3)\n",
            "Requirement already satisfied: chardet<4,>=3.0.2 in /usr/local/lib/python3.7/dist-packages (from requests<3,>=2.0.0->wandb) (3.0.4)\n",
            "Requirement already satisfied: certifi>=2017.4.17 in /usr/local/lib/python3.7/dist-packages (from requests<3,>=2.0.0->wandb) (2021.10.8)\n",
            "Requirement already satisfied: termcolor<2.0.0,>=1.1.0 in /usr/local/lib/python3.7/dist-packages (from yaspin>=1.0.0->wandb) (1.1.0)\n",
            "Building wheels for collected packages: subprocess32, pathtools\n",
            "  Building wheel for subprocess32 (setup.py) ... \u001b[?25l\u001b[?25hdone\n",
            "  Created wheel for subprocess32: filename=subprocess32-3.5.4-py3-none-any.whl size=6502 sha256=e6084c1661c6d047c77052070943c6f82b3e22de82f7bb62b79a320019487b31\n",
            "  Stored in directory: /root/.cache/pip/wheels/50/ca/fa/8fca8d246e64f19488d07567547ddec8eb084e8c0d7a59226a\n",
            "  Building wheel for pathtools (setup.py) ... \u001b[?25l\u001b[?25hdone\n",
            "  Created wheel for pathtools: filename=pathtools-0.1.2-py3-none-any.whl size=8807 sha256=a5347dd3c046cf1d63dd6b45f38012ec693e73d542dc2430a7fd476872cf0591\n",
            "  Stored in directory: /root/.cache/pip/wheels/3e/31/09/fa59cef12cdcfecc627b3d24273699f390e71828921b2cbba2\n",
            "Successfully built subprocess32 pathtools\n",
            "Installing collected packages: smmap, gitdb, yaspin, subprocess32, shortuuid, sentry-sdk, pathtools, GitPython, docker-pycreds, configparser, wandb\n",
            "Successfully installed GitPython-3.1.24 configparser-5.2.0 docker-pycreds-0.4.0 gitdb-4.0.9 pathtools-0.1.2 sentry-sdk-1.5.1 shortuuid-1.0.8 smmap-5.0.0 subprocess32-3.5.4 wandb-0.12.9 yaspin-2.1.0\n"
          ]
        }
      ]
    },
    {
      "cell_type": "code",
      "source": [
        "!wandb login"
      ],
      "metadata": {
        "colab": {
          "base_uri": "https://localhost:8080/"
        },
        "id": "yeOr3xsGEWI3",
        "outputId": "6d075f79-2b53-46be-f68c-9a8ef552857b"
      },
      "execution_count": 3,
      "outputs": [
        {
          "output_type": "stream",
          "name": "stdout",
          "text": [
            "\u001b[34m\u001b[1mwandb\u001b[0m: You can find your API key in your browser here: https://wandb.ai/authorize\n",
            "\u001b[34m\u001b[1mwandb\u001b[0m: Paste an API key from your profile and hit enter, or press ctrl+c to quit: \n",
            "\u001b[34m\u001b[1mwandb\u001b[0m: Appending key for api.wandb.ai to your netrc file: /root/.netrc\n"
          ]
        }
      ]
    },
    {
      "cell_type": "code",
      "execution_count": null,
      "metadata": {
        "id": "cqLt9nU0DkvU"
      },
      "outputs": [],
      "source": [
        "import argparse\n",
        "import logging\n",
        "import os\n",
        "import random\n",
        "import sys\n",
        "import time\n",
        "import json\n",
        "#from typing_extensions import Required\n",
        "import numpy as np\n",
        "import copy\n",
        "\n",
        "\n",
        "import torch\n",
        "import torchvision\n",
        "from torchvision import transforms\n",
        "from torch.utils.data import SubsetRandomSampler\n",
        "import wandb\n",
        "\n",
        "from dataloader import cifar_dataloaders"
      ]
    },
    {
      "cell_type": "code",
      "source": [
        "from fedml_api.standalone.fedavg.fedavg_api import FedAvgAPI\n",
        "from fedml_api.standalone.fedavg.my_model_trainer_classification import MyModelTrainer\n",
        "from model import Net, resnet56, resnet20"
      ],
      "metadata": {
        "id": "_hg3SrevFPuJ"
      },
      "execution_count": null,
      "outputs": []
    },
    {
      "cell_type": "code",
      "source": [
        "def add_args(parser):\n",
        "    \"\"\"\n",
        "    parser : argparse.ArgumentParser\n",
        "    return a parser added with args required by fit\n",
        "    \"\"\"\n",
        "    # Training settings\n",
        "    parser.add_argument('--wandb_name', type=str, default='lab1',\n",
        "                        help='Name of log file')\n",
        "    \n",
        "    parser.add_argument('--dataset', type=str, default='cifar10', metavar='N',\n",
        "                        help='dataset used for training')\n",
        "\n",
        "    parser.add_argument('--data_dir', type=str, default='./cifar10',\n",
        "                        help='data directory')\n",
        "\n",
        "    parser.add_argument('--batch_size', type=int, default=128, metavar='N',\n",
        "                        help='input batch size for training (default: 64)')\n",
        "\n",
        "    parser.add_argument('--client_optimizer', type=str, default='adam',\n",
        "                        help='SGD with momentum; adam')\n",
        "\n",
        "    parser.add_argument('--lr', type=float, default=0.001, metavar='LR',\n",
        "                        help='learning rate (default: 0.001)')\n",
        "\n",
        "    parser.add_argument('--wd', help='weight decay parameter;', type=float, default=0.001)\n",
        "\n",
        "    parser.add_argument('--epochs', type=int, default=5, metavar='EP',\n",
        "                        help='how many epochs will be trained locally')\n",
        "\n",
        "    parser.add_argument('--client_num_in_total', type=int, default=10, metavar='NN',\n",
        "                        help='number of workers in a distributed cluster')\n",
        "\n",
        "    parser.add_argument('--client_num_per_round', type=int, default=10, metavar='NN',\n",
        "                        help='number of workers')\n",
        "\n",
        "    parser.add_argument('--comm_round', type=int, default=10,\n",
        "                        help='how many round of communications we shoud use')\n",
        "\n",
        "    parser.add_argument('--frequency_of_the_test', type=int, default=5,\n",
        "                        help='the frequency of the algorithms')\n",
        "\n",
        "    parser.add_argument('--gpu', type=int, default=0,\n",
        "                        help='gpu')\n",
        "\n",
        "    parser.add_argument('--ci', type=int, default=0,\n",
        "                        help='CI')\n",
        "                        \n",
        "    parser.add_argument('--seed', type=int, default=0,\n",
        "                        help='seed')\n",
        "    return parser"
      ],
      "metadata": {
        "id": "w2ADPlrHFU6M"
      },
      "execution_count": null,
      "outputs": []
    },
    {
      "cell_type": "code",
      "source": [
        "logging.basicConfig()\n",
        "logger = logging.getLogger()\n",
        "logger.setLevel(logging.DEBUG)\n",
        "\n",
        "parser = add_args(argparse.ArgumentParser(description='FedAvg-standalone'))\n",
        "# parser.add_argument(\"-f\")"
      ],
      "metadata": {
        "id": "cxdMSzz5FfQh"
      },
      "execution_count": null,
      "outputs": []
    },
    {
      "cell_type": "code",
      "source": [
        "args = parser.parse_args()\n",
        "logger.info(args)\n",
        "device = torch.device(\"cuda:\" + str(args.gpu) if torch.cuda.is_available() else \"cpu\")\n",
        "logger.info(device)"
      ],
      "metadata": {
        "colab": {
          "base_uri": "https://localhost:8080/",
          "height": 321
        },
        "id": "y_xuhYhCGHBs",
        "outputId": "5d2dda91-b273-4d22-d55f-a02bf62db310"
      },
      "execution_count": null,
      "outputs": [
        {
          "output_type": "stream",
          "name": "stderr",
          "text": [
            "usage: ipykernel_launcher.py [-h] [--wandb_name WANDB_NAME] [--dataset N]\n",
            "                             [--data_dir DATA_DIR] [--batch_size N]\n",
            "                             [--client_optimizer CLIENT_OPTIMIZER] [--lr LR]\n",
            "                             [--wd WD] [--epochs EP]\n",
            "                             [--client_num_in_total NN]\n",
            "                             [--client_num_per_round NN]\n",
            "                             [--comm_round COMM_ROUND]\n",
            "                             [--frequency_of_the_test FREQUENCY_OF_THE_TEST]\n",
            "                             [--gpu GPU] [--ci CI] [--seed SEED]\n",
            "ipykernel_launcher.py: error: unrecognized arguments: -f /root/.local/share/jupyter/runtime/kernel-bb55130a-b2fc-4443-9a81-924e57d4acea.json\n"
          ]
        },
        {
          "output_type": "error",
          "ename": "SystemExit",
          "evalue": "ignored",
          "traceback": [
            "An exception has occurred, use %tb to see the full traceback.\n",
            "\u001b[0;31mSystemExit\u001b[0m\u001b[0;31m:\u001b[0m 2\n"
          ]
        },
        {
          "output_type": "stream",
          "name": "stderr",
          "text": [
            "/usr/local/lib/python3.7/dist-packages/IPython/core/interactiveshell.py:2890: UserWarning: To exit: use 'exit', 'quit', or Ctrl-D.\n",
            "  warn(\"To exit: use 'exit', 'quit', or Ctrl-D.\", stacklevel=1)\n"
          ]
        }
      ]
    },
    {
      "cell_type": "code",
      "source": [
        "wandb.init(\n",
        "    project=\"fedml\",\n",
        "    name=args.wandb_name,\n",
        "    config=args\n",
        ")\n",
        "\n",
        "random.seed(args.seed)\n",
        "np.random.seed(args.seed)\n",
        "torch.manual_seed(args.seed)\n",
        "torch.cuda.manual_seed_all(args.seed)\n",
        "torch.backends.cudnn.deterministic = True"
      ],
      "metadata": {
        "id": "HSVKVY4mGJ7u"
      },
      "execution_count": null,
      "outputs": []
    },
    {
      "cell_type": "code",
      "source": [
        ""
      ],
      "metadata": {
        "id": "fVLjWJ-rFWEr"
      },
      "execution_count": null,
      "outputs": []
    },
    {
      "cell_type": "code",
      "source": [
        "import wandb\n",
        "\n",
        "wandb.init(project=\"lab1\", entity=\"duygu\")"
      ],
      "metadata": {
        "colab": {
          "base_uri": "https://localhost:8080/",
          "height": 177
        },
        "id": "C8vLEqx7HXTI",
        "outputId": "9d37f02b-2a69-4254-a6aa-9741166b97f9"
      },
      "execution_count": null,
      "outputs": [
        {
          "output_type": "stream",
          "name": "stderr",
          "text": [
            "DEBUG:urllib3.connectionpool:Starting new HTTP connection (1): 172.28.0.2:9000\n",
            "DEBUG:urllib3.connectionpool:http://172.28.0.2:9000 \"GET /api/sessions?token= HTTP/1.1\" 200 410\n",
            "DEBUG:urllib3.connectionpool:Starting new HTTPS connection (1): api.wandb.ai:443\n",
            "DEBUG:urllib3.connectionpool:https://api.wandb.ai:443 \"POST /graphql HTTP/1.1\" 200 None\n",
            "DEBUG:urllib3.connectionpool:Starting new HTTPS connection (1): api.wandb.ai:443\n",
            "DEBUG:urllib3.connectionpool:https://api.wandb.ai:443 \"POST /graphql HTTP/1.1\" 200 None\n",
            "\u001b[34m\u001b[1mwandb\u001b[0m: Currently logged in as: \u001b[33mduygu\u001b[0m (use `wandb login --relogin` to force relogin)\n"
          ]
        },
        {
          "output_type": "display_data",
          "data": {
            "text/html": [
              "\n",
              "                    Syncing run <strong><a href=\"https://wandb.ai/duygu/lab1/runs/246z892e\" target=\"_blank\">dark-gorge-1</a></strong> to <a href=\"https://wandb.ai/duygu/lab1\" target=\"_blank\">Weights & Biases</a> (<a href=\"https://docs.wandb.com/integrations/jupyter.html\" target=\"_blank\">docs</a>).<br/>\n",
              "\n",
              "                "
            ],
            "text/plain": [
              "<IPython.core.display.HTML object>"
            ]
          },
          "metadata": {}
        },
        {
          "output_type": "execute_result",
          "data": {
            "text/plain": [
              "<wandb.sdk.wandb_run.Run at 0x7f2a3d2dd550>"
            ],
            "text/html": [
              "<button onClick=\"this.nextSibling.style.display='block';this.style.display='none';\">Display W&B run</button><iframe src=\"https://wandb.ai/duygu/lab1/runs/246z892e?jupyter=true\" style=\"border:none;width:100%;height:420px;display:none;\"></iframe>"
            ]
          },
          "metadata": {},
          "execution_count": 23
        }
      ]
    },
    {
      "cell_type": "code",
      "source": [
        "wandb.config = {\n",
        "  \"learning_rate\": 0.001,\n",
        "  \"epochs\": 100,\n",
        "  \"batch_size\": 128\n",
        "}"
      ],
      "metadata": {
        "id": "bJ6WwdafHc8Z"
      },
      "execution_count": null,
      "outputs": []
    },
    {
      "cell_type": "code",
      "source": [
        "torch.cuda.is_available()"
      ],
      "metadata": {
        "colab": {
          "base_uri": "https://localhost:8080/"
        },
        "id": "PVBat1QKIqLV",
        "outputId": "01d6ae27-21c2-453f-b0ac-e8e0ebaa0b21"
      },
      "execution_count": null,
      "outputs": [
        {
          "output_type": "execute_result",
          "data": {
            "text/plain": [
              "True"
            ]
          },
          "metadata": {},
          "execution_count": 33
        }
      ]
    },
    {
      "cell_type": "code",
      "source": [
        "device = torch.device(\"cuda:0\" if torch.cuda.is_available() else \"cpu\")"
      ],
      "metadata": {
        "id": "VYEe1AilIfMC"
      },
      "execution_count": null,
      "outputs": []
    },
    {
      "cell_type": "code",
      "source": [
        "dataset = cifar_dataloaders(root=\"./cifar10\", index_path=\"./index.json\", batch_size=128, show=True)"
      ],
      "metadata": {
        "colab": {
          "base_uri": "https://localhost:8080/",
          "height": 448,
          "referenced_widgets": [
            "0f5e14ce43e84a569214feaab6dfedef",
            "3d48632a7ae945c4bcc24e7e2b907761",
            "0bc4b645906e409983319f07b8839f4a",
            "2be2c844414549059f0aca13c7ccae54",
            "b90be48140b54c37972e0c7b07475efb",
            "5f34fe1c1b57454a8ba26259ddc1017d",
            "1331173b0535445fa186a0eaef836cb8",
            "bde618262de042598f08a2265d7cd411",
            "ce5053fa1a714022aaac27148dba8f94",
            "c0150b64e1104958a51d5f033161e072",
            "65b1563e5aab415fa9767f5acbf8881f"
          ]
        },
        "id": "Tzhf-O3AHm8C",
        "outputId": "8446943a-6213-41e8-e7f7-796d706e48b4"
      },
      "execution_count": null,
      "outputs": [
        {
          "output_type": "stream",
          "name": "stdout",
          "text": [
            "Downloading https://www.cs.toronto.edu/~kriz/cifar-10-python.tar.gz to ./cifar10/cifar-10-python.tar.gz\n"
          ]
        },
        {
          "output_type": "display_data",
          "data": {
            "application/vnd.jupyter.widget-view+json": {
              "model_id": "0f5e14ce43e84a569214feaab6dfedef",
              "version_minor": 0,
              "version_major": 2
            },
            "text/plain": [
              "  0%|          | 0/170498071 [00:00<?, ?it/s]"
            ]
          },
          "metadata": {}
        },
        {
          "output_type": "stream",
          "name": "stdout",
          "text": [
            "Extracting ./cifar10/cifar-10-python.tar.gz to ./cifar10\n",
            "Files already downloaded and verified\n",
            "client: 0 , [250, 250, 250, 250, 250, 250, 250, 250, 250, 250], sum: 2500\n",
            "client: 1 , [250, 250, 250, 250, 250, 250, 250, 250, 250, 250], sum: 2500\n",
            "client: 2 , [250, 250, 250, 250, 250, 250, 250, 250, 250, 250], sum: 2500\n",
            "client: 3 , [250, 250, 250, 250, 250, 250, 250, 250, 250, 250], sum: 2500\n",
            "client: 4 , [250, 250, 250, 250, 250, 250, 250, 250, 250, 250], sum: 2500\n",
            "client: 5 , [250, 250, 250, 250, 250, 250, 250, 250, 250, 250], sum: 2500\n",
            "client: 6 , [250, 250, 250, 250, 250, 250, 250, 250, 250, 250], sum: 2500\n",
            "client: 7 , [250, 250, 250, 250, 250, 250, 250, 250, 250, 250], sum: 2500\n",
            "client: 8 , [250, 250, 250, 250, 250, 250, 250, 250, 250, 250], sum: 2500\n",
            "client: 9 , [250, 250, 250, 250, 250, 250, 250, 250, 250, 250], sum: 2500\n",
            "client: 10 , [250, 250, 250, 250, 250, 250, 250, 250, 250, 250], sum: 2500\n",
            "client: 11 , [250, 250, 250, 250, 250, 250, 250, 250, 250, 250], sum: 2500\n",
            "client: 12 , [250, 250, 250, 250, 250, 250, 250, 250, 250, 250], sum: 2500\n",
            "client: 13 , [250, 250, 250, 250, 250, 250, 250, 250, 250, 250], sum: 2500\n",
            "client: 14 , [250, 250, 250, 250, 250, 250, 250, 250, 250, 250], sum: 2500\n",
            "client: 15 , [250, 250, 250, 250, 250, 250, 250, 250, 250, 250], sum: 2500\n",
            "client: 16 , [250, 250, 250, 250, 250, 250, 250, 250, 250, 250], sum: 2500\n",
            "client: 17 , [250, 250, 250, 250, 250, 250, 250, 250, 250, 250], sum: 2500\n",
            "client: 18 , [250, 250, 250, 250, 250, 250, 250, 250, 250, 250], sum: 2500\n",
            "client: 19 , [250, 250, 250, 250, 250, 250, 250, 250, 250, 250], sum: 2500\n"
          ]
        }
      ]
    },
    {
      "cell_type": "code",
      "source": [
        "model = resnet20()"
      ],
      "metadata": {
        "id": "YvDk5dWVIBT3"
      },
      "execution_count": null,
      "outputs": []
    },
    {
      "cell_type": "code",
      "source": [
        "dummy_opt = torch.optim.SGD(copy.deepcopy(model).parameters(), lr=0.001)\n",
        "dummy_scheduler = torch.optim.lr_scheduler.StepLR(optimizer=dummy_opt, \n",
        "                                                step_size = 10/5,\n",
        "                                                gamma = 0.5)\n",
        "model_trainer = MyModelTrainer(model)"
      ],
      "metadata": {
        "id": "WKFD4c5xIF9G"
      },
      "execution_count": null,
      "outputs": []
    },
    {
      "cell_type": "code",
      "source": [
        "from types import SimpleNamespace\n",
        "\n",
        "d = {\n",
        "  'epochs': 5,\n",
        "  'batch_size': 128,\n",
        "  'client_num_per_round': 10,\n",
        "  'comm_round': 10,\n",
        "  'client_num_in_total': 10,\n",
        "  'client_optimizer' : 'adam',\n",
        "  'lr': 0.001,\n",
        "  'wd': 0.001,\n",
        "  'frequency_of_the_test': 5, \n",
        "  'dataset':  'cifar10',\n",
        "  'data_dir': './cifar10',\n",
        "  'gpu': 0,\n",
        "  'ci': 0,\n",
        "  'seed': 0\n",
        "}\n",
        "\n",
        "args = SimpleNamespace(**d)"
      ],
      "metadata": {
        "id": "NVomuW2dJQQQ"
      },
      "execution_count": null,
      "outputs": []
    },
    {
      "cell_type": "code",
      "source": [
        "args.epochs"
      ],
      "metadata": {
        "colab": {
          "base_uri": "https://localhost:8080/"
        },
        "id": "7YTvhUIqLT0c",
        "outputId": "d0eab591-93b9-4938-8194-16bfdc1fe417"
      },
      "execution_count": null,
      "outputs": [
        {
          "output_type": "execute_result",
          "data": {
            "text/plain": [
              "5"
            ]
          },
          "metadata": {},
          "execution_count": 60
        }
      ]
    },
    {
      "cell_type": "code",
      "source": [
        "fedavgAPI = FedAvgAPI(dataset, device, args , model_trainer, scheduler=dummy_scheduler)"
      ],
      "metadata": {
        "colab": {
          "base_uri": "https://localhost:8080/"
        },
        "id": "EWRAnQFAIUep",
        "outputId": "054372b0-2345-4d6e-ede2-668feb06d412"
      },
      "execution_count": null,
      "outputs": [
        {
          "output_type": "stream",
          "name": "stderr",
          "text": [
            "INFO:root:############setup_clients (START)#############\n",
            "INFO:root:self.local_sample_number = 50000\n",
            "INFO:root:self.local_sample_number = 50000\n",
            "INFO:root:self.local_sample_number = 50000\n",
            "INFO:root:self.local_sample_number = 50000\n",
            "INFO:root:self.local_sample_number = 50000\n",
            "INFO:root:self.local_sample_number = 50000\n",
            "INFO:root:self.local_sample_number = 50000\n",
            "INFO:root:self.local_sample_number = 50000\n",
            "INFO:root:self.local_sample_number = 50000\n",
            "INFO:root:self.local_sample_number = 50000\n",
            "INFO:root:############setup_clients (END)#############\n"
          ]
        }
      ]
    },
    {
      "cell_type": "code",
      "source": [
        "fedavgAPI.train()"
      ],
      "metadata": {
        "colab": {
          "base_uri": "https://localhost:8080/"
        },
        "id": "EKbmPi5AIV6B",
        "outputId": "060ba0b4-4079-4c07-c66b-5ee57a626deb"
      },
      "execution_count": null,
      "outputs": [
        {
          "output_type": "stream",
          "name": "stderr",
          "text": [
            "INFO:root:################Communication round : 0\n",
            "INFO:root:client_indexes = [0, 1, 2, 3, 4, 5, 6, 7, 8, 9]\n",
            "/usr/local/lib/python3.7/dist-packages/torch/optim/lr_scheduler.py:370: UserWarning: To get the last learning rate computed by the scheduler, please use `get_last_lr()`.\n",
            "  \"please use `get_last_lr()`.\", UserWarning)\n",
            "INFO:root:Client Index = 0\tEpoch: 0\tLoss: 1.427630\n",
            "INFO:root:Client Index = 0\tEpoch: 1\tLoss: 1.383669\n",
            "INFO:root:Client Index = 0\tEpoch: 2\tLoss: 1.353133\n",
            "INFO:root:Client Index = 0\tEpoch: 3\tLoss: 1.320830\n",
            "INFO:root:Client Index = 0\tEpoch: 4\tLoss: 1.293594\n",
            "INFO:root:Client Index = 1\tEpoch: 0\tLoss: 1.420495\n",
            "INFO:root:Client Index = 1\tEpoch: 1\tLoss: 1.363849\n",
            "INFO:root:Client Index = 1\tEpoch: 2\tLoss: 1.330737\n",
            "INFO:root:Client Index = 1\tEpoch: 3\tLoss: 1.297606\n",
            "INFO:root:Client Index = 1\tEpoch: 4\tLoss: 1.275348\n",
            "INFO:root:Client Index = 2\tEpoch: 0\tLoss: 1.448472\n",
            "INFO:root:Client Index = 2\tEpoch: 1\tLoss: 1.397231\n",
            "INFO:root:Client Index = 2\tEpoch: 2\tLoss: 1.359619\n",
            "INFO:root:Client Index = 2\tEpoch: 3\tLoss: 1.330467\n",
            "INFO:root:Client Index = 2\tEpoch: 4\tLoss: 1.301639\n",
            "INFO:root:Client Index = 3\tEpoch: 0\tLoss: 1.434174\n",
            "INFO:root:Client Index = 3\tEpoch: 1\tLoss: 1.374107\n",
            "INFO:root:Client Index = 3\tEpoch: 2\tLoss: 1.339627\n",
            "INFO:root:Client Index = 3\tEpoch: 3\tLoss: 1.310382\n",
            "INFO:root:Client Index = 3\tEpoch: 4\tLoss: 1.286769\n",
            "INFO:root:Client Index = 4\tEpoch: 0\tLoss: 1.436390\n",
            "INFO:root:Client Index = 4\tEpoch: 1\tLoss: 1.388029\n",
            "INFO:root:Client Index = 4\tEpoch: 2\tLoss: 1.351927\n",
            "INFO:root:Client Index = 4\tEpoch: 3\tLoss: 1.324364\n",
            "INFO:root:Client Index = 4\tEpoch: 4\tLoss: 1.297856\n",
            "INFO:root:Client Index = 5\tEpoch: 0\tLoss: 1.424460\n",
            "INFO:root:Client Index = 5\tEpoch: 1\tLoss: 1.382644\n",
            "INFO:root:Client Index = 5\tEpoch: 2\tLoss: 1.337338\n",
            "INFO:root:Client Index = 5\tEpoch: 3\tLoss: 1.302636\n",
            "INFO:root:Client Index = 5\tEpoch: 4\tLoss: 1.279386\n",
            "INFO:root:Client Index = 6\tEpoch: 0\tLoss: 1.440292\n",
            "INFO:root:Client Index = 6\tEpoch: 1\tLoss: 1.383141\n",
            "INFO:root:Client Index = 6\tEpoch: 2\tLoss: 1.344667\n",
            "INFO:root:Client Index = 6\tEpoch: 3\tLoss: 1.308908\n",
            "INFO:root:Client Index = 6\tEpoch: 4\tLoss: 1.281059\n",
            "INFO:root:Client Index = 7\tEpoch: 0\tLoss: 1.434052\n",
            "INFO:root:Client Index = 7\tEpoch: 1\tLoss: 1.387920\n",
            "INFO:root:Client Index = 7\tEpoch: 2\tLoss: 1.347612\n",
            "INFO:root:Client Index = 7\tEpoch: 3\tLoss: 1.316003\n",
            "INFO:root:Client Index = 7\tEpoch: 4\tLoss: 1.290857\n",
            "INFO:root:Client Index = 8\tEpoch: 0\tLoss: 1.445919\n",
            "INFO:root:Client Index = 8\tEpoch: 1\tLoss: 1.399827\n",
            "INFO:root:Client Index = 8\tEpoch: 2\tLoss: 1.363375\n",
            "INFO:root:Client Index = 8\tEpoch: 3\tLoss: 1.327885\n",
            "INFO:root:Client Index = 8\tEpoch: 4\tLoss: 1.298809\n",
            "INFO:root:Client Index = 9\tEpoch: 0\tLoss: 1.462783\n",
            "INFO:root:Client Index = 9\tEpoch: 1\tLoss: 1.419174\n",
            "INFO:root:Client Index = 9\tEpoch: 2\tLoss: 1.375390\n",
            "INFO:root:Client Index = 9\tEpoch: 3\tLoss: 1.343262\n",
            "INFO:root:Client Index = 9\tEpoch: 4\tLoss: 1.314734\n",
            "INFO:root:################local_test_on_all_clients : 0\n",
            "INFO:root:{'training_acc': 0.5708, 'training_loss': 1.1948847485542298}\n",
            "INFO:root:{'test_acc': 0.55125, 'test_loss': 1.2346926487159728}\n",
            "/usr/local/lib/python3.7/dist-packages/torch/optim/lr_scheduler.py:134: UserWarning: Detected call of `lr_scheduler.step()` before `optimizer.step()`. In PyTorch 1.1.0 and later, you should call them in the opposite order: `optimizer.step()` before `lr_scheduler.step()`.  Failure to do this will result in PyTorch skipping the first value of the learning rate schedule. See more details at https://pytorch.org/docs/stable/optim.html#how-to-adjust-learning-rate\n",
            "  \"https://pytorch.org/docs/stable/optim.html#how-to-adjust-learning-rate\", UserWarning)\n",
            "INFO:root:################Communication round : 1\n",
            "INFO:root:client_indexes = [0, 1, 2, 3, 4, 5, 6, 7, 8, 9]\n",
            "INFO:root:Client Index = 0\tEpoch: 0\tLoss: 1.343267\n",
            "INFO:root:Client Index = 0\tEpoch: 1\tLoss: 1.277785\n",
            "INFO:root:Client Index = 0\tEpoch: 2\tLoss: 1.242038\n",
            "INFO:root:Client Index = 0\tEpoch: 3\tLoss: 1.216854\n",
            "INFO:root:Client Index = 0\tEpoch: 4\tLoss: 1.189424\n",
            "INFO:root:Client Index = 1\tEpoch: 0\tLoss: 1.298194\n",
            "INFO:root:Client Index = 1\tEpoch: 1\tLoss: 1.253087\n",
            "INFO:root:Client Index = 1\tEpoch: 2\tLoss: 1.220608\n",
            "INFO:root:Client Index = 1\tEpoch: 3\tLoss: 1.192343\n",
            "INFO:root:Client Index = 1\tEpoch: 4\tLoss: 1.165474\n",
            "INFO:root:Client Index = 2\tEpoch: 0\tLoss: 1.325602\n",
            "INFO:root:Client Index = 2\tEpoch: 1\tLoss: 1.279186\n",
            "INFO:root:Client Index = 2\tEpoch: 2\tLoss: 1.234990\n",
            "INFO:root:Client Index = 2\tEpoch: 3\tLoss: 1.209612\n",
            "INFO:root:Client Index = 2\tEpoch: 4\tLoss: 1.184747\n",
            "INFO:root:Client Index = 3\tEpoch: 0\tLoss: 1.282372\n",
            "INFO:root:Client Index = 3\tEpoch: 1\tLoss: 1.228813\n",
            "INFO:root:Client Index = 3\tEpoch: 2\tLoss: 1.190524\n",
            "INFO:root:Client Index = 3\tEpoch: 3\tLoss: 1.160737\n",
            "INFO:root:Client Index = 3\tEpoch: 4\tLoss: 1.131972\n",
            "INFO:root:Client Index = 4\tEpoch: 0\tLoss: 1.308578\n",
            "INFO:root:Client Index = 4\tEpoch: 1\tLoss: 1.250129\n",
            "INFO:root:Client Index = 4\tEpoch: 2\tLoss: 1.209538\n",
            "INFO:root:Client Index = 4\tEpoch: 3\tLoss: 1.181435\n",
            "INFO:root:Client Index = 4\tEpoch: 4\tLoss: 1.152926\n",
            "INFO:root:Client Index = 5\tEpoch: 0\tLoss: 1.289515\n",
            "INFO:root:Client Index = 5\tEpoch: 1\tLoss: 1.234078\n",
            "INFO:root:Client Index = 5\tEpoch: 2\tLoss: 1.201049\n",
            "INFO:root:Client Index = 5\tEpoch: 3\tLoss: 1.173404\n",
            "INFO:root:Client Index = 5\tEpoch: 4\tLoss: 1.143570\n",
            "INFO:root:Client Index = 6\tEpoch: 0\tLoss: 1.301559\n",
            "INFO:root:Client Index = 6\tEpoch: 1\tLoss: 1.244278\n",
            "INFO:root:Client Index = 6\tEpoch: 2\tLoss: 1.212356\n",
            "INFO:root:Client Index = 6\tEpoch: 3\tLoss: 1.185084\n",
            "INFO:root:Client Index = 6\tEpoch: 4\tLoss: 1.165490\n",
            "INFO:root:Client Index = 7\tEpoch: 0\tLoss: 1.338037\n",
            "INFO:root:Client Index = 7\tEpoch: 1\tLoss: 1.280665\n",
            "INFO:root:Client Index = 7\tEpoch: 2\tLoss: 1.240781\n",
            "INFO:root:Client Index = 7\tEpoch: 3\tLoss: 1.202247\n",
            "INFO:root:Client Index = 7\tEpoch: 4\tLoss: 1.173461\n",
            "INFO:root:Client Index = 8\tEpoch: 0\tLoss: 1.306660\n",
            "INFO:root:Client Index = 8\tEpoch: 1\tLoss: 1.254591\n",
            "INFO:root:Client Index = 8\tEpoch: 2\tLoss: 1.219468\n",
            "INFO:root:Client Index = 8\tEpoch: 3\tLoss: 1.183084\n",
            "INFO:root:Client Index = 8\tEpoch: 4\tLoss: 1.155493\n",
            "INFO:root:Client Index = 9\tEpoch: 0\tLoss: 1.345055\n",
            "INFO:root:Client Index = 9\tEpoch: 1\tLoss: 1.288866\n",
            "INFO:root:Client Index = 9\tEpoch: 2\tLoss: 1.251669\n",
            "INFO:root:Client Index = 9\tEpoch: 3\tLoss: 1.219539\n",
            "INFO:root:Client Index = 9\tEpoch: 4\tLoss: 1.190792\n",
            "INFO:root:################Communication round : 2\n",
            "INFO:root:client_indexes = [0, 1, 2, 3, 4, 5, 6, 7, 8, 9]\n",
            "INFO:root:Client Index = 0\tEpoch: 0\tLoss: 1.084671\n",
            "INFO:root:Client Index = 0\tEpoch: 1\tLoss: 1.056993\n",
            "INFO:root:Client Index = 0\tEpoch: 2\tLoss: 1.040829\n",
            "INFO:root:Client Index = 0\tEpoch: 3\tLoss: 1.025705\n",
            "INFO:root:Client Index = 0\tEpoch: 4\tLoss: 1.013120\n",
            "INFO:root:Client Index = 1\tEpoch: 0\tLoss: 1.124707\n",
            "INFO:root:Client Index = 1\tEpoch: 1\tLoss: 1.080910\n",
            "INFO:root:Client Index = 1\tEpoch: 2\tLoss: 1.058960\n",
            "INFO:root:Client Index = 1\tEpoch: 3\tLoss: 1.042541\n",
            "INFO:root:Client Index = 1\tEpoch: 4\tLoss: 1.028207\n",
            "INFO:root:Client Index = 2\tEpoch: 0\tLoss: 1.106677\n",
            "INFO:root:Client Index = 2\tEpoch: 1\tLoss: 1.084972\n",
            "INFO:root:Client Index = 2\tEpoch: 2\tLoss: 1.064212\n",
            "INFO:root:Client Index = 2\tEpoch: 3\tLoss: 1.052204\n",
            "INFO:root:Client Index = 2\tEpoch: 4\tLoss: 1.037235\n",
            "INFO:root:Client Index = 3\tEpoch: 0\tLoss: 1.079877\n",
            "INFO:root:Client Index = 3\tEpoch: 1\tLoss: 1.050219\n",
            "INFO:root:Client Index = 3\tEpoch: 2\tLoss: 1.030126\n",
            "INFO:root:Client Index = 3\tEpoch: 3\tLoss: 1.016262\n",
            "INFO:root:Client Index = 3\tEpoch: 4\tLoss: 1.004631\n",
            "INFO:root:Client Index = 4\tEpoch: 0\tLoss: 1.111844\n",
            "INFO:root:Client Index = 4\tEpoch: 1\tLoss: 1.075006\n",
            "INFO:root:Client Index = 4\tEpoch: 2\tLoss: 1.054965\n",
            "INFO:root:Client Index = 4\tEpoch: 3\tLoss: 1.037659\n",
            "INFO:root:Client Index = 4\tEpoch: 4\tLoss: 1.023847\n",
            "INFO:root:Client Index = 5\tEpoch: 0\tLoss: 1.086611\n",
            "INFO:root:Client Index = 5\tEpoch: 1\tLoss: 1.058069\n",
            "INFO:root:Client Index = 5\tEpoch: 2\tLoss: 1.039188\n",
            "INFO:root:Client Index = 5\tEpoch: 3\tLoss: 1.021940\n",
            "INFO:root:Client Index = 5\tEpoch: 4\tLoss: 1.005870\n",
            "INFO:root:Client Index = 6\tEpoch: 0\tLoss: 1.095963\n",
            "INFO:root:Client Index = 6\tEpoch: 1\tLoss: 1.069033\n",
            "INFO:root:Client Index = 6\tEpoch: 2\tLoss: 1.045815\n",
            "INFO:root:Client Index = 6\tEpoch: 3\tLoss: 1.026687\n",
            "INFO:root:Client Index = 6\tEpoch: 4\tLoss: 1.013106\n",
            "INFO:root:Client Index = 7\tEpoch: 0\tLoss: 1.109151\n",
            "INFO:root:Client Index = 7\tEpoch: 1\tLoss: 1.083541\n",
            "INFO:root:Client Index = 7\tEpoch: 2\tLoss: 1.060542\n",
            "INFO:root:Client Index = 7\tEpoch: 3\tLoss: 1.038967\n",
            "INFO:root:Client Index = 7\tEpoch: 4\tLoss: 1.026077\n",
            "INFO:root:Client Index = 8\tEpoch: 0\tLoss: 1.081211\n",
            "INFO:root:Client Index = 8\tEpoch: 1\tLoss: 1.058552\n",
            "INFO:root:Client Index = 8\tEpoch: 2\tLoss: 1.040381\n",
            "INFO:root:Client Index = 8\tEpoch: 3\tLoss: 1.028013\n",
            "INFO:root:Client Index = 8\tEpoch: 4\tLoss: 1.013514\n",
            "INFO:root:Client Index = 9\tEpoch: 0\tLoss: 1.093484\n",
            "INFO:root:Client Index = 9\tEpoch: 1\tLoss: 1.055175\n",
            "INFO:root:Client Index = 9\tEpoch: 2\tLoss: 1.037384\n",
            "INFO:root:Client Index = 9\tEpoch: 3\tLoss: 1.023221\n",
            "INFO:root:Client Index = 9\tEpoch: 4\tLoss: 1.012132\n",
            "INFO:root:################Communication round : 3\n",
            "INFO:root:client_indexes = [0, 1, 2, 3, 4, 5, 6, 7, 8, 9]\n",
            "INFO:root:Client Index = 0\tEpoch: 0\tLoss: 1.089363\n",
            "INFO:root:Client Index = 0\tEpoch: 1\tLoss: 1.052250\n",
            "INFO:root:Client Index = 0\tEpoch: 2\tLoss: 1.022704\n",
            "INFO:root:Client Index = 0\tEpoch: 3\tLoss: 0.997223\n",
            "INFO:root:Client Index = 0\tEpoch: 4\tLoss: 0.977914\n",
            "INFO:root:Client Index = 1\tEpoch: 0\tLoss: 1.100246\n",
            "INFO:root:Client Index = 1\tEpoch: 1\tLoss: 1.069781\n",
            "INFO:root:Client Index = 1\tEpoch: 2\tLoss: 1.044426\n",
            "INFO:root:Client Index = 1\tEpoch: 3\tLoss: 1.019168\n",
            "INFO:root:Client Index = 1\tEpoch: 4\tLoss: 0.999878\n",
            "INFO:root:Client Index = 2\tEpoch: 0\tLoss: 1.125095\n",
            "INFO:root:Client Index = 2\tEpoch: 1\tLoss: 1.074494\n",
            "INFO:root:Client Index = 2\tEpoch: 2\tLoss: 1.048307\n",
            "INFO:root:Client Index = 2\tEpoch: 3\tLoss: 1.029395\n",
            "INFO:root:Client Index = 2\tEpoch: 4\tLoss: 1.010406\n",
            "INFO:root:Client Index = 3\tEpoch: 0\tLoss: 1.079129\n",
            "INFO:root:Client Index = 3\tEpoch: 1\tLoss: 1.037778\n",
            "INFO:root:Client Index = 3\tEpoch: 2\tLoss: 1.010929\n",
            "INFO:root:Client Index = 3\tEpoch: 3\tLoss: 0.987914\n",
            "INFO:root:Client Index = 3\tEpoch: 4\tLoss: 0.968773\n",
            "INFO:root:Client Index = 4\tEpoch: 0\tLoss: 1.112355\n",
            "INFO:root:Client Index = 4\tEpoch: 1\tLoss: 1.069145\n",
            "INFO:root:Client Index = 4\tEpoch: 2\tLoss: 1.036798\n",
            "INFO:root:Client Index = 4\tEpoch: 3\tLoss: 1.014243\n",
            "INFO:root:Client Index = 4\tEpoch: 4\tLoss: 0.992408\n",
            "INFO:root:Client Index = 5\tEpoch: 0\tLoss: 1.089813\n",
            "INFO:root:Client Index = 5\tEpoch: 1\tLoss: 1.043914\n",
            "INFO:root:Client Index = 5\tEpoch: 2\tLoss: 1.014190\n",
            "INFO:root:Client Index = 5\tEpoch: 3\tLoss: 0.990613\n",
            "INFO:root:Client Index = 5\tEpoch: 4\tLoss: 0.969308\n",
            "INFO:root:Client Index = 6\tEpoch: 0\tLoss: 1.091588\n",
            "INFO:root:Client Index = 6\tEpoch: 1\tLoss: 1.065734\n",
            "INFO:root:Client Index = 6\tEpoch: 2\tLoss: 1.031837\n",
            "INFO:root:Client Index = 6\tEpoch: 3\tLoss: 1.007881\n",
            "INFO:root:Client Index = 6\tEpoch: 4\tLoss: 0.989971\n",
            "INFO:root:Client Index = 7\tEpoch: 0\tLoss: 1.108299\n",
            "INFO:root:Client Index = 7\tEpoch: 1\tLoss: 1.073833\n",
            "INFO:root:Client Index = 7\tEpoch: 2\tLoss: 1.041906\n",
            "INFO:root:Client Index = 7\tEpoch: 3\tLoss: 1.022489\n",
            "INFO:root:Client Index = 7\tEpoch: 4\tLoss: 1.001671\n",
            "INFO:root:Client Index = 8\tEpoch: 0\tLoss: 1.086840\n",
            "INFO:root:Client Index = 8\tEpoch: 1\tLoss: 1.054620\n",
            "INFO:root:Client Index = 8\tEpoch: 2\tLoss: 1.025194\n",
            "INFO:root:Client Index = 8\tEpoch: 3\tLoss: 1.005172\n",
            "INFO:root:Client Index = 8\tEpoch: 4\tLoss: 0.984193\n",
            "INFO:root:Client Index = 9\tEpoch: 0\tLoss: 1.081037\n",
            "INFO:root:Client Index = 9\tEpoch: 1\tLoss: 1.051912\n",
            "INFO:root:Client Index = 9\tEpoch: 2\tLoss: 1.023857\n",
            "INFO:root:Client Index = 9\tEpoch: 3\tLoss: 1.003541\n",
            "INFO:root:Client Index = 9\tEpoch: 4\tLoss: 0.977323\n",
            "INFO:root:################Communication round : 4\n",
            "INFO:root:client_indexes = [0, 1, 2, 3, 4, 5, 6, 7, 8, 9]\n",
            "INFO:root:Client Index = 0\tEpoch: 0\tLoss: 0.948743\n",
            "INFO:root:Client Index = 0\tEpoch: 1\tLoss: 0.935897\n",
            "INFO:root:Client Index = 0\tEpoch: 2\tLoss: 0.922530\n",
            "INFO:root:Client Index = 0\tEpoch: 3\tLoss: 0.909897\n",
            "INFO:root:Client Index = 0\tEpoch: 4\tLoss: 0.901759\n",
            "INFO:root:Client Index = 1\tEpoch: 0\tLoss: 1.020540\n",
            "INFO:root:Client Index = 1\tEpoch: 1\tLoss: 0.993218\n",
            "INFO:root:Client Index = 1\tEpoch: 2\tLoss: 0.973793\n",
            "INFO:root:Client Index = 1\tEpoch: 3\tLoss: 0.955584\n",
            "INFO:root:Client Index = 1\tEpoch: 4\tLoss: 0.945505\n",
            "INFO:root:Client Index = 2\tEpoch: 0\tLoss: 1.006631\n",
            "INFO:root:Client Index = 2\tEpoch: 1\tLoss: 0.981475\n",
            "INFO:root:Client Index = 2\tEpoch: 2\tLoss: 0.971699\n",
            "INFO:root:Client Index = 2\tEpoch: 3\tLoss: 0.959070\n",
            "INFO:root:Client Index = 2\tEpoch: 4\tLoss: 0.951029\n",
            "INFO:root:Client Index = 3\tEpoch: 0\tLoss: 0.973547\n",
            "INFO:root:Client Index = 3\tEpoch: 1\tLoss: 0.956808\n",
            "INFO:root:Client Index = 3\tEpoch: 2\tLoss: 0.943647\n",
            "INFO:root:Client Index = 3\tEpoch: 3\tLoss: 0.936389\n",
            "INFO:root:Client Index = 3\tEpoch: 4\tLoss: 0.928973\n",
            "INFO:root:Client Index = 4\tEpoch: 0\tLoss: 1.000676\n",
            "INFO:root:Client Index = 4\tEpoch: 1\tLoss: 0.980061\n",
            "INFO:root:Client Index = 4\tEpoch: 2\tLoss: 0.965852\n",
            "INFO:root:Client Index = 4\tEpoch: 3\tLoss: 0.957100\n",
            "INFO:root:Client Index = 4\tEpoch: 4\tLoss: 0.945530\n",
            "INFO:root:Client Index = 5\tEpoch: 0\tLoss: 0.990549\n",
            "INFO:root:Client Index = 5\tEpoch: 1\tLoss: 0.963326\n",
            "INFO:root:Client Index = 5\tEpoch: 2\tLoss: 0.945629\n",
            "INFO:root:Client Index = 5\tEpoch: 3\tLoss: 0.930145\n",
            "INFO:root:Client Index = 5\tEpoch: 4\tLoss: 0.919648\n",
            "INFO:root:Client Index = 6\tEpoch: 0\tLoss: 0.993790\n",
            "INFO:root:Client Index = 6\tEpoch: 1\tLoss: 0.973965\n",
            "INFO:root:Client Index = 6\tEpoch: 2\tLoss: 0.958118\n",
            "INFO:root:Client Index = 6\tEpoch: 3\tLoss: 0.947672\n",
            "INFO:root:Client Index = 6\tEpoch: 4\tLoss: 0.935816\n",
            "INFO:root:Client Index = 7\tEpoch: 0\tLoss: 0.996642\n",
            "INFO:root:Client Index = 7\tEpoch: 1\tLoss: 0.979219\n",
            "INFO:root:Client Index = 7\tEpoch: 2\tLoss: 0.965291\n",
            "INFO:root:Client Index = 7\tEpoch: 3\tLoss: 0.953680\n",
            "INFO:root:Client Index = 7\tEpoch: 4\tLoss: 0.943460\n",
            "INFO:root:Client Index = 8\tEpoch: 0\tLoss: 0.993919\n",
            "INFO:root:Client Index = 8\tEpoch: 1\tLoss: 0.971248\n",
            "INFO:root:Client Index = 8\tEpoch: 2\tLoss: 0.958364\n",
            "INFO:root:Client Index = 8\tEpoch: 3\tLoss: 0.944401\n",
            "INFO:root:Client Index = 8\tEpoch: 4\tLoss: 0.933208\n",
            "INFO:root:Client Index = 9\tEpoch: 0\tLoss: 0.962311\n",
            "INFO:root:Client Index = 9\tEpoch: 1\tLoss: 0.934775\n",
            "INFO:root:Client Index = 9\tEpoch: 2\tLoss: 0.924015\n",
            "INFO:root:Client Index = 9\tEpoch: 3\tLoss: 0.918378\n",
            "INFO:root:Client Index = 9\tEpoch: 4\tLoss: 0.906384\n",
            "INFO:root:################Communication round : 5\n",
            "INFO:root:client_indexes = [0, 1, 2, 3, 4, 5, 6, 7, 8, 9]\n",
            "INFO:root:Client Index = 0\tEpoch: 0\tLoss: 0.950327\n",
            "INFO:root:Client Index = 0\tEpoch: 1\tLoss: 0.923037\n",
            "INFO:root:Client Index = 0\tEpoch: 2\tLoss: 0.903007\n",
            "INFO:root:Client Index = 0\tEpoch: 3\tLoss: 0.886444\n",
            "INFO:root:Client Index = 0\tEpoch: 4\tLoss: 0.871948\n",
            "INFO:root:Client Index = 1\tEpoch: 0\tLoss: 1.030826\n",
            "INFO:root:Client Index = 1\tEpoch: 1\tLoss: 0.989094\n",
            "INFO:root:Client Index = 1\tEpoch: 2\tLoss: 0.967016\n",
            "INFO:root:Client Index = 1\tEpoch: 3\tLoss: 0.949633\n",
            "INFO:root:Client Index = 1\tEpoch: 4\tLoss: 0.934893\n",
            "INFO:root:Client Index = 2\tEpoch: 0\tLoss: 1.021078\n",
            "INFO:root:Client Index = 2\tEpoch: 1\tLoss: 0.983080\n",
            "INFO:root:Client Index = 2\tEpoch: 2\tLoss: 0.967164\n",
            "INFO:root:Client Index = 2\tEpoch: 3\tLoss: 0.949903\n",
            "INFO:root:Client Index = 2\tEpoch: 4\tLoss: 0.935226\n",
            "INFO:root:Client Index = 3\tEpoch: 0\tLoss: 0.974138\n",
            "INFO:root:Client Index = 3\tEpoch: 1\tLoss: 0.957960\n",
            "INFO:root:Client Index = 3\tEpoch: 2\tLoss: 0.938599\n",
            "INFO:root:Client Index = 3\tEpoch: 3\tLoss: 0.924499\n",
            "INFO:root:Client Index = 3\tEpoch: 4\tLoss: 0.910126\n",
            "INFO:root:Client Index = 4\tEpoch: 0\tLoss: 1.023774\n",
            "INFO:root:Client Index = 4\tEpoch: 1\tLoss: 0.987892\n",
            "INFO:root:Client Index = 4\tEpoch: 2\tLoss: 0.958975\n",
            "INFO:root:Client Index = 4\tEpoch: 3\tLoss: 0.940203\n",
            "INFO:root:Client Index = 4\tEpoch: 4\tLoss: 0.932442\n",
            "INFO:root:Client Index = 5\tEpoch: 0\tLoss: 0.995808\n",
            "INFO:root:Client Index = 5\tEpoch: 1\tLoss: 0.960263\n",
            "INFO:root:Client Index = 5\tEpoch: 2\tLoss: 0.935234\n",
            "INFO:root:Client Index = 5\tEpoch: 3\tLoss: 0.918343\n",
            "INFO:root:Client Index = 5\tEpoch: 4\tLoss: 0.901313\n",
            "INFO:root:Client Index = 6\tEpoch: 0\tLoss: 1.005209\n",
            "INFO:root:Client Index = 6\tEpoch: 1\tLoss: 0.974626\n",
            "INFO:root:Client Index = 6\tEpoch: 2\tLoss: 0.951416\n",
            "INFO:root:Client Index = 6\tEpoch: 3\tLoss: 0.933405\n",
            "INFO:root:Client Index = 6\tEpoch: 4\tLoss: 0.917757\n",
            "INFO:root:Client Index = 7\tEpoch: 0\tLoss: 1.018342\n",
            "INFO:root:Client Index = 7\tEpoch: 1\tLoss: 0.981319\n",
            "INFO:root:Client Index = 7\tEpoch: 2\tLoss: 0.958331\n",
            "INFO:root:Client Index = 7\tEpoch: 3\tLoss: 0.939147\n",
            "INFO:root:Client Index = 7\tEpoch: 4\tLoss: 0.920895\n",
            "INFO:root:Client Index = 8\tEpoch: 0\tLoss: 0.989616\n",
            "INFO:root:Client Index = 8\tEpoch: 1\tLoss: 0.967353\n",
            "INFO:root:Client Index = 8\tEpoch: 2\tLoss: 0.946282\n",
            "INFO:root:Client Index = 8\tEpoch: 3\tLoss: 0.927739\n",
            "INFO:root:Client Index = 8\tEpoch: 4\tLoss: 0.911785\n",
            "INFO:root:Client Index = 9\tEpoch: 0\tLoss: 0.968233\n",
            "INFO:root:Client Index = 9\tEpoch: 1\tLoss: 0.928868\n",
            "INFO:root:Client Index = 9\tEpoch: 2\tLoss: 0.905248\n",
            "INFO:root:Client Index = 9\tEpoch: 3\tLoss: 0.888914\n",
            "INFO:root:Client Index = 9\tEpoch: 4\tLoss: 0.875561\n",
            "INFO:root:################local_test_on_all_clients : 5\n",
            "INFO:root:{'training_acc': 0.67112, 'training_loss': 0.9267142457866668}\n",
            "INFO:root:{'test_acc': 0.64208, 'test_loss': 1.0087905156421662}\n",
            "INFO:root:################Communication round : 6\n",
            "INFO:root:client_indexes = [0, 1, 2, 3, 4, 5, 6, 7, 8, 9]\n",
            "INFO:root:Client Index = 0\tEpoch: 0\tLoss: 0.884167\n",
            "INFO:root:Client Index = 0\tEpoch: 1\tLoss: 0.881562\n",
            "INFO:root:Client Index = 0\tEpoch: 2\tLoss: 0.872143\n",
            "INFO:root:Client Index = 0\tEpoch: 3\tLoss: 0.864972\n",
            "INFO:root:Client Index = 0\tEpoch: 4\tLoss: 0.857222\n",
            "INFO:root:Client Index = 1\tEpoch: 0\tLoss: 0.950739\n",
            "INFO:root:Client Index = 1\tEpoch: 1\tLoss: 0.941964\n",
            "INFO:root:Client Index = 1\tEpoch: 2\tLoss: 0.930737\n",
            "INFO:root:Client Index = 1\tEpoch: 3\tLoss: 0.924589\n",
            "INFO:root:Client Index = 1\tEpoch: 4\tLoss: 0.919847\n",
            "INFO:root:Client Index = 2\tEpoch: 0\tLoss: 0.958777\n",
            "INFO:root:Client Index = 2\tEpoch: 1\tLoss: 0.945192\n",
            "INFO:root:Client Index = 2\tEpoch: 2\tLoss: 0.935650\n",
            "INFO:root:Client Index = 2\tEpoch: 3\tLoss: 0.927525\n",
            "INFO:root:Client Index = 2\tEpoch: 4\tLoss: 0.922510\n",
            "INFO:root:Client Index = 3\tEpoch: 0\tLoss: 0.942298\n",
            "INFO:root:Client Index = 3\tEpoch: 1\tLoss: 0.932810\n",
            "INFO:root:Client Index = 3\tEpoch: 2\tLoss: 0.917303\n",
            "INFO:root:Client Index = 3\tEpoch: 3\tLoss: 0.908894\n",
            "INFO:root:Client Index = 3\tEpoch: 4\tLoss: 0.902116\n",
            "INFO:root:Client Index = 4\tEpoch: 0\tLoss: 0.947217\n",
            "INFO:root:Client Index = 4\tEpoch: 1\tLoss: 0.934638\n",
            "INFO:root:Client Index = 4\tEpoch: 2\tLoss: 0.921698\n",
            "INFO:root:Client Index = 4\tEpoch: 3\tLoss: 0.915903\n",
            "INFO:root:Client Index = 4\tEpoch: 4\tLoss: 0.907947\n",
            "INFO:root:Client Index = 5\tEpoch: 0\tLoss: 0.925264\n",
            "INFO:root:Client Index = 5\tEpoch: 1\tLoss: 0.904156\n",
            "INFO:root:Client Index = 5\tEpoch: 2\tLoss: 0.897834\n",
            "INFO:root:Client Index = 5\tEpoch: 3\tLoss: 0.891413\n",
            "INFO:root:Client Index = 5\tEpoch: 4\tLoss: 0.887037\n",
            "INFO:root:Client Index = 6\tEpoch: 0\tLoss: 0.938529\n",
            "INFO:root:Client Index = 6\tEpoch: 1\tLoss: 0.922958\n",
            "INFO:root:Client Index = 6\tEpoch: 2\tLoss: 0.918623\n",
            "INFO:root:Client Index = 6\tEpoch: 3\tLoss: 0.909852\n",
            "INFO:root:Client Index = 6\tEpoch: 4\tLoss: 0.900270\n",
            "INFO:root:Client Index = 7\tEpoch: 0\tLoss: 0.955111\n",
            "INFO:root:Client Index = 7\tEpoch: 1\tLoss: 0.941127\n",
            "INFO:root:Client Index = 7\tEpoch: 2\tLoss: 0.925305\n",
            "INFO:root:Client Index = 7\tEpoch: 3\tLoss: 0.918758\n",
            "INFO:root:Client Index = 7\tEpoch: 4\tLoss: 0.909356\n",
            "INFO:root:Client Index = 8\tEpoch: 0\tLoss: 0.934479\n",
            "INFO:root:Client Index = 8\tEpoch: 1\tLoss: 0.926354\n",
            "INFO:root:Client Index = 8\tEpoch: 2\tLoss: 0.918075\n",
            "INFO:root:Client Index = 8\tEpoch: 3\tLoss: 0.907387\n",
            "INFO:root:Client Index = 8\tEpoch: 4\tLoss: 0.900577\n",
            "INFO:root:Client Index = 9\tEpoch: 0\tLoss: 0.891336\n",
            "INFO:root:Client Index = 9\tEpoch: 1\tLoss: 0.873339\n",
            "INFO:root:Client Index = 9\tEpoch: 2\tLoss: 0.868446\n",
            "INFO:root:Client Index = 9\tEpoch: 3\tLoss: 0.860766\n",
            "INFO:root:Client Index = 9\tEpoch: 4\tLoss: 0.855966\n",
            "INFO:root:################Communication round : 7\n",
            "INFO:root:client_indexes = [0, 1, 2, 3, 4, 5, 6, 7, 8, 9]\n",
            "INFO:root:Client Index = 0\tEpoch: 0\tLoss: 0.905259\n",
            "INFO:root:Client Index = 0\tEpoch: 1\tLoss: 0.869376\n",
            "INFO:root:Client Index = 0\tEpoch: 2\tLoss: 0.860368\n",
            "INFO:root:Client Index = 0\tEpoch: 3\tLoss: 0.847340\n",
            "INFO:root:Client Index = 0\tEpoch: 4\tLoss: 0.837813\n",
            "INFO:root:Client Index = 1\tEpoch: 0\tLoss: 0.961963\n",
            "INFO:root:Client Index = 1\tEpoch: 1\tLoss: 0.935861\n",
            "INFO:root:Client Index = 1\tEpoch: 2\tLoss: 0.921050\n",
            "INFO:root:Client Index = 1\tEpoch: 3\tLoss: 0.907510\n",
            "INFO:root:Client Index = 1\tEpoch: 4\tLoss: 0.897268\n",
            "INFO:root:Client Index = 2\tEpoch: 0\tLoss: 0.950880\n",
            "INFO:root:Client Index = 2\tEpoch: 1\tLoss: 0.933794\n",
            "INFO:root:Client Index = 2\tEpoch: 2\tLoss: 0.924647\n",
            "INFO:root:Client Index = 2\tEpoch: 3\tLoss: 0.915456\n",
            "INFO:root:Client Index = 2\tEpoch: 4\tLoss: 0.903657\n",
            "INFO:root:Client Index = 3\tEpoch: 0\tLoss: 0.940414\n",
            "INFO:root:Client Index = 3\tEpoch: 1\tLoss: 0.913719\n",
            "INFO:root:Client Index = 3\tEpoch: 2\tLoss: 0.907607\n",
            "INFO:root:Client Index = 3\tEpoch: 3\tLoss: 0.893769\n",
            "INFO:root:Client Index = 3\tEpoch: 4\tLoss: 0.883578\n",
            "INFO:root:Client Index = 4\tEpoch: 0\tLoss: 0.948389\n",
            "INFO:root:Client Index = 4\tEpoch: 1\tLoss: 0.929843\n",
            "INFO:root:Client Index = 4\tEpoch: 2\tLoss: 0.917347\n",
            "INFO:root:Client Index = 4\tEpoch: 3\tLoss: 0.906003\n",
            "INFO:root:Client Index = 4\tEpoch: 4\tLoss: 0.894653\n",
            "INFO:root:Client Index = 5\tEpoch: 0\tLoss: 0.946615\n",
            "INFO:root:Client Index = 5\tEpoch: 1\tLoss: 0.918270\n",
            "INFO:root:Client Index = 5\tEpoch: 2\tLoss: 0.897120\n",
            "INFO:root:Client Index = 5\tEpoch: 3\tLoss: 0.884688\n",
            "INFO:root:Client Index = 5\tEpoch: 4\tLoss: 0.872827\n",
            "INFO:root:Client Index = 6\tEpoch: 0\tLoss: 0.949164\n",
            "INFO:root:Client Index = 6\tEpoch: 1\tLoss: 0.924730\n",
            "INFO:root:Client Index = 6\tEpoch: 2\tLoss: 0.905403\n",
            "INFO:root:Client Index = 6\tEpoch: 3\tLoss: 0.893775\n",
            "INFO:root:Client Index = 6\tEpoch: 4\tLoss: 0.882135\n",
            "INFO:root:Client Index = 7\tEpoch: 0\tLoss: 0.944176\n",
            "INFO:root:Client Index = 7\tEpoch: 1\tLoss: 0.925604\n",
            "INFO:root:Client Index = 7\tEpoch: 2\tLoss: 0.913177\n",
            "INFO:root:Client Index = 7\tEpoch: 3\tLoss: 0.902724\n",
            "INFO:root:Client Index = 7\tEpoch: 4\tLoss: 0.893864\n",
            "INFO:root:Client Index = 8\tEpoch: 0\tLoss: 0.929352\n",
            "INFO:root:Client Index = 8\tEpoch: 1\tLoss: 0.909141\n",
            "INFO:root:Client Index = 8\tEpoch: 2\tLoss: 0.898633\n",
            "INFO:root:Client Index = 8\tEpoch: 3\tLoss: 0.887744\n",
            "INFO:root:Client Index = 8\tEpoch: 4\tLoss: 0.877146\n",
            "INFO:root:Client Index = 9\tEpoch: 0\tLoss: 0.885928\n",
            "INFO:root:Client Index = 9\tEpoch: 1\tLoss: 0.869330\n",
            "INFO:root:Client Index = 9\tEpoch: 2\tLoss: 0.860391\n",
            "INFO:root:Client Index = 9\tEpoch: 3\tLoss: 0.848696\n",
            "INFO:root:Client Index = 9\tEpoch: 4\tLoss: 0.837777\n",
            "INFO:root:################Communication round : 8\n",
            "INFO:root:client_indexes = [0, 1, 2, 3, 4, 5, 6, 7, 8, 9]\n",
            "INFO:root:Client Index = 0\tEpoch: 0\tLoss: 0.858254\n",
            "INFO:root:Client Index = 0\tEpoch: 1\tLoss: 0.849801\n",
            "INFO:root:Client Index = 0\tEpoch: 2\tLoss: 0.842891\n",
            "INFO:root:Client Index = 0\tEpoch: 3\tLoss: 0.839720\n",
            "INFO:root:Client Index = 0\tEpoch: 4\tLoss: 0.834986\n",
            "INFO:root:Client Index = 1\tEpoch: 0\tLoss: 0.924848\n",
            "INFO:root:Client Index = 1\tEpoch: 1\tLoss: 0.917328\n",
            "INFO:root:Client Index = 1\tEpoch: 2\tLoss: 0.914582\n",
            "INFO:root:Client Index = 1\tEpoch: 3\tLoss: 0.904314\n",
            "INFO:root:Client Index = 1\tEpoch: 4\tLoss: 0.900719\n",
            "INFO:root:Client Index = 2\tEpoch: 0\tLoss: 0.928924\n",
            "INFO:root:Client Index = 2\tEpoch: 1\tLoss: 0.913595\n",
            "INFO:root:Client Index = 2\tEpoch: 2\tLoss: 0.911654\n",
            "INFO:root:Client Index = 2\tEpoch: 3\tLoss: 0.906086\n",
            "INFO:root:Client Index = 2\tEpoch: 4\tLoss: 0.904173\n",
            "INFO:root:Client Index = 3\tEpoch: 0\tLoss: 0.906603\n",
            "INFO:root:Client Index = 3\tEpoch: 1\tLoss: 0.896743\n",
            "INFO:root:Client Index = 3\tEpoch: 2\tLoss: 0.895684\n",
            "INFO:root:Client Index = 3\tEpoch: 3\tLoss: 0.892493\n",
            "INFO:root:Client Index = 3\tEpoch: 4\tLoss: 0.885464\n",
            "INFO:root:Client Index = 4\tEpoch: 0\tLoss: 0.913912\n",
            "INFO:root:Client Index = 4\tEpoch: 1\tLoss: 0.913396\n",
            "INFO:root:Client Index = 4\tEpoch: 2\tLoss: 0.910080\n",
            "INFO:root:Client Index = 4\tEpoch: 3\tLoss: 0.903990\n",
            "INFO:root:Client Index = 4\tEpoch: 4\tLoss: 0.899365\n",
            "INFO:root:Client Index = 5\tEpoch: 0\tLoss: 0.900461\n",
            "INFO:root:Client Index = 5\tEpoch: 1\tLoss: 0.890962\n",
            "INFO:root:Client Index = 5\tEpoch: 2\tLoss: 0.886207\n",
            "INFO:root:Client Index = 5\tEpoch: 3\tLoss: 0.882173\n",
            "INFO:root:Client Index = 5\tEpoch: 4\tLoss: 0.877409\n",
            "INFO:root:Client Index = 6\tEpoch: 0\tLoss: 0.913188\n",
            "INFO:root:Client Index = 6\tEpoch: 1\tLoss: 0.906686\n",
            "INFO:root:Client Index = 6\tEpoch: 2\tLoss: 0.897916\n",
            "INFO:root:Client Index = 6\tEpoch: 3\tLoss: 0.890133\n",
            "INFO:root:Client Index = 6\tEpoch: 4\tLoss: 0.887166\n",
            "INFO:root:Client Index = 7\tEpoch: 0\tLoss: 0.916687\n",
            "INFO:root:Client Index = 7\tEpoch: 1\tLoss: 0.902560\n",
            "INFO:root:Client Index = 7\tEpoch: 2\tLoss: 0.900695\n",
            "INFO:root:Client Index = 7\tEpoch: 3\tLoss: 0.896675\n",
            "INFO:root:Client Index = 7\tEpoch: 4\tLoss: 0.895034\n",
            "INFO:root:Client Index = 8\tEpoch: 0\tLoss: 0.909118\n",
            "INFO:root:Client Index = 8\tEpoch: 1\tLoss: 0.908517\n",
            "INFO:root:Client Index = 8\tEpoch: 2\tLoss: 0.900869\n",
            "INFO:root:Client Index = 8\tEpoch: 3\tLoss: 0.893465\n",
            "INFO:root:Client Index = 8\tEpoch: 4\tLoss: 0.888135\n",
            "INFO:root:Client Index = 9\tEpoch: 0\tLoss: 0.854170\n",
            "INFO:root:Client Index = 9\tEpoch: 1\tLoss: 0.842541\n",
            "INFO:root:Client Index = 9\tEpoch: 2\tLoss: 0.835932\n",
            "INFO:root:Client Index = 9\tEpoch: 3\tLoss: 0.832270\n",
            "INFO:root:Client Index = 9\tEpoch: 4\tLoss: 0.829117\n",
            "INFO:root:################Communication round : 9\n",
            "INFO:root:client_indexes = [0, 1, 2, 3, 4, 5, 6, 7, 8, 9]\n",
            "INFO:root:Client Index = 0\tEpoch: 0\tLoss: 0.847426\n",
            "INFO:root:Client Index = 0\tEpoch: 1\tLoss: 0.844934\n",
            "INFO:root:Client Index = 0\tEpoch: 2\tLoss: 0.835278\n",
            "INFO:root:Client Index = 0\tEpoch: 3\tLoss: 0.828136\n",
            "INFO:root:Client Index = 0\tEpoch: 4\tLoss: 0.822960\n",
            "INFO:root:Client Index = 1\tEpoch: 0\tLoss: 0.941138\n",
            "INFO:root:Client Index = 1\tEpoch: 1\tLoss: 0.918423\n",
            "INFO:root:Client Index = 1\tEpoch: 2\tLoss: 0.909611\n",
            "INFO:root:Client Index = 1\tEpoch: 3\tLoss: 0.902596\n",
            "INFO:root:Client Index = 1\tEpoch: 4\tLoss: 0.897965\n",
            "INFO:root:Client Index = 2\tEpoch: 0\tLoss: 0.930421\n",
            "INFO:root:Client Index = 2\tEpoch: 1\tLoss: 0.913006\n",
            "INFO:root:Client Index = 2\tEpoch: 2\tLoss: 0.905755\n",
            "INFO:root:Client Index = 2\tEpoch: 3\tLoss: 0.899191\n",
            "INFO:root:Client Index = 2\tEpoch: 4\tLoss: 0.894528\n",
            "INFO:root:Client Index = 3\tEpoch: 0\tLoss: 0.915744\n",
            "INFO:root:Client Index = 3\tEpoch: 1\tLoss: 0.904994\n",
            "INFO:root:Client Index = 3\tEpoch: 2\tLoss: 0.895339\n",
            "INFO:root:Client Index = 3\tEpoch: 3\tLoss: 0.883671\n",
            "INFO:root:Client Index = 3\tEpoch: 4\tLoss: 0.877276\n",
            "INFO:root:Client Index = 4\tEpoch: 0\tLoss: 0.907229\n",
            "INFO:root:Client Index = 4\tEpoch: 1\tLoss: 0.904540\n",
            "INFO:root:Client Index = 4\tEpoch: 2\tLoss: 0.898923\n",
            "INFO:root:Client Index = 4\tEpoch: 3\tLoss: 0.891741\n",
            "INFO:root:Client Index = 4\tEpoch: 4\tLoss: 0.885045\n",
            "INFO:root:Client Index = 5\tEpoch: 0\tLoss: 0.908489\n",
            "INFO:root:Client Index = 5\tEpoch: 1\tLoss: 0.888795\n",
            "INFO:root:Client Index = 5\tEpoch: 2\tLoss: 0.878288\n",
            "INFO:root:Client Index = 5\tEpoch: 3\tLoss: 0.873159\n",
            "INFO:root:Client Index = 5\tEpoch: 4\tLoss: 0.867921\n",
            "INFO:root:Client Index = 6\tEpoch: 0\tLoss: 0.926482\n",
            "INFO:root:Client Index = 6\tEpoch: 1\tLoss: 0.906564\n",
            "INFO:root:Client Index = 6\tEpoch: 2\tLoss: 0.893793\n",
            "INFO:root:Client Index = 6\tEpoch: 3\tLoss: 0.885438\n",
            "INFO:root:Client Index = 6\tEpoch: 4\tLoss: 0.877537\n",
            "INFO:root:Client Index = 7\tEpoch: 0\tLoss: 0.931835\n",
            "INFO:root:Client Index = 7\tEpoch: 1\tLoss: 0.918882\n",
            "INFO:root:Client Index = 7\tEpoch: 2\tLoss: 0.903202\n",
            "INFO:root:Client Index = 7\tEpoch: 3\tLoss: 0.892803\n",
            "INFO:root:Client Index = 7\tEpoch: 4\tLoss: 0.885646\n",
            "INFO:root:Client Index = 8\tEpoch: 0\tLoss: 0.921823\n",
            "INFO:root:Client Index = 8\tEpoch: 1\tLoss: 0.903758\n",
            "INFO:root:Client Index = 8\tEpoch: 2\tLoss: 0.888157\n",
            "INFO:root:Client Index = 8\tEpoch: 3\tLoss: 0.877570\n",
            "INFO:root:Client Index = 8\tEpoch: 4\tLoss: 0.874710\n",
            "INFO:root:Client Index = 9\tEpoch: 0\tLoss: 0.842685\n",
            "INFO:root:Client Index = 9\tEpoch: 1\tLoss: 0.835180\n",
            "INFO:root:Client Index = 9\tEpoch: 2\tLoss: 0.823711\n",
            "INFO:root:Client Index = 9\tEpoch: 3\tLoss: 0.817856\n",
            "INFO:root:Client Index = 9\tEpoch: 4\tLoss: 0.815168\n",
            "INFO:root:################local_test_on_all_clients : 9\n",
            "INFO:root:{'training_acc': 0.68448, 'training_loss': 0.8910818109416961}\n",
            "INFO:root:{'test_acc': 0.65272, 'test_loss': 0.9813599506378173}\n"
          ]
        }
      ]
    },
    {
      "cell_type": "markdown",
      "source": [
        "# Lab2"
      ],
      "metadata": {
        "id": "6NPsPF4uoenH"
      }
    },
    {
      "cell_type": "code",
      "source": [
        "!pip3 install gdown"
      ],
      "metadata": {
        "colab": {
          "base_uri": "https://localhost:8080/"
        },
        "id": "7icVEaxMado6",
        "outputId": "409f4a06-94c7-41ef-8f58-7d671a8f7ce8"
      },
      "execution_count": null,
      "outputs": [
        {
          "output_type": "stream",
          "name": "stdout",
          "text": [
            "Requirement already satisfied: gdown in /usr/local/lib/python3.7/dist-packages (3.6.4)\n",
            "Requirement already satisfied: tqdm in /usr/local/lib/python3.7/dist-packages (from gdown) (4.62.3)\n",
            "Requirement already satisfied: six in /usr/local/lib/python3.7/dist-packages (from gdown) (1.15.0)\n",
            "Requirement already satisfied: requests in /usr/local/lib/python3.7/dist-packages (from gdown) (2.23.0)\n",
            "Requirement already satisfied: idna<3,>=2.5 in /usr/local/lib/python3.7/dist-packages (from requests->gdown) (2.10)\n",
            "Requirement already satisfied: certifi>=2017.4.17 in /usr/local/lib/python3.7/dist-packages (from requests->gdown) (2021.10.8)\n",
            "Requirement already satisfied: chardet<4,>=3.0.2 in /usr/local/lib/python3.7/dist-packages (from requests->gdown) (3.0.4)\n",
            "Requirement already satisfied: urllib3!=1.25.0,!=1.25.1,<1.26,>=1.21.1 in /usr/local/lib/python3.7/dist-packages (from requests->gdown) (1.24.3)\n"
          ]
        }
      ]
    },
    {
      "cell_type": "code",
      "source": [
        "!gdown"
      ],
      "metadata": {
        "colab": {
          "base_uri": "https://localhost:8080/"
        },
        "id": "U9ACukRfa7FF",
        "outputId": "7b828eaf-a48a-40bf-f6fd-31fbdf701d7e"
      },
      "execution_count": null,
      "outputs": [
        {
          "output_type": "stream",
          "name": "stdout",
          "text": [
            "usage: gdown [-h] [-V] [-O OUTPUT] [-q] [--id] url_or_id\n",
            "gdown: error: too few arguments\n"
          ]
        }
      ]
    },
    {
      "cell_type": "code",
      "source": [
        "import argparse\n",
        "import logging\n",
        "import os\n",
        "import random\n",
        "import sys\n",
        "import time\n",
        "import json\n",
        "try:\n",
        "    from typing_extensions import Required\n",
        "except ImportError:\n",
        "    from typing import Generic, TypeVar\n",
        "    T = TypeVar(\"T\")\n",
        "    class Required(Generic[T]):\n",
        "        pass\n",
        "import numpy as np\n",
        "import copy\n",
        "\n",
        "import torch\n",
        "import torchvision\n",
        "from torchvision import transforms\n",
        "from torch.utils.data import SubsetRandomSampler\n",
        "import wandb\n",
        "\n",
        "from dataloader import shakespeare_dataloaders\n",
        "\n",
        "# sys.path.insert(0, \"/home/tedbest/datadisk/FedML\")\n",
        "\n",
        "from model import LSTM_shakespeare_1L\n",
        "from fedml_api.standalone.fedavg.fedavg_api import FedAvgAPI\n",
        "\n",
        "\n",
        "# This is answer\n",
        "# from ans.shaTrainer import ShaTrainer\n",
        "\n",
        "# yout answer\n",
        "from yourTrainer import ShaTrainer\n"
      ],
      "metadata": {
        "id": "RioGa1yjWjOA"
      },
      "execution_count": null,
      "outputs": []
    },
    {
      "cell_type": "code",
      "source": [
        "if os.path.exists(os.path.abspath(\"./shakespeare\")):\n",
        "  raise ValueError(\"Folder: \\\"{}\\\" exist\".format(os.path.abspath(\"./shakespeare\")))\n",
        "os.makedirs(os.path.abspath(\"./shakespeare\"))\n",
        "import gdown, tarfile\n",
        "# download\n",
        "url = 'https://drive.google.com/uc?id=1pG_tN1D874u5n3hrkkvYjKgCGWSHdF50'\n",
        "output = os.path.join(os.path.abspath(\"./shakespeare\"), 'shakespeare_all.tar.gz')\n",
        "print(\"\\nDownload ...\")\n",
        "gdown.download(url, output, quiet=False)\n",
        "# check\n",
        "md5 = '2f6538edc4202638973a9f1d8141d262'\n",
        "#gdown.cached_download(url, output, md5=md5, postprocess=gdown.extractall)\n",
        "time.sleep(3)\n",
        "#gdown.extractall(\"./shakespeare/shakespeare_all.tar.gz\")\n",
        "# extraction\n",
        "print(\"\\nExtracting ...\")\n",
        "tar = tarfile.open(output, 'r:gz')\n",
        "tar.extractall(path=os.path.abspath(\"./shakespeare\"))\n",
        "\n",
        "path = os.path.abspath(\"./shakespeare/shakespeare_all\")\n",
        "\n",
        "train_json_path = os.path.join(path, \"train\", os.listdir(os.path.join(path, \"train\"))[0])\n",
        "test_json_path = os.path.join(path, \"test\", os.listdir(os.path.join(path, \"test\"))[0])\n",
        "with open(os.path.join(train_json_path), \"r\") as file:\n",
        "    train_context = json.load(file)\n",
        "with open(os.path.join(test_json_path), \"r\") as file:\n",
        "    test_context = json.load(file)\n",
        "\n",
        "os.makedirs(os.path.join(os.path.abspath(\".\"), \"shakespeare\"), exist_ok=True)\n",
        "torch.save(train_context, os.path.join(os.path.abspath(\".\"), \"shakespeare\", \"train_data.pt\"))\n",
        "torch.save(test_context, os.path.join(os.path.abspath(\".\"), \"shakespeare\", \"test_data.pt\"))\n",
        "print(\"\\nSave : {}\".format(os.path.join(os.path.abspath(\".\"), \"shakespeare\", \"train_data.pt\")))\n",
        "print(\"Save : {}\".format(os.path.join(os.path.abspath(\".\"), \"shakespeare\", \"test_data.pt\")))\n"
      ],
      "metadata": {
        "colab": {
          "base_uri": "https://localhost:8080/"
        },
        "id": "oQI6MhciZPp1",
        "outputId": "024f9da9-a061-4df3-d297-cc49217bb6ac"
      },
      "execution_count": null,
      "outputs": [
        {
          "output_type": "stream",
          "name": "stdout",
          "text": [
            "\n",
            "Download ...\n"
          ]
        },
        {
          "output_type": "stream",
          "name": "stderr",
          "text": [
            "Downloading...\n",
            "From: https://drive.google.com/uc?id=1pG_tN1D874u5n3hrkkvYjKgCGWSHdF50\n",
            "To: /content/shakespeare/shakespeare_all.tar.gz\n",
            "100%|██████████| 20.0M/20.0M [00:00<00:00, 273MB/s]\n"
          ]
        },
        {
          "output_type": "stream",
          "name": "stdout",
          "text": [
            "\n",
            "Extracting ...\n",
            "\n",
            "Save : /content/shakespeare/train_data.pt\n",
            "Save : /content/shakespeare/test_data.pt\n"
          ]
        }
      ]
    },
    {
      "cell_type": "code",
      "source": [
        "from types import SimpleNamespace\n",
        "\n",
        "d = {\n",
        "  'wandb_name': 'fedavg_sha_l1_test2',\n",
        "  'model': 'resnet56',\n",
        "  'epochs': 1,\n",
        "  'batch_size': 4,\n",
        "  'client_num_per_round': 10,\n",
        "  'comm_round': 80,\n",
        "  'client_num_in_total': 10,\n",
        "  'client_optimizer' : 'adam',\n",
        "  'lr': 0.001,\n",
        "  'wd': 0.001,\n",
        "  'frequency_of_the_test': 1, \n",
        "  'dataset':  'cifar10',\n",
        "  'data_dir': './cifar10',\n",
        "  'gpu': 0,\n",
        "  'ci': 1,\n",
        "  'seed': 123\n",
        "}\n",
        "\n",
        "args = SimpleNamespace(**d)"
      ],
      "metadata": {
        "id": "h9mWtG2tXMDA"
      },
      "execution_count": null,
      "outputs": []
    },
    {
      "cell_type": "code",
      "source": [
        "device = torch.device(\"cuda:\" + str(args.gpu) if torch.cuda.is_available() else \"cpu\")"
      ],
      "metadata": {
        "id": "len1S0iIXsFw"
      },
      "execution_count": null,
      "outputs": []
    },
    {
      "cell_type": "code",
      "source": [
        "device"
      ],
      "metadata": {
        "colab": {
          "base_uri": "https://localhost:8080/"
        },
        "id": "VeU04r7RXx51",
        "outputId": "fdf88d33-7ee3-4cbc-ddb7-9e7c7ea2268e"
      },
      "execution_count": null,
      "outputs": [
        {
          "output_type": "execute_result",
          "data": {
            "text/plain": [
              "device(type='cuda', index=0)"
            ]
          },
          "metadata": {},
          "execution_count": 117
        }
      ]
    },
    {
      "cell_type": "code",
      "source": [
        "wandb.init(\n",
        "        project=\"fedml\",\n",
        "        name=args.wandb_name,\n",
        "        config=args\n",
        "    )"
      ],
      "metadata": {
        "colab": {
          "base_uri": "https://localhost:8080/",
          "height": 261,
          "referenced_widgets": [
            "57b15f992fc44d16913b2b9c636d4f47",
            "df968dea841b4476afd8d632f47e0010",
            "1a86156ad88f4df489c0913df74e0dbe",
            "331a36c58f9f4f61990f12c3daba1017",
            "da3c8f48be6e4bb7be129564caddcd31",
            "785fd83e74da4b8183754b3ccfa3f07b",
            "ff5d6cef37c942c2aa7f1b6c56c1c288",
            "9cf4b16dd14148c3a33736a87886c141"
          ]
        },
        "id": "djgZNCblX1Go",
        "outputId": "2970450c-0963-4f73-c695-6245c46ac8f9"
      },
      "execution_count": null,
      "outputs": [
        {
          "output_type": "display_data",
          "data": {
            "text/html": [
              "Finishing last run (ID:2cnuuu57) before initializing another..."
            ],
            "text/plain": [
              "<IPython.core.display.HTML object>"
            ]
          },
          "metadata": {}
        },
        {
          "output_type": "display_data",
          "data": {
            "text/html": [
              "<br/>Waiting for W&B process to finish, PID 1319... <strong style=\"color:green\">(success).</strong>"
            ],
            "text/plain": [
              "<IPython.core.display.HTML object>"
            ]
          },
          "metadata": {}
        },
        {
          "output_type": "display_data",
          "data": {
            "application/vnd.jupyter.widget-view+json": {
              "model_id": "57b15f992fc44d16913b2b9c636d4f47",
              "version_minor": 0,
              "version_major": 2
            },
            "text/plain": [
              "VBox(children=(Label(value=' 0.00MB of 0.00MB uploaded (0.00MB deduped)\\r'), FloatProgress(value=1.0, max=1.0)…"
            ]
          },
          "metadata": {}
        },
        {
          "output_type": "display_data",
          "data": {
            "text/html": [
              "<style>\n",
              "    table.wandb td:nth-child(1) { padding: 0 10px; text-align: right }\n",
              "    .wandb-row { display: flex; flex-direction: row; flex-wrap: wrap; width: 100% }\n",
              "    .wandb-col { display: flex; flex-direction: column; flex-basis: 100%; flex: 1; padding: 10px; }\n",
              "    </style>\n",
              "<div class=\"wandb-row\"><div class=\"wandb-col\">\n",
              "</div><div class=\"wandb-col\">\n",
              "</div></div>\n",
              "Synced 5 W&B file(s), 0 media file(s), 0 artifact file(s) and 0 other file(s)\n",
              "<br/>Synced <strong style=\"color:#cdcd00\">fedavg_sha_l1_test2</strong>: <a href=\"https://wandb.ai/duygu/fedml/runs/2cnuuu57\" target=\"_blank\">https://wandb.ai/duygu/fedml/runs/2cnuuu57</a><br/>\n",
              "Find logs at: <code>./wandb/run-20211227_105058-2cnuuu57/logs</code><br/>\n"
            ],
            "text/plain": [
              "<IPython.core.display.HTML object>"
            ]
          },
          "metadata": {}
        },
        {
          "output_type": "display_data",
          "data": {
            "text/html": [
              "Successfully finished last run (ID:2cnuuu57). Initializing new run:<br/>"
            ],
            "text/plain": [
              "<IPython.core.display.HTML object>"
            ]
          },
          "metadata": {}
        },
        {
          "output_type": "display_data",
          "data": {
            "text/html": [
              "\n",
              "                    Syncing run <strong><a href=\"https://wandb.ai/duygu/fedml/runs/2uy8ebem\" target=\"_blank\">fedavg_sha_l1_test2</a></strong> to <a href=\"https://wandb.ai/duygu/fedml\" target=\"_blank\">Weights & Biases</a> (<a href=\"https://docs.wandb.com/integrations/jupyter.html\" target=\"_blank\">docs</a>).<br/>\n",
              "\n",
              "                "
            ],
            "text/plain": [
              "<IPython.core.display.HTML object>"
            ]
          },
          "metadata": {}
        },
        {
          "output_type": "execute_result",
          "data": {
            "text/plain": [
              "<wandb.sdk.wandb_run.Run at 0x7f2a32dd0190>"
            ],
            "text/html": [
              "<button onClick=\"this.nextSibling.style.display='block';this.style.display='none';\">Display W&B run</button><iframe src=\"https://wandb.ai/duygu/fedml/runs/2uy8ebem?jupyter=true\" style=\"border:none;width:100%;height:420px;display:none;\"></iframe>"
            ]
          },
          "metadata": {},
          "execution_count": 118
        }
      ]
    },
    {
      "cell_type": "code",
      "source": [
        "random.seed(args.seed)\n",
        "np.random.seed(args.seed)\n",
        "torch.manual_seed(args.seed)\n",
        "torch.cuda.manual_seed_all(args.seed)\n",
        "torch.backends.cudnn.deterministic = True"
      ],
      "metadata": {
        "id": "mNipbMGnX9ts"
      },
      "execution_count": null,
      "outputs": []
    },
    {
      "cell_type": "code",
      "source": [
        "dataset = shakespeare_dataloaders(root=\"./shakespeare\", \n",
        "                                      batch_size=args.batch_size, \n",
        "                                      clients=args.client_num_in_total)\n"
      ],
      "metadata": {
        "id": "35XohSR7YCr6"
      },
      "execution_count": null,
      "outputs": []
    },
    {
      "cell_type": "code",
      "source": [
        "model = LSTM_shakespeare_1L()\n",
        "\n",
        "dummy_opt = torch.optim.SGD(copy.deepcopy(model).parameters(), lr=args.lr)\n",
        "dummy_scheduler = torch.optim.lr_scheduler.StepLR(optimizer=dummy_opt, \n",
        "                                                step_size = args.comm_round/5,\n",
        "                                                gamma = 0.5)\n",
        "model_trainer = ShaTrainer(model)"
      ],
      "metadata": {
        "id": "rV6ilvdBY3NO"
      },
      "execution_count": null,
      "outputs": []
    },
    {
      "cell_type": "code",
      "source": [
        "fedavgAPI = FedAvgAPI(dataset, device, args, model_trainer, scheduler=dummy_scheduler)"
      ],
      "metadata": {
        "colab": {
          "base_uri": "https://localhost:8080/"
        },
        "id": "O6CXOf5Eb_FD",
        "outputId": "c2452b6c-baee-4067-894f-ce3bd4b5dad8"
      },
      "execution_count": null,
      "outputs": [
        {
          "output_type": "stream",
          "name": "stderr",
          "text": [
            "INFO:root:############setup_clients (START)#############\n",
            "INFO:root:self.local_sample_number = 812\n",
            "INFO:root:self.local_sample_number = 11048\n",
            "INFO:root:self.local_sample_number = 4652\n",
            "INFO:root:self.local_sample_number = 844\n",
            "INFO:root:self.local_sample_number = 916\n",
            "INFO:root:self.local_sample_number = 1728\n",
            "INFO:root:self.local_sample_number = 4936\n",
            "INFO:root:self.local_sample_number = 2384\n",
            "INFO:root:self.local_sample_number = 10248\n",
            "INFO:root:self.local_sample_number = 6040\n",
            "INFO:root:############setup_clients (END)#############\n"
          ]
        }
      ]
    },
    {
      "cell_type": "code",
      "source": [
        "fedavgAPI.train()"
      ],
      "metadata": {
        "colab": {
          "base_uri": "https://localhost:8080/",
          "height": 1000
        },
        "id": "IuKCW1oZcB0L",
        "outputId": "d5a87172-cae3-4dea-cdc1-b662eaec1fb8"
      },
      "execution_count": null,
      "outputs": [
        {
          "output_type": "stream",
          "name": "stderr",
          "text": [
            "INFO:root:################Communication round : 0\n",
            "INFO:root:client_indexes = [0, 1, 2, 3, 4, 5, 6, 7, 8, 9]\n",
            "/usr/local/lib/python3.7/dist-packages/torch/optim/lr_scheduler.py:370: UserWarning: To get the last learning rate computed by the scheduler, please use `get_last_lr()`.\n",
            "  \"please use `get_last_lr()`.\", UserWarning)\n",
            "INFO:root:Client Index = 0\tEpoch: 0\tLoss: 3.330705\n",
            "INFO:root:Client Index = 1\tEpoch: 0\tLoss: 2.547839\n",
            "INFO:root:Client Index = 2\tEpoch: 0\tLoss: 2.772327\n",
            "INFO:root:Client Index = 3\tEpoch: 0\tLoss: 3.302735\n",
            "INFO:root:Client Index = 4\tEpoch: 0\tLoss: 3.200310\n",
            "INFO:root:Client Index = 5\tEpoch: 0\tLoss: 2.967614\n",
            "INFO:root:Client Index = 6\tEpoch: 0\tLoss: 2.738662\n",
            "INFO:root:Client Index = 7\tEpoch: 0\tLoss: 2.927332\n",
            "INFO:root:Client Index = 8\tEpoch: 0\tLoss: 2.617413\n",
            "INFO:root:Client Index = 9\tEpoch: 0\tLoss: 2.725196\n",
            "INFO:root:################local_test_on_all_clients : 0\n",
            "INFO:root:{'training_acc': 0.30049261083743845, 'training_loss': 2.8451580173276327}\n",
            "INFO:root:{'test_acc': 0.3333333333333333, 'test_loss': 2.6164823373158774}\n",
            "/usr/local/lib/python3.7/dist-packages/torch/optim/lr_scheduler.py:134: UserWarning: Detected call of `lr_scheduler.step()` before `optimizer.step()`. In PyTorch 1.1.0 and later, you should call them in the opposite order: `optimizer.step()` before `lr_scheduler.step()`.  Failure to do this will result in PyTorch skipping the first value of the learning rate schedule. See more details at https://pytorch.org/docs/stable/optim.html#how-to-adjust-learning-rate\n",
            "  \"https://pytorch.org/docs/stable/optim.html#how-to-adjust-learning-rate\", UserWarning)\n",
            "INFO:root:################Communication round : 1\n",
            "INFO:root:client_indexes = [0, 1, 2, 3, 4, 5, 6, 7, 8, 9]\n",
            "INFO:root:Client Index = 0\tEpoch: 0\tLoss: 2.708438\n",
            "INFO:root:Client Index = 1\tEpoch: 0\tLoss: 2.411252\n",
            "INFO:root:Client Index = 2\tEpoch: 0\tLoss: 2.512996\n",
            "INFO:root:Client Index = 3\tEpoch: 0\tLoss: 2.649294\n",
            "INFO:root:Client Index = 4\tEpoch: 0\tLoss: 2.557705\n",
            "INFO:root:Client Index = 5\tEpoch: 0\tLoss: 2.513765\n",
            "INFO:root:Client Index = 6\tEpoch: 0\tLoss: 2.498411\n",
            "INFO:root:Client Index = 7\tEpoch: 0\tLoss: 2.564750\n",
            "INFO:root:Client Index = 8\tEpoch: 0\tLoss: 2.468254\n",
            "INFO:root:Client Index = 9\tEpoch: 0\tLoss: 2.511974\n",
            "INFO:root:################local_test_on_all_clients : 1\n",
            "INFO:root:{'training_acc': 0.3251231527093596, 'training_loss': 2.462128883512149}\n",
            "INFO:root:{'test_acc': 0.4166666666666667, 'test_loss': 2.206064144770304}\n",
            "INFO:root:################Communication round : 2\n",
            "INFO:root:client_indexes = [0, 1, 2, 3, 4, 5, 6, 7, 8, 9]\n",
            "INFO:root:Client Index = 0\tEpoch: 0\tLoss: 2.577053\n",
            "INFO:root:Client Index = 1\tEpoch: 0\tLoss: 2.336562\n",
            "INFO:root:Client Index = 2\tEpoch: 0\tLoss: 2.417727\n",
            "INFO:root:Client Index = 3\tEpoch: 0\tLoss: 2.509575\n",
            "INFO:root:Client Index = 4\tEpoch: 0\tLoss: 2.400046\n",
            "INFO:root:Client Index = 5\tEpoch: 0\tLoss: 2.380674\n",
            "INFO:root:Client Index = 6\tEpoch: 0\tLoss: 2.408236\n",
            "INFO:root:Client Index = 7\tEpoch: 0\tLoss: 2.465525\n",
            "INFO:root:Client Index = 8\tEpoch: 0\tLoss: 2.395388\n",
            "INFO:root:Client Index = 9\tEpoch: 0\tLoss: 2.430822\n",
            "INFO:root:################local_test_on_all_clients : 2\n",
            "INFO:root:{'training_acc': 0.32142857142857145, 'training_loss': 2.409701513833013}\n",
            "INFO:root:{'test_acc': 0.4166666666666667, 'test_loss': 2.1312104066212973}\n",
            "INFO:root:################Communication round : 3\n",
            "INFO:root:client_indexes = [0, 1, 2, 3, 4, 5, 6, 7, 8, 9]\n",
            "INFO:root:Client Index = 0\tEpoch: 0\tLoss: 2.509138\n",
            "INFO:root:Client Index = 1\tEpoch: 0\tLoss: 2.300527\n",
            "INFO:root:Client Index = 2\tEpoch: 0\tLoss: 2.377664\n",
            "INFO:root:Client Index = 3\tEpoch: 0\tLoss: 2.464934\n",
            "INFO:root:Client Index = 4\tEpoch: 0\tLoss: 2.364876\n",
            "INFO:root:Client Index = 5\tEpoch: 0\tLoss: 2.324181\n",
            "INFO:root:Client Index = 6\tEpoch: 0\tLoss: 2.361125\n",
            "INFO:root:Client Index = 7\tEpoch: 0\tLoss: 2.405161\n",
            "INFO:root:Client Index = 8\tEpoch: 0\tLoss: 2.354799\n",
            "INFO:root:Client Index = 9\tEpoch: 0\tLoss: 2.386926\n",
            "INFO:root:################local_test_on_all_clients : 3\n",
            "INFO:root:{'training_acc': 0.33251231527093594, 'training_loss': 2.377964417922673}\n",
            "INFO:root:{'test_acc': 0.4166666666666667, 'test_loss': 2.073194225629171}\n",
            "INFO:root:################Communication round : 4\n",
            "INFO:root:client_indexes = [0, 1, 2, 3, 4, 5, 6, 7, 8, 9]\n",
            "INFO:root:Client Index = 0\tEpoch: 0\tLoss: 2.478979\n",
            "INFO:root:Client Index = 1\tEpoch: 0\tLoss: 2.281728\n",
            "INFO:root:Client Index = 2\tEpoch: 0\tLoss: 2.346989\n",
            "INFO:root:Client Index = 3\tEpoch: 0\tLoss: 2.422464\n",
            "INFO:root:Client Index = 4\tEpoch: 0\tLoss: 2.318503\n",
            "INFO:root:Client Index = 5\tEpoch: 0\tLoss: 2.273873\n",
            "INFO:root:Client Index = 6\tEpoch: 0\tLoss: 2.338038\n",
            "INFO:root:Client Index = 7\tEpoch: 0\tLoss: 2.378012\n",
            "INFO:root:Client Index = 8\tEpoch: 0\tLoss: 2.327618\n",
            "INFO:root:Client Index = 9\tEpoch: 0\tLoss: 2.362044\n",
            "INFO:root:################local_test_on_all_clients : 4\n",
            "INFO:root:{'training_acc': 0.33620689655172414, 'training_loss': 2.3524777213928147}\n",
            "INFO:root:{'test_acc': 0.4166666666666667, 'test_loss': 2.026942729949951}\n",
            "INFO:root:################Communication round : 5\n",
            "INFO:root:client_indexes = [0, 1, 2, 3, 4, 5, 6, 7, 8, 9]\n",
            "INFO:root:Client Index = 0\tEpoch: 0\tLoss: 2.462195\n",
            "INFO:root:Client Index = 1\tEpoch: 0\tLoss: 2.254985\n",
            "INFO:root:Client Index = 2\tEpoch: 0\tLoss: 2.325853\n",
            "INFO:root:Client Index = 3\tEpoch: 0\tLoss: 2.383186\n",
            "INFO:root:Client Index = 4\tEpoch: 0\tLoss: 2.311695\n",
            "INFO:root:Client Index = 5\tEpoch: 0\tLoss: 2.256610\n",
            "INFO:root:Client Index = 6\tEpoch: 0\tLoss: 2.317708\n",
            "INFO:root:Client Index = 7\tEpoch: 0\tLoss: 2.365845\n",
            "INFO:root:Client Index = 8\tEpoch: 0\tLoss: 2.301986\n",
            "INFO:root:Client Index = 9\tEpoch: 0\tLoss: 2.345900\n",
            "INFO:root:################local_test_on_all_clients : 5\n",
            "INFO:root:{'training_acc': 0.3472906403940887, 'training_loss': 2.340144494484211}\n",
            "INFO:root:{'test_acc': 0.4166666666666667, 'test_loss': 2.0054937998453775}\n",
            "INFO:root:################Communication round : 6\n",
            "INFO:root:client_indexes = [0, 1, 2, 3, 4, 5, 6, 7, 8, 9]\n",
            "INFO:root:Client Index = 0\tEpoch: 0\tLoss: 2.427568\n",
            "INFO:root:Client Index = 1\tEpoch: 0\tLoss: 2.241027\n",
            "INFO:root:Client Index = 2\tEpoch: 0\tLoss: 2.311569\n",
            "INFO:root:Client Index = 3\tEpoch: 0\tLoss: 2.370924\n",
            "INFO:root:Client Index = 4\tEpoch: 0\tLoss: 2.291814\n",
            "INFO:root:Client Index = 5\tEpoch: 0\tLoss: 2.250490\n",
            "INFO:root:Client Index = 6\tEpoch: 0\tLoss: 2.303479\n",
            "INFO:root:Client Index = 7\tEpoch: 0\tLoss: 2.345119\n",
            "INFO:root:Client Index = 8\tEpoch: 0\tLoss: 2.291254\n",
            "INFO:root:Client Index = 9\tEpoch: 0\tLoss: 2.329251\n",
            "INFO:root:################local_test_on_all_clients : 6\n",
            "INFO:root:{'training_acc': 0.3472906403940887, 'training_loss': 2.326493691634662}\n",
            "INFO:root:{'test_acc': 0.4166666666666667, 'test_loss': 1.9892579317092896}\n",
            "INFO:root:################Communication round : 7\n",
            "INFO:root:client_indexes = [0, 1, 2, 3, 4, 5, 6, 7, 8, 9]\n",
            "INFO:root:Client Index = 0\tEpoch: 0\tLoss: 2.446522\n",
            "INFO:root:Client Index = 1\tEpoch: 0\tLoss: 2.227981\n",
            "INFO:root:Client Index = 2\tEpoch: 0\tLoss: 2.288769\n",
            "INFO:root:Client Index = 3\tEpoch: 0\tLoss: 2.359414\n",
            "INFO:root:Client Index = 4\tEpoch: 0\tLoss: 2.286715\n",
            "INFO:root:Client Index = 5\tEpoch: 0\tLoss: 2.243610\n",
            "INFO:root:Client Index = 6\tEpoch: 0\tLoss: 2.281635\n",
            "INFO:root:Client Index = 7\tEpoch: 0\tLoss: 2.337624\n",
            "INFO:root:Client Index = 8\tEpoch: 0\tLoss: 2.282655\n",
            "INFO:root:Client Index = 9\tEpoch: 0\tLoss: 2.324542\n",
            "INFO:root:################local_test_on_all_clients : 7\n",
            "INFO:root:{'training_acc': 0.35344827586206895, 'training_loss': 2.317699607957173}\n",
            "INFO:root:{'test_acc': 0.4166666666666667, 'test_loss': 1.9646189610163372}\n",
            "INFO:root:################Communication round : 8\n",
            "INFO:root:client_indexes = [0, 1, 2, 3, 4, 5, 6, 7, 8, 9]\n",
            "INFO:root:Client Index = 0\tEpoch: 0\tLoss: 2.431785\n",
            "INFO:root:Client Index = 1\tEpoch: 0\tLoss: 2.219427\n",
            "INFO:root:Client Index = 2\tEpoch: 0\tLoss: 2.279900\n",
            "INFO:root:Client Index = 3\tEpoch: 0\tLoss: 2.340307\n",
            "INFO:root:Client Index = 4\tEpoch: 0\tLoss: 2.264235\n",
            "INFO:root:Client Index = 5\tEpoch: 0\tLoss: 2.214316\n",
            "INFO:root:Client Index = 6\tEpoch: 0\tLoss: 2.285345\n",
            "INFO:root:Client Index = 7\tEpoch: 0\tLoss: 2.327273\n",
            "INFO:root:Client Index = 8\tEpoch: 0\tLoss: 2.256840\n",
            "INFO:root:Client Index = 9\tEpoch: 0\tLoss: 2.312440\n",
            "INFO:root:################local_test_on_all_clients : 8\n",
            "INFO:root:{'training_acc': 0.3583743842364532, 'training_loss': 2.305311298135466}\n",
            "INFO:root:{'test_acc': 0.4166666666666667, 'test_loss': 1.9599382877349854}\n",
            "INFO:root:################Communication round : 9\n",
            "INFO:root:client_indexes = [0, 1, 2, 3, 4, 5, 6, 7, 8, 9]\n",
            "INFO:root:Client Index = 0\tEpoch: 0\tLoss: 2.434353\n",
            "INFO:root:Client Index = 1\tEpoch: 0\tLoss: 2.211444\n",
            "INFO:root:Client Index = 2\tEpoch: 0\tLoss: 2.280298\n",
            "INFO:root:Client Index = 3\tEpoch: 0\tLoss: 2.327500\n",
            "INFO:root:Client Index = 4\tEpoch: 0\tLoss: 2.250216\n",
            "INFO:root:Client Index = 5\tEpoch: 0\tLoss: 2.207588\n",
            "INFO:root:Client Index = 6\tEpoch: 0\tLoss: 2.261833\n",
            "INFO:root:Client Index = 7\tEpoch: 0\tLoss: 2.323957\n",
            "INFO:root:Client Index = 8\tEpoch: 0\tLoss: 2.253087\n",
            "INFO:root:Client Index = 9\tEpoch: 0\tLoss: 2.299463\n",
            "INFO:root:################local_test_on_all_clients : 9\n",
            "INFO:root:{'training_acc': 0.35591133004926107, 'training_loss': 2.302591079267962}\n",
            "INFO:root:{'test_acc': 0.4166666666666667, 'test_loss': 1.9218616485595703}\n",
            "INFO:root:################Communication round : 10\n",
            "INFO:root:client_indexes = [0, 1, 2, 3, 4, 5, 6, 7, 8, 9]\n",
            "INFO:root:Client Index = 0\tEpoch: 0\tLoss: 2.430111\n",
            "INFO:root:Client Index = 1\tEpoch: 0\tLoss: 2.198201\n",
            "INFO:root:Client Index = 2\tEpoch: 0\tLoss: 2.268674\n",
            "INFO:root:Client Index = 3\tEpoch: 0\tLoss: 2.341654\n",
            "INFO:root:Client Index = 4\tEpoch: 0\tLoss: 2.251328\n",
            "INFO:root:Client Index = 5\tEpoch: 0\tLoss: 2.211359\n",
            "INFO:root:Client Index = 6\tEpoch: 0\tLoss: 2.257633\n",
            "INFO:root:Client Index = 7\tEpoch: 0\tLoss: 2.305859\n",
            "INFO:root:Client Index = 8\tEpoch: 0\tLoss: 2.245138\n",
            "INFO:root:Client Index = 9\tEpoch: 0\tLoss: 2.300191\n",
            "INFO:root:################local_test_on_all_clients : 10\n",
            "INFO:root:{'training_acc': 0.35467980295566504, 'training_loss': 2.2980658520618684}\n",
            "INFO:root:{'test_acc': 0.4166666666666667, 'test_loss': 1.9066137075424194}\n",
            "INFO:root:################Communication round : 11\n",
            "INFO:root:client_indexes = [0, 1, 2, 3, 4, 5, 6, 7, 8, 9]\n",
            "INFO:root:Client Index = 0\tEpoch: 0\tLoss: 2.402738\n",
            "INFO:root:Client Index = 1\tEpoch: 0\tLoss: 2.197503\n",
            "INFO:root:Client Index = 2\tEpoch: 0\tLoss: 2.259523\n",
            "INFO:root:Client Index = 3\tEpoch: 0\tLoss: 2.326327\n",
            "INFO:root:Client Index = 4\tEpoch: 0\tLoss: 2.226522\n",
            "INFO:root:Client Index = 5\tEpoch: 0\tLoss: 2.196848\n",
            "INFO:root:Client Index = 6\tEpoch: 0\tLoss: 2.248775\n",
            "INFO:root:Client Index = 7\tEpoch: 0\tLoss: 2.306412\n",
            "INFO:root:Client Index = 8\tEpoch: 0\tLoss: 2.237156\n",
            "INFO:root:Client Index = 9\tEpoch: 0\tLoss: 2.287214\n",
            "INFO:root:################local_test_on_all_clients : 11\n",
            "INFO:root:{'training_acc': 0.3620689655172414, 'training_loss': 2.286098437062625}\n",
            "INFO:root:{'test_acc': 0.4166666666666667, 'test_loss': 1.907217025756836}\n",
            "INFO:root:################Communication round : 12\n",
            "INFO:root:client_indexes = [0, 1, 2, 3, 4, 5, 6, 7, 8, 9]\n",
            "INFO:root:Client Index = 0\tEpoch: 0\tLoss: 2.420528\n",
            "INFO:root:Client Index = 1\tEpoch: 0\tLoss: 2.183638\n",
            "INFO:root:Client Index = 2\tEpoch: 0\tLoss: 2.250596\n",
            "INFO:root:Client Index = 3\tEpoch: 0\tLoss: 2.317626\n",
            "INFO:root:Client Index = 4\tEpoch: 0\tLoss: 2.228954\n",
            "INFO:root:Client Index = 5\tEpoch: 0\tLoss: 2.174754\n",
            "INFO:root:Client Index = 6\tEpoch: 0\tLoss: 2.248963\n",
            "INFO:root:Client Index = 7\tEpoch: 0\tLoss: 2.311893\n",
            "INFO:root:Client Index = 8\tEpoch: 0\tLoss: 2.237992\n",
            "INFO:root:Client Index = 9\tEpoch: 0\tLoss: 2.282645\n",
            "INFO:root:################local_test_on_all_clients : 12\n",
            "INFO:root:{'training_acc': 0.35960591133004927, 'training_loss': 2.2849882415362766}\n",
            "INFO:root:{'test_acc': 0.4166666666666667, 'test_loss': 1.9079753557840984}\n",
            "INFO:root:################Communication round : 13\n",
            "INFO:root:client_indexes = [0, 1, 2, 3, 4, 5, 6, 7, 8, 9]\n",
            "INFO:root:Client Index = 0\tEpoch: 0\tLoss: 2.387078\n",
            "INFO:root:Client Index = 1\tEpoch: 0\tLoss: 2.181721\n",
            "INFO:root:Client Index = 2\tEpoch: 0\tLoss: 2.247707\n",
            "INFO:root:Client Index = 3\tEpoch: 0\tLoss: 2.303521\n",
            "INFO:root:Client Index = 4\tEpoch: 0\tLoss: 2.214587\n",
            "INFO:root:Client Index = 5\tEpoch: 0\tLoss: 2.187585\n",
            "INFO:root:Client Index = 6\tEpoch: 0\tLoss: 2.251363\n",
            "INFO:root:Client Index = 7\tEpoch: 0\tLoss: 2.318585\n",
            "INFO:root:Client Index = 8\tEpoch: 0\tLoss: 2.225552\n",
            "INFO:root:Client Index = 9\tEpoch: 0\tLoss: 2.264630\n",
            "INFO:root:################local_test_on_all_clients : 13\n",
            "INFO:root:{'training_acc': 0.35467980295566504, 'training_loss': 2.2806634483079016}\n",
            "INFO:root:{'test_acc': 0.4166666666666667, 'test_loss': 1.889288107554118}\n",
            "INFO:root:################Communication round : 14\n",
            "INFO:root:client_indexes = [0, 1, 2, 3, 4, 5, 6, 7, 8, 9]\n",
            "INFO:root:Client Index = 0\tEpoch: 0\tLoss: 2.396194\n",
            "INFO:root:Client Index = 1\tEpoch: 0\tLoss: 2.175426\n",
            "INFO:root:Client Index = 2\tEpoch: 0\tLoss: 2.251546\n",
            "INFO:root:Client Index = 3\tEpoch: 0\tLoss: 2.315304\n",
            "INFO:root:Client Index = 4\tEpoch: 0\tLoss: 2.214010\n",
            "INFO:root:Client Index = 5\tEpoch: 0\tLoss: 2.178382\n",
            "INFO:root:Client Index = 6\tEpoch: 0\tLoss: 2.235500\n",
            "INFO:root:Client Index = 7\tEpoch: 0\tLoss: 2.295088\n",
            "INFO:root:Client Index = 8\tEpoch: 0\tLoss: 2.220560\n",
            "INFO:root:Client Index = 9\tEpoch: 0\tLoss: 2.261658\n",
            "INFO:root:################local_test_on_all_clients : 14\n",
            "INFO:root:{'training_acc': 0.3657635467980296, 'training_loss': 2.2743961059401188}\n",
            "INFO:root:{'test_acc': 0.4166666666666667, 'test_loss': 1.8868438800175984}\n",
            "INFO:root:################Communication round : 15\n",
            "INFO:root:client_indexes = [0, 1, 2, 3, 4, 5, 6, 7, 8, 9]\n",
            "INFO:root:Client Index = 0\tEpoch: 0\tLoss: 2.396421\n",
            "INFO:root:Client Index = 1\tEpoch: 0\tLoss: 2.168998\n",
            "INFO:root:Client Index = 2\tEpoch: 0\tLoss: 2.232994\n",
            "INFO:root:Client Index = 3\tEpoch: 0\tLoss: 2.287583\n",
            "INFO:root:Client Index = 4\tEpoch: 0\tLoss: 2.216674\n",
            "INFO:root:Client Index = 5\tEpoch: 0\tLoss: 2.166724\n",
            "INFO:root:Client Index = 6\tEpoch: 0\tLoss: 2.226993\n",
            "INFO:root:Client Index = 7\tEpoch: 0\tLoss: 2.290405\n",
            "INFO:root:Client Index = 8\tEpoch: 0\tLoss: 2.215680\n",
            "INFO:root:Client Index = 9\tEpoch: 0\tLoss: 2.268012\n",
            "INFO:root:################local_test_on_all_clients : 15\n",
            "INFO:root:{'training_acc': 0.3645320197044335, 'training_loss': 2.2789038874832865}\n",
            "INFO:root:{'test_acc': 0.4166666666666667, 'test_loss': 1.8916085163752239}\n",
            "INFO:root:################Communication round : 16\n",
            "INFO:root:client_indexes = [0, 1, 2, 3, 4, 5, 6, 7, 8, 9]\n",
            "INFO:root:Client Index = 0\tEpoch: 0\tLoss: 2.313583\n",
            "INFO:root:Client Index = 1\tEpoch: 0\tLoss: 2.118636\n",
            "INFO:root:Client Index = 2\tEpoch: 0\tLoss: 2.183861\n",
            "INFO:root:Client Index = 3\tEpoch: 0\tLoss: 2.249929\n",
            "INFO:root:Client Index = 4\tEpoch: 0\tLoss: 2.156689\n",
            "INFO:root:Client Index = 5\tEpoch: 0\tLoss: 2.125490\n",
            "INFO:root:Client Index = 6\tEpoch: 0\tLoss: 2.170125\n",
            "INFO:root:Client Index = 7\tEpoch: 0\tLoss: 2.232621\n",
            "INFO:root:Client Index = 8\tEpoch: 0\tLoss: 2.145285\n",
            "INFO:root:Client Index = 9\tEpoch: 0\tLoss: 2.201879\n",
            "INFO:root:################local_test_on_all_clients : 16\n",
            "INFO:root:{'training_acc': 0.3620689655172414, 'training_loss': 2.264923261891445}\n",
            "INFO:root:{'test_acc': 0.4166666666666667, 'test_loss': 1.8289178609848022}\n",
            "INFO:root:################Communication round : 17\n",
            "INFO:root:client_indexes = [0, 1, 2, 3, 4, 5, 6, 7, 8, 9]\n",
            "INFO:root:Client Index = 0\tEpoch: 0\tLoss: 2.351714\n",
            "INFO:root:Client Index = 1\tEpoch: 0\tLoss: 2.128074\n",
            "INFO:root:Client Index = 2\tEpoch: 0\tLoss: 2.199468\n",
            "INFO:root:Client Index = 3\tEpoch: 0\tLoss: 2.267934\n",
            "INFO:root:Client Index = 4\tEpoch: 0\tLoss: 2.153609\n",
            "INFO:root:Client Index = 5\tEpoch: 0\tLoss: 2.128041\n",
            "INFO:root:Client Index = 6\tEpoch: 0\tLoss: 2.182442\n",
            "INFO:root:Client Index = 7\tEpoch: 0\tLoss: 2.248797\n",
            "INFO:root:Client Index = 8\tEpoch: 0\tLoss: 2.162079\n",
            "INFO:root:Client Index = 9\tEpoch: 0\tLoss: 2.213896\n",
            "INFO:root:################local_test_on_all_clients : 17\n",
            "INFO:root:{'training_acc': 0.3620689655172414, 'training_loss': 2.2647725091191937}\n",
            "INFO:root:{'test_acc': 0.4166666666666667, 'test_loss': 1.8270764748255413}\n",
            "INFO:root:################Communication round : 18\n",
            "INFO:root:client_indexes = [0, 1, 2, 3, 4, 5, 6, 7, 8, 9]\n",
            "INFO:root:Client Index = 0\tEpoch: 0\tLoss: 2.355001\n",
            "INFO:root:Client Index = 1\tEpoch: 0\tLoss: 2.126828\n",
            "INFO:root:Client Index = 2\tEpoch: 0\tLoss: 2.191658\n",
            "INFO:root:Client Index = 3\tEpoch: 0\tLoss: 2.260910\n",
            "INFO:root:Client Index = 4\tEpoch: 0\tLoss: 2.131659\n",
            "INFO:root:Client Index = 5\tEpoch: 0\tLoss: 2.107000\n",
            "INFO:root:Client Index = 6\tEpoch: 0\tLoss: 2.186334\n",
            "INFO:root:Client Index = 7\tEpoch: 0\tLoss: 2.263198\n",
            "INFO:root:Client Index = 8\tEpoch: 0\tLoss: 2.159974\n",
            "INFO:root:Client Index = 9\tEpoch: 0\tLoss: 2.222935\n",
            "INFO:root:################local_test_on_all_clients : 18\n",
            "INFO:root:{'training_acc': 0.3620689655172414, 'training_loss': 2.261188796588353}\n",
            "INFO:root:{'test_acc': 0.4166666666666667, 'test_loss': 1.8266846736272175}\n",
            "INFO:root:################Communication round : 19\n",
            "INFO:root:client_indexes = [0, 1, 2, 3, 4, 5, 6, 7, 8, 9]\n",
            "INFO:root:Client Index = 0\tEpoch: 0\tLoss: 2.361282\n",
            "INFO:root:Client Index = 1\tEpoch: 0\tLoss: 2.116053\n",
            "INFO:root:Client Index = 2\tEpoch: 0\tLoss: 2.186107\n",
            "INFO:root:Client Index = 3\tEpoch: 0\tLoss: 2.227295\n",
            "INFO:root:Client Index = 4\tEpoch: 0\tLoss: 2.146211\n",
            "INFO:root:Client Index = 5\tEpoch: 0\tLoss: 2.119705\n",
            "INFO:root:Client Index = 6\tEpoch: 0\tLoss: 2.180657\n",
            "INFO:root:Client Index = 7\tEpoch: 0\tLoss: 2.233328\n",
            "INFO:root:Client Index = 8\tEpoch: 0\tLoss: 2.154669\n",
            "INFO:root:Client Index = 9\tEpoch: 0\tLoss: 2.215871\n",
            "INFO:root:################local_test_on_all_clients : 19\n",
            "INFO:root:{'training_acc': 0.3620689655172414, 'training_loss': 2.2577621836967654}\n",
            "INFO:root:{'test_acc': 0.4166666666666667, 'test_loss': 1.840258280436198}\n",
            "INFO:root:################Communication round : 20\n",
            "INFO:root:client_indexes = [0, 1, 2, 3, 4, 5, 6, 7, 8, 9]\n",
            "INFO:root:Client Index = 0\tEpoch: 0\tLoss: 2.338050\n",
            "INFO:root:Client Index = 1\tEpoch: 0\tLoss: 2.107838\n",
            "INFO:root:Client Index = 2\tEpoch: 0\tLoss: 2.179495\n",
            "INFO:root:Client Index = 3\tEpoch: 0\tLoss: 2.233565\n",
            "INFO:root:Client Index = 4\tEpoch: 0\tLoss: 2.152522\n",
            "INFO:root:Client Index = 5\tEpoch: 0\tLoss: 2.115557\n",
            "INFO:root:Client Index = 6\tEpoch: 0\tLoss: 2.171403\n",
            "INFO:root:Client Index = 7\tEpoch: 0\tLoss: 2.239666\n",
            "INFO:root:Client Index = 8\tEpoch: 0\tLoss: 2.154129\n",
            "INFO:root:Client Index = 9\tEpoch: 0\tLoss: 2.207073\n",
            "INFO:root:################local_test_on_all_clients : 20\n",
            "INFO:root:{'training_acc': 0.3620689655172414, 'training_loss': 2.252296912552688}\n",
            "INFO:root:{'test_acc': 0.4166666666666667, 'test_loss': 1.8186128934224446}\n",
            "INFO:root:################Communication round : 21\n",
            "INFO:root:client_indexes = [0, 1, 2, 3, 4, 5, 6, 7, 8, 9]\n",
            "INFO:root:Client Index = 0\tEpoch: 0\tLoss: 2.333997\n",
            "INFO:root:Client Index = 1\tEpoch: 0\tLoss: 2.103327\n",
            "INFO:root:Client Index = 2\tEpoch: 0\tLoss: 2.190283\n",
            "INFO:root:Client Index = 3\tEpoch: 0\tLoss: 2.266644\n",
            "INFO:root:Client Index = 4\tEpoch: 0\tLoss: 2.151747\n",
            "INFO:root:Client Index = 5\tEpoch: 0\tLoss: 2.115923\n",
            "INFO:root:Client Index = 6\tEpoch: 0\tLoss: 2.170908\n",
            "INFO:root:Client Index = 7\tEpoch: 0\tLoss: 2.237255\n",
            "INFO:root:Client Index = 8\tEpoch: 0\tLoss: 2.148245\n",
            "INFO:root:Client Index = 9\tEpoch: 0\tLoss: 2.210320\n",
            "INFO:root:################local_test_on_all_clients : 21\n",
            "INFO:root:{'training_acc': 0.3657635467980296, 'training_loss': 2.251958036070387}\n",
            "INFO:root:{'test_acc': 0.4166666666666667, 'test_loss': 1.8137441078821819}\n",
            "INFO:root:################Communication round : 22\n",
            "INFO:root:client_indexes = [0, 1, 2, 3, 4, 5, 6, 7, 8, 9]\n",
            "INFO:root:Client Index = 0\tEpoch: 0\tLoss: 2.341778\n",
            "INFO:root:Client Index = 1\tEpoch: 0\tLoss: 2.105856\n",
            "INFO:root:Client Index = 2\tEpoch: 0\tLoss: 2.181833\n",
            "INFO:root:Client Index = 3\tEpoch: 0\tLoss: 2.238456\n",
            "INFO:root:Client Index = 4\tEpoch: 0\tLoss: 2.163845\n",
            "INFO:root:Client Index = 5\tEpoch: 0\tLoss: 2.132574\n",
            "INFO:root:Client Index = 6\tEpoch: 0\tLoss: 2.169277\n",
            "INFO:root:Client Index = 7\tEpoch: 0\tLoss: 2.241271\n",
            "INFO:root:Client Index = 8\tEpoch: 0\tLoss: 2.150467\n",
            "INFO:root:Client Index = 9\tEpoch: 0\tLoss: 2.203818\n",
            "INFO:root:################local_test_on_all_clients : 22\n",
            "INFO:root:{'training_acc': 0.3669950738916256, 'training_loss': 2.2499516071944403}\n",
            "INFO:root:{'test_acc': 0.4166666666666667, 'test_loss': 1.8241478602091472}\n",
            "INFO:root:################Communication round : 23\n",
            "INFO:root:client_indexes = [0, 1, 2, 3, 4, 5, 6, 7, 8, 9]\n",
            "INFO:root:Client Index = 0\tEpoch: 0\tLoss: 2.336286\n",
            "INFO:root:Client Index = 1\tEpoch: 0\tLoss: 2.100450\n",
            "INFO:root:Client Index = 2\tEpoch: 0\tLoss: 2.179555\n",
            "INFO:root:Client Index = 3\tEpoch: 0\tLoss: 2.247882\n",
            "INFO:root:Client Index = 4\tEpoch: 0\tLoss: 2.140901\n",
            "INFO:root:Client Index = 5\tEpoch: 0\tLoss: 2.101527\n",
            "INFO:root:Client Index = 6\tEpoch: 0\tLoss: 2.173414\n",
            "INFO:root:Client Index = 7\tEpoch: 0\tLoss: 2.237762\n",
            "INFO:root:Client Index = 8\tEpoch: 0\tLoss: 2.145405\n",
            "INFO:root:Client Index = 9\tEpoch: 0\tLoss: 2.207867\n",
            "INFO:root:################local_test_on_all_clients : 23\n",
            "INFO:root:{'training_acc': 0.3645320197044335, 'training_loss': 2.2492123683685152}\n",
            "INFO:root:{'test_acc': 0.4166666666666667, 'test_loss': 1.8214141130447388}\n",
            "INFO:root:################Communication round : 24\n",
            "INFO:root:client_indexes = [0, 1, 2, 3, 4, 5, 6, 7, 8, 9]\n",
            "INFO:root:Client Index = 0\tEpoch: 0\tLoss: 2.341677\n",
            "INFO:root:Client Index = 1\tEpoch: 0\tLoss: 2.091135\n",
            "INFO:root:Client Index = 2\tEpoch: 0\tLoss: 2.169540\n",
            "INFO:root:Client Index = 3\tEpoch: 0\tLoss: 2.230605\n",
            "INFO:root:Client Index = 4\tEpoch: 0\tLoss: 2.141984\n",
            "INFO:root:Client Index = 5\tEpoch: 0\tLoss: 2.107621\n",
            "INFO:root:Client Index = 6\tEpoch: 0\tLoss: 2.171473\n",
            "INFO:root:Client Index = 7\tEpoch: 0\tLoss: 2.244737\n",
            "INFO:root:Client Index = 8\tEpoch: 0\tLoss: 2.139589\n",
            "INFO:root:Client Index = 9\tEpoch: 0\tLoss: 2.209591\n",
            "INFO:root:################local_test_on_all_clients : 24\n",
            "INFO:root:{'training_acc': 0.3645320197044335, 'training_loss': 2.244909649118414}\n",
            "INFO:root:{'test_acc': 0.4166666666666667, 'test_loss': 1.8260836601257324}\n",
            "INFO:root:################Communication round : 25\n",
            "INFO:root:client_indexes = [0, 1, 2, 3, 4, 5, 6, 7, 8, 9]\n",
            "INFO:root:Client Index = 0\tEpoch: 0\tLoss: 2.336523\n",
            "INFO:root:Client Index = 1\tEpoch: 0\tLoss: 2.094990\n",
            "INFO:root:Client Index = 2\tEpoch: 0\tLoss: 2.175437\n",
            "INFO:root:Client Index = 3\tEpoch: 0\tLoss: 2.244189\n",
            "INFO:root:Client Index = 4\tEpoch: 0\tLoss: 2.137826\n",
            "INFO:root:Client Index = 5\tEpoch: 0\tLoss: 2.092737\n",
            "INFO:root:Client Index = 6\tEpoch: 0\tLoss: 2.164617\n",
            "INFO:root:Client Index = 7\tEpoch: 0\tLoss: 2.226797\n",
            "INFO:root:Client Index = 8\tEpoch: 0\tLoss: 2.135624\n",
            "INFO:root:Client Index = 9\tEpoch: 0\tLoss: 2.200065\n",
            "INFO:root:################local_test_on_all_clients : 25\n",
            "INFO:root:{'training_acc': 0.3645320197044335, 'training_loss': 2.2432887724467685}\n",
            "INFO:root:{'test_acc': 0.4166666666666667, 'test_loss': 1.8323780695597331}\n",
            "INFO:root:################Communication round : 26\n",
            "INFO:root:client_indexes = [0, 1, 2, 3, 4, 5, 6, 7, 8, 9]\n",
            "INFO:root:Client Index = 0\tEpoch: 0\tLoss: 2.343080\n",
            "INFO:root:Client Index = 1\tEpoch: 0\tLoss: 2.089186\n",
            "INFO:root:Client Index = 2\tEpoch: 0\tLoss: 2.177460\n",
            "INFO:root:Client Index = 3\tEpoch: 0\tLoss: 2.206704\n",
            "INFO:root:Client Index = 4\tEpoch: 0\tLoss: 2.136854\n",
            "INFO:root:Client Index = 5\tEpoch: 0\tLoss: 2.109314\n",
            "INFO:root:Client Index = 6\tEpoch: 0\tLoss: 2.162627\n",
            "INFO:root:Client Index = 7\tEpoch: 0\tLoss: 2.244671\n",
            "INFO:root:Client Index = 8\tEpoch: 0\tLoss: 2.134822\n",
            "INFO:root:Client Index = 9\tEpoch: 0\tLoss: 2.201781\n",
            "INFO:root:################local_test_on_all_clients : 26\n",
            "INFO:root:{'training_acc': 0.3657635467980296, 'training_loss': 2.240499453004358}\n",
            "INFO:root:{'test_acc': 0.5, 'test_loss': 1.836911678314209}\n",
            "INFO:root:################Communication round : 27\n",
            "INFO:root:client_indexes = [0, 1, 2, 3, 4, 5, 6, 7, 8, 9]\n",
            "INFO:root:Client Index = 0\tEpoch: 0\tLoss: 2.327973\n",
            "INFO:root:Client Index = 1\tEpoch: 0\tLoss: 2.096348\n",
            "INFO:root:Client Index = 2\tEpoch: 0\tLoss: 2.172197\n",
            "INFO:root:Client Index = 3\tEpoch: 0\tLoss: 2.229639\n",
            "INFO:root:Client Index = 4\tEpoch: 0\tLoss: 2.135809\n",
            "INFO:root:Client Index = 5\tEpoch: 0\tLoss: 2.108777\n",
            "INFO:root:Client Index = 6\tEpoch: 0\tLoss: 2.159603\n",
            "INFO:root:Client Index = 7\tEpoch: 0\tLoss: 2.236924\n",
            "INFO:root:Client Index = 8\tEpoch: 0\tLoss: 2.133711\n",
            "INFO:root:Client Index = 9\tEpoch: 0\tLoss: 2.196912\n",
            "INFO:root:################local_test_on_all_clients : 27\n",
            "INFO:root:{'training_acc': 0.3669950738916256, 'training_loss': 2.2386483118451874}\n",
            "INFO:root:{'test_acc': 0.4166666666666667, 'test_loss': 1.8340822458267212}\n",
            "INFO:root:################Communication round : 28\n",
            "INFO:root:client_indexes = [0, 1, 2, 3, 4, 5, 6, 7, 8, 9]\n",
            "INFO:root:Client Index = 0\tEpoch: 0\tLoss: 2.334378\n",
            "INFO:root:Client Index = 1\tEpoch: 0\tLoss: 2.085829\n",
            "INFO:root:Client Index = 2\tEpoch: 0\tLoss: 2.185314\n",
            "INFO:root:Client Index = 3\tEpoch: 0\tLoss: 2.237340\n",
            "INFO:root:Client Index = 4\tEpoch: 0\tLoss: 2.125799\n",
            "INFO:root:Client Index = 5\tEpoch: 0\tLoss: 2.099315\n",
            "INFO:root:Client Index = 6\tEpoch: 0\tLoss: 2.157441\n",
            "INFO:root:Client Index = 7\tEpoch: 0\tLoss: 2.227051\n",
            "INFO:root:Client Index = 8\tEpoch: 0\tLoss: 2.137213\n",
            "INFO:root:Client Index = 9\tEpoch: 0\tLoss: 2.189284\n",
            "INFO:root:################local_test_on_all_clients : 28\n",
            "INFO:root:{'training_acc': 0.3682266009852217, 'training_loss': 2.2373230474923043}\n",
            "INFO:root:{'test_acc': 0.4166666666666667, 'test_loss': 1.8447353045145671}\n",
            "INFO:root:################Communication round : 29\n",
            "INFO:root:client_indexes = [0, 1, 2, 3, 4, 5, 6, 7, 8, 9]\n",
            "INFO:root:Client Index = 0\tEpoch: 0\tLoss: 2.327903\n",
            "INFO:root:Client Index = 1\tEpoch: 0\tLoss: 2.084185\n",
            "INFO:root:Client Index = 2\tEpoch: 0\tLoss: 2.169740\n",
            "INFO:root:Client Index = 3\tEpoch: 0\tLoss: 2.234753\n",
            "INFO:root:Client Index = 4\tEpoch: 0\tLoss: 2.135171\n",
            "INFO:root:Client Index = 5\tEpoch: 0\tLoss: 2.095665\n",
            "INFO:root:Client Index = 6\tEpoch: 0\tLoss: 2.150457\n",
            "INFO:root:Client Index = 7\tEpoch: 0\tLoss: 2.240855\n",
            "INFO:root:Client Index = 8\tEpoch: 0\tLoss: 2.123282\n",
            "INFO:root:Client Index = 9\tEpoch: 0\tLoss: 2.180121\n",
            "INFO:root:################local_test_on_all_clients : 29\n",
            "INFO:root:{'training_acc': 0.37561576354679804, 'training_loss': 2.2366316204000576}\n",
            "INFO:root:{'test_acc': 0.4166666666666667, 'test_loss': 1.8350459337234497}\n",
            "INFO:root:################Communication round : 30\n",
            "INFO:root:client_indexes = [0, 1, 2, 3, 4, 5, 6, 7, 8, 9]\n",
            "INFO:root:Client Index = 0\tEpoch: 0\tLoss: 2.320171\n",
            "INFO:root:Client Index = 1\tEpoch: 0\tLoss: 2.084788\n",
            "INFO:root:Client Index = 2\tEpoch: 0\tLoss: 2.170220\n",
            "INFO:root:Client Index = 3\tEpoch: 0\tLoss: 2.218138\n",
            "INFO:root:Client Index = 4\tEpoch: 0\tLoss: 2.142790\n",
            "INFO:root:Client Index = 5\tEpoch: 0\tLoss: 2.079605\n",
            "INFO:root:Client Index = 6\tEpoch: 0\tLoss: 2.153114\n",
            "INFO:root:Client Index = 7\tEpoch: 0\tLoss: 2.238205\n",
            "INFO:root:Client Index = 8\tEpoch: 0\tLoss: 2.128148\n",
            "INFO:root:Client Index = 9\tEpoch: 0\tLoss: 2.183876\n",
            "INFO:root:################local_test_on_all_clients : 30\n",
            "INFO:root:{'training_acc': 0.3694581280788177, 'training_loss': 2.2363634094816125}\n",
            "INFO:root:{'test_acc': 0.4166666666666667, 'test_loss': 1.8436968326568604}\n",
            "INFO:root:################Communication round : 31\n",
            "INFO:root:client_indexes = [0, 1, 2, 3, 4, 5, 6, 7, 8, 9]\n",
            "INFO:root:Client Index = 0\tEpoch: 0\tLoss: 2.336598\n",
            "INFO:root:Client Index = 1\tEpoch: 0\tLoss: 2.077189\n",
            "INFO:root:Client Index = 2\tEpoch: 0\tLoss: 2.160553\n",
            "INFO:root:Client Index = 3\tEpoch: 0\tLoss: 2.225324\n",
            "INFO:root:Client Index = 4\tEpoch: 0\tLoss: 2.133893\n",
            "INFO:root:Client Index = 5\tEpoch: 0\tLoss: 2.082452\n",
            "INFO:root:Client Index = 6\tEpoch: 0\tLoss: 2.149694\n",
            "INFO:root:Client Index = 7\tEpoch: 0\tLoss: 2.216555\n",
            "INFO:root:Client Index = 8\tEpoch: 0\tLoss: 2.124295\n",
            "INFO:root:Client Index = 9\tEpoch: 0\tLoss: 2.190640\n",
            "INFO:root:################local_test_on_all_clients : 31\n",
            "INFO:root:{'training_acc': 0.3694581280788177, 'training_loss': 2.2301746357250685}\n",
            "INFO:root:{'test_acc': 0.4166666666666667, 'test_loss': 1.8485688368479412}\n",
            "INFO:root:################Communication round : 32\n",
            "INFO:root:client_indexes = [0, 1, 2, 3, 4, 5, 6, 7, 8, 9]\n",
            "INFO:root:Client Index = 0\tEpoch: 0\tLoss: 2.307602\n",
            "INFO:root:Client Index = 1\tEpoch: 0\tLoss: 2.046743\n",
            "INFO:root:Client Index = 2\tEpoch: 0\tLoss: 2.132733\n",
            "INFO:root:Client Index = 3\tEpoch: 0\tLoss: 2.216736\n",
            "INFO:root:Client Index = 4\tEpoch: 0\tLoss: 2.093560\n",
            "INFO:root:Client Index = 5\tEpoch: 0\tLoss: 2.072854\n",
            "INFO:root:Client Index = 6\tEpoch: 0\tLoss: 2.125005\n",
            "INFO:root:Client Index = 7\tEpoch: 0\tLoss: 2.200993\n",
            "INFO:root:Client Index = 8\tEpoch: 0\tLoss: 2.094956\n",
            "INFO:root:Client Index = 9\tEpoch: 0\tLoss: 2.154239\n",
            "INFO:root:################local_test_on_all_clients : 32\n",
            "INFO:root:{'training_acc': 0.3657635467980296, 'training_loss': 2.229384392059495}\n",
            "INFO:root:{'test_acc': 0.4166666666666667, 'test_loss': 1.8360480467478435}\n",
            "INFO:root:################Communication round : 33\n",
            "INFO:root:client_indexes = [0, 1, 2, 3, 4, 5, 6, 7, 8, 9]\n",
            "INFO:root:Client Index = 0\tEpoch: 0\tLoss: 2.306741\n",
            "INFO:root:Client Index = 1\tEpoch: 0\tLoss: 2.052734\n",
            "INFO:root:Client Index = 2\tEpoch: 0\tLoss: 2.142657\n",
            "INFO:root:Client Index = 3\tEpoch: 0\tLoss: 2.206105\n",
            "INFO:root:Client Index = 4\tEpoch: 0\tLoss: 2.104734\n",
            "INFO:root:Client Index = 5\tEpoch: 0\tLoss: 2.079419\n",
            "INFO:root:Client Index = 6\tEpoch: 0\tLoss: 2.126064\n",
            "INFO:root:Client Index = 7\tEpoch: 0\tLoss: 2.207605\n",
            "INFO:root:Client Index = 8\tEpoch: 0\tLoss: 2.093215\n",
            "INFO:root:Client Index = 9\tEpoch: 0\tLoss: 2.170429\n",
            "INFO:root:################local_test_on_all_clients : 33\n",
            "INFO:root:{'training_acc': 0.3645320197044335, 'training_loss': 2.2285590700328055}\n",
            "INFO:root:{'test_acc': 0.4166666666666667, 'test_loss': 1.8232385317484539}\n",
            "INFO:root:################Communication round : 34\n",
            "INFO:root:client_indexes = [0, 1, 2, 3, 4, 5, 6, 7, 8, 9]\n",
            "INFO:root:Client Index = 0\tEpoch: 0\tLoss: 2.308369\n",
            "INFO:root:Client Index = 1\tEpoch: 0\tLoss: 2.049170\n",
            "INFO:root:Client Index = 2\tEpoch: 0\tLoss: 2.132406\n",
            "INFO:root:Client Index = 3\tEpoch: 0\tLoss: 2.187460\n",
            "INFO:root:Client Index = 4\tEpoch: 0\tLoss: 2.105032\n",
            "INFO:root:Client Index = 5\tEpoch: 0\tLoss: 2.077457\n",
            "INFO:root:Client Index = 6\tEpoch: 0\tLoss: 2.124773\n",
            "INFO:root:Client Index = 7\tEpoch: 0\tLoss: 2.213874\n",
            "INFO:root:Client Index = 8\tEpoch: 0\tLoss: 2.088737\n",
            "INFO:root:Client Index = 9\tEpoch: 0\tLoss: 2.168234\n",
            "INFO:root:################local_test_on_all_clients : 34\n",
            "INFO:root:{'training_acc': 0.3682266009852217, 'training_loss': 2.230770065866668}\n",
            "INFO:root:{'test_acc': 0.4166666666666667, 'test_loss': 1.828283667564392}\n",
            "INFO:root:################Communication round : 35\n",
            "INFO:root:client_indexes = [0, 1, 2, 3, 4, 5, 6, 7, 8, 9]\n",
            "INFO:root:Client Index = 0\tEpoch: 0\tLoss: 2.301323\n",
            "INFO:root:Client Index = 1\tEpoch: 0\tLoss: 2.047390\n",
            "INFO:root:Client Index = 2\tEpoch: 0\tLoss: 2.131832\n",
            "INFO:root:Client Index = 3\tEpoch: 0\tLoss: 2.199330\n",
            "INFO:root:Client Index = 4\tEpoch: 0\tLoss: 2.117107\n",
            "INFO:root:Client Index = 5\tEpoch: 0\tLoss: 2.055263\n",
            "INFO:root:Client Index = 6\tEpoch: 0\tLoss: 2.130277\n",
            "INFO:root:Client Index = 7\tEpoch: 0\tLoss: 2.185621\n",
            "INFO:root:Client Index = 8\tEpoch: 0\tLoss: 2.092103\n",
            "INFO:root:Client Index = 9\tEpoch: 0\tLoss: 2.166263\n",
            "INFO:root:################local_test_on_all_clients : 35\n",
            "INFO:root:{'training_acc': 0.3706896551724138, 'training_loss': 2.2299312811179703}\n",
            "INFO:root:{'test_acc': 0.4166666666666667, 'test_loss': 1.8228321075439453}\n",
            "INFO:root:################Communication round : 36\n",
            "INFO:root:client_indexes = [0, 1, 2, 3, 4, 5, 6, 7, 8, 9]\n",
            "INFO:root:Client Index = 0\tEpoch: 0\tLoss: 2.299344\n",
            "INFO:root:Client Index = 1\tEpoch: 0\tLoss: 2.049434\n",
            "INFO:root:Client Index = 2\tEpoch: 0\tLoss: 2.138216\n",
            "INFO:root:Client Index = 3\tEpoch: 0\tLoss: 2.185087\n",
            "INFO:root:Client Index = 4\tEpoch: 0\tLoss: 2.118448\n",
            "INFO:root:Client Index = 5\tEpoch: 0\tLoss: 2.082494\n",
            "INFO:root:Client Index = 6\tEpoch: 0\tLoss: 2.130348\n",
            "INFO:root:Client Index = 7\tEpoch: 0\tLoss: 2.218092\n",
            "INFO:root:Client Index = 8\tEpoch: 0\tLoss: 2.087890\n",
            "INFO:root:Client Index = 9\tEpoch: 0\tLoss: 2.166371\n",
            "INFO:root:################local_test_on_all_clients : 36\n",
            "INFO:root:{'training_acc': 0.3694581280788177, 'training_loss': 2.2301267646803646}\n",
            "INFO:root:{'test_acc': 0.4166666666666667, 'test_loss': 1.8283340533574421}\n",
            "INFO:root:################Communication round : 37\n",
            "INFO:root:client_indexes = [0, 1, 2, 3, 4, 5, 6, 7, 8, 9]\n",
            "INFO:root:Client Index = 0\tEpoch: 0\tLoss: 2.325294\n",
            "INFO:root:Client Index = 1\tEpoch: 0\tLoss: 2.044834\n",
            "INFO:root:Client Index = 2\tEpoch: 0\tLoss: 2.143043\n",
            "INFO:root:Client Index = 3\tEpoch: 0\tLoss: 2.216278\n",
            "INFO:root:Client Index = 4\tEpoch: 0\tLoss: 2.107676\n",
            "INFO:root:Client Index = 5\tEpoch: 0\tLoss: 2.072871\n",
            "INFO:root:Client Index = 6\tEpoch: 0\tLoss: 2.127698\n",
            "INFO:root:Client Index = 7\tEpoch: 0\tLoss: 2.208130\n",
            "INFO:root:Client Index = 8\tEpoch: 0\tLoss: 2.084350\n",
            "INFO:root:Client Index = 9\tEpoch: 0\tLoss: 2.158388\n",
            "INFO:root:################local_test_on_all_clients : 37\n",
            "INFO:root:{'training_acc': 0.37192118226600984, 'training_loss': 2.2286148831762116}\n",
            "INFO:root:{'test_acc': 0.4166666666666667, 'test_loss': 1.8255995909372966}\n",
            "INFO:root:################Communication round : 38\n",
            "INFO:root:client_indexes = [0, 1, 2, 3, 4, 5, 6, 7, 8, 9]\n",
            "INFO:root:Client Index = 0\tEpoch: 0\tLoss: 2.307619\n",
            "INFO:root:Client Index = 1\tEpoch: 0\tLoss: 2.041454\n",
            "INFO:root:Client Index = 2\tEpoch: 0\tLoss: 2.147243\n",
            "INFO:root:Client Index = 3\tEpoch: 0\tLoss: 2.189484\n",
            "INFO:root:Client Index = 4\tEpoch: 0\tLoss: 2.106968\n",
            "INFO:root:Client Index = 5\tEpoch: 0\tLoss: 2.062528\n",
            "INFO:root:Client Index = 6\tEpoch: 0\tLoss: 2.133656\n",
            "INFO:root:Client Index = 7\tEpoch: 0\tLoss: 2.207070\n",
            "INFO:root:Client Index = 8\tEpoch: 0\tLoss: 2.084518\n",
            "INFO:root:Client Index = 9\tEpoch: 0\tLoss: 2.165976\n",
            "INFO:root:################local_test_on_all_clients : 38\n",
            "INFO:root:{'training_acc': 0.3694581280788177, 'training_loss': 2.2266419183444506}\n",
            "INFO:root:{'test_acc': 0.4166666666666667, 'test_loss': 1.8403784434000652}\n",
            "INFO:root:################Communication round : 39\n",
            "INFO:root:client_indexes = [0, 1, 2, 3, 4, 5, 6, 7, 8, 9]\n",
            "INFO:root:Client Index = 0\tEpoch: 0\tLoss: 2.309087\n",
            "INFO:root:Client Index = 1\tEpoch: 0\tLoss: 2.037308\n",
            "INFO:root:Client Index = 2\tEpoch: 0\tLoss: 2.139065\n",
            "INFO:root:Client Index = 3\tEpoch: 0\tLoss: 2.196735\n",
            "INFO:root:Client Index = 4\tEpoch: 0\tLoss: 2.084174\n",
            "INFO:root:Client Index = 5\tEpoch: 0\tLoss: 2.062471\n",
            "INFO:root:Client Index = 6\tEpoch: 0\tLoss: 2.131759\n",
            "INFO:root:Client Index = 7\tEpoch: 0\tLoss: 2.217565\n",
            "INFO:root:Client Index = 8\tEpoch: 0\tLoss: 2.093124\n",
            "INFO:root:Client Index = 9\tEpoch: 0\tLoss: 2.168498\n",
            "INFO:root:################local_test_on_all_clients : 39\n",
            "INFO:root:{'training_acc': 0.3694581280788177, 'training_loss': 2.223614733207402}\n",
            "INFO:root:{'test_acc': 0.4166666666666667, 'test_loss': 1.8364955186843872}\n",
            "INFO:root:################Communication round : 40\n",
            "INFO:root:client_indexes = [0, 1, 2, 3, 4, 5, 6, 7, 8, 9]\n",
            "INFO:root:Client Index = 0\tEpoch: 0\tLoss: 2.306527\n",
            "INFO:root:Client Index = 1\tEpoch: 0\tLoss: 2.038587\n",
            "INFO:root:Client Index = 2\tEpoch: 0\tLoss: 2.140590\n",
            "INFO:root:Client Index = 3\tEpoch: 0\tLoss: 2.202484\n",
            "INFO:root:Client Index = 4\tEpoch: 0\tLoss: 2.093417\n",
            "INFO:root:Client Index = 5\tEpoch: 0\tLoss: 2.066539\n",
            "INFO:root:Client Index = 6\tEpoch: 0\tLoss: 2.122441\n",
            "INFO:root:Client Index = 7\tEpoch: 0\tLoss: 2.218696\n",
            "INFO:root:Client Index = 8\tEpoch: 0\tLoss: 2.080513\n",
            "INFO:root:Client Index = 9\tEpoch: 0\tLoss: 2.162978\n",
            "INFO:root:################local_test_on_all_clients : 40\n",
            "INFO:root:{'training_acc': 0.3682266009852217, 'training_loss': 2.2247916151737344}\n",
            "INFO:root:{'test_acc': 0.4166666666666667, 'test_loss': 1.834924300511678}\n",
            "INFO:root:################Communication round : 41\n",
            "INFO:root:client_indexes = [0, 1, 2, 3, 4, 5, 6, 7, 8, 9]\n",
            "INFO:root:Client Index = 0\tEpoch: 0\tLoss: 2.302564\n",
            "INFO:root:Client Index = 1\tEpoch: 0\tLoss: 2.039020\n",
            "INFO:root:Client Index = 2\tEpoch: 0\tLoss: 2.132882\n",
            "INFO:root:Client Index = 3\tEpoch: 0\tLoss: 2.197529\n",
            "INFO:root:Client Index = 4\tEpoch: 0\tLoss: 2.110923\n",
            "INFO:root:Client Index = 5\tEpoch: 0\tLoss: 2.048724\n",
            "INFO:root:Client Index = 6\tEpoch: 0\tLoss: 2.123813\n",
            "INFO:root:Client Index = 7\tEpoch: 0\tLoss: 2.221396\n",
            "INFO:root:Client Index = 8\tEpoch: 0\tLoss: 2.072904\n",
            "INFO:root:Client Index = 9\tEpoch: 0\tLoss: 2.168327\n",
            "INFO:root:################local_test_on_all_clients : 41\n",
            "INFO:root:{'training_acc': 0.3706896551724138, 'training_loss': 2.223540541573698}\n",
            "INFO:root:{'test_acc': 0.4166666666666667, 'test_loss': 1.8311409155527751}\n",
            "INFO:root:################Communication round : 42\n",
            "INFO:root:client_indexes = [0, 1, 2, 3, 4, 5, 6, 7, 8, 9]\n",
            "INFO:root:Client Index = 0\tEpoch: 0\tLoss: 2.283124\n",
            "INFO:root:Client Index = 1\tEpoch: 0\tLoss: 2.037133\n",
            "INFO:root:Client Index = 2\tEpoch: 0\tLoss: 2.144199\n",
            "INFO:root:Client Index = 3\tEpoch: 0\tLoss: 2.185784\n",
            "INFO:root:Client Index = 4\tEpoch: 0\tLoss: 2.087151\n",
            "INFO:root:Client Index = 5\tEpoch: 0\tLoss: 2.070462\n",
            "INFO:root:Client Index = 6\tEpoch: 0\tLoss: 2.120367\n",
            "INFO:root:Client Index = 7\tEpoch: 0\tLoss: 2.204676\n",
            "INFO:root:Client Index = 8\tEpoch: 0\tLoss: 2.085672\n",
            "INFO:root:Client Index = 9\tEpoch: 0\tLoss: 2.153161\n",
            "INFO:root:################local_test_on_all_clients : 42\n",
            "INFO:root:{'training_acc': 0.3731527093596059, 'training_loss': 2.2225661380537627}\n",
            "INFO:root:{'test_acc': 0.4166666666666667, 'test_loss': 1.8276540835698445}\n",
            "INFO:root:################Communication round : 43\n",
            "INFO:root:client_indexes = [0, 1, 2, 3, 4, 5, 6, 7, 8, 9]\n",
            "INFO:root:Client Index = 0\tEpoch: 0\tLoss: 2.300467\n",
            "INFO:root:Client Index = 1\tEpoch: 0\tLoss: 2.037136\n",
            "INFO:root:Client Index = 2\tEpoch: 0\tLoss: 2.133883\n",
            "INFO:root:Client Index = 3\tEpoch: 0\tLoss: 2.190648\n",
            "INFO:root:Client Index = 4\tEpoch: 0\tLoss: 2.093844\n",
            "INFO:root:Client Index = 5\tEpoch: 0\tLoss: 2.069231\n",
            "INFO:root:Client Index = 6\tEpoch: 0\tLoss: 2.111386\n",
            "INFO:root:Client Index = 7\tEpoch: 0\tLoss: 2.216823\n",
            "INFO:root:Client Index = 8\tEpoch: 0\tLoss: 2.079149\n",
            "INFO:root:Client Index = 9\tEpoch: 0\tLoss: 2.154116\n",
            "INFO:root:################local_test_on_all_clients : 43\n",
            "INFO:root:{'training_acc': 0.3706896551724138, 'training_loss': 2.2201903803007945}\n",
            "INFO:root:{'test_acc': 0.4166666666666667, 'test_loss': 1.8430760701497395}\n",
            "INFO:root:################Communication round : 44\n",
            "INFO:root:client_indexes = [0, 1, 2, 3, 4, 5, 6, 7, 8, 9]\n",
            "INFO:root:Client Index = 0\tEpoch: 0\tLoss: 2.294920\n",
            "INFO:root:Client Index = 1\tEpoch: 0\tLoss: 2.034220\n",
            "INFO:root:Client Index = 2\tEpoch: 0\tLoss: 2.131173\n",
            "INFO:root:Client Index = 3\tEpoch: 0\tLoss: 2.203535\n",
            "INFO:root:Client Index = 4\tEpoch: 0\tLoss: 2.103700\n",
            "INFO:root:Client Index = 5\tEpoch: 0\tLoss: 2.057574\n",
            "INFO:root:Client Index = 6\tEpoch: 0\tLoss: 2.129925\n",
            "INFO:root:Client Index = 7\tEpoch: 0\tLoss: 2.202952\n",
            "INFO:root:Client Index = 8\tEpoch: 0\tLoss: 2.077984\n",
            "INFO:root:Client Index = 9\tEpoch: 0\tLoss: 2.155400\n",
            "INFO:root:################local_test_on_all_clients : 44\n",
            "INFO:root:{'training_acc': 0.37192118226600984, 'training_loss': 2.2186467506615397}\n",
            "INFO:root:{'test_acc': 0.4166666666666667, 'test_loss': 1.8280429045359294}\n",
            "INFO:root:################Communication round : 45\n",
            "INFO:root:client_indexes = [0, 1, 2, 3, 4, 5, 6, 7, 8, 9]\n",
            "INFO:root:Client Index = 0\tEpoch: 0\tLoss: 2.291505\n",
            "INFO:root:Client Index = 1\tEpoch: 0\tLoss: 2.028001\n",
            "INFO:root:Client Index = 2\tEpoch: 0\tLoss: 2.131600\n",
            "INFO:root:Client Index = 3\tEpoch: 0\tLoss: 2.193026\n",
            "INFO:root:Client Index = 4\tEpoch: 0\tLoss: 2.108630\n",
            "INFO:root:Client Index = 5\tEpoch: 0\tLoss: 2.060967\n",
            "INFO:root:Client Index = 6\tEpoch: 0\tLoss: 2.116332\n",
            "INFO:root:Client Index = 7\tEpoch: 0\tLoss: 2.199039\n",
            "INFO:root:Client Index = 8\tEpoch: 0\tLoss: 2.073362\n",
            "INFO:root:Client Index = 9\tEpoch: 0\tLoss: 2.161637\n",
            "INFO:root:################local_test_on_all_clients : 45\n",
            "INFO:root:{'training_acc': 0.37192118226600984, 'training_loss': 2.2200283848593387}\n",
            "INFO:root:{'test_acc': 0.4166666666666667, 'test_loss': 1.8285614252090454}\n",
            "INFO:root:################Communication round : 46\n",
            "INFO:root:client_indexes = [0, 1, 2, 3, 4, 5, 6, 7, 8, 9]\n",
            "INFO:root:Client Index = 0\tEpoch: 0\tLoss: 2.301062\n",
            "INFO:root:Client Index = 1\tEpoch: 0\tLoss: 2.028247\n",
            "INFO:root:Client Index = 2\tEpoch: 0\tLoss: 2.131212\n",
            "INFO:root:Client Index = 3\tEpoch: 0\tLoss: 2.188395\n",
            "INFO:root:Client Index = 4\tEpoch: 0\tLoss: 2.103414\n",
            "INFO:root:Client Index = 5\tEpoch: 0\tLoss: 2.054411\n",
            "INFO:root:Client Index = 6\tEpoch: 0\tLoss: 2.112175\n",
            "INFO:root:Client Index = 7\tEpoch: 0\tLoss: 2.214404\n",
            "INFO:root:Client Index = 8\tEpoch: 0\tLoss: 2.076350\n",
            "INFO:root:Client Index = 9\tEpoch: 0\tLoss: 2.159315\n",
            "INFO:root:################local_test_on_all_clients : 46\n",
            "INFO:root:{'training_acc': 0.3768472906403941, 'training_loss': 2.217582548780394}\n",
            "INFO:root:{'test_acc': 0.4166666666666667, 'test_loss': 1.8192658027013142}\n",
            "INFO:root:################Communication round : 47\n",
            "INFO:root:client_indexes = [0, 1, 2, 3, 4, 5, 6, 7, 8, 9]\n",
            "INFO:root:Client Index = 0\tEpoch: 0\tLoss: 2.293842\n",
            "INFO:root:Client Index = 1\tEpoch: 0\tLoss: 2.032547\n",
            "INFO:root:Client Index = 2\tEpoch: 0\tLoss: 2.138015\n",
            "INFO:root:Client Index = 3\tEpoch: 0\tLoss: 2.176154\n",
            "INFO:root:Client Index = 4\tEpoch: 0\tLoss: 2.089641\n",
            "INFO:root:Client Index = 5\tEpoch: 0\tLoss: 2.061303\n",
            "INFO:root:Client Index = 6\tEpoch: 0\tLoss: 2.115125\n",
            "INFO:root:Client Index = 7\tEpoch: 0\tLoss: 2.205692\n",
            "INFO:root:Client Index = 8\tEpoch: 0\tLoss: 2.070848\n",
            "INFO:root:Client Index = 9\tEpoch: 0\tLoss: 2.159531\n",
            "INFO:root:################local_test_on_all_clients : 47\n",
            "INFO:root:{'training_acc': 0.37561576354679804, 'training_loss': 2.2160463327257505}\n",
            "INFO:root:{'test_acc': 0.4166666666666667, 'test_loss': 1.827505111694336}\n",
            "INFO:root:################Communication round : 48\n",
            "INFO:root:client_indexes = [0, 1, 2, 3, 4, 5, 6, 7, 8, 9]\n",
            "INFO:root:Client Index = 0\tEpoch: 0\tLoss: 2.270471\n",
            "INFO:root:Client Index = 1\tEpoch: 0\tLoss: 2.020590\n"
          ]
        },
        {
          "output_type": "error",
          "ename": "KeyboardInterrupt",
          "evalue": "ignored",
          "traceback": [
            "\u001b[0;31m---------------------------------------------------------------------------\u001b[0m",
            "\u001b[0;31mKeyboardInterrupt\u001b[0m                         Traceback (most recent call last)",
            "\u001b[0;32m<ipython-input-122-d7ca02386f0b>\u001b[0m in \u001b[0;36m<module>\u001b[0;34m()\u001b[0m\n\u001b[0;32m----> 1\u001b[0;31m \u001b[0mfedavgAPI\u001b[0m\u001b[0;34m.\u001b[0m\u001b[0mtrain\u001b[0m\u001b[0;34m(\u001b[0m\u001b[0;34m)\u001b[0m\u001b[0;34m\u001b[0m\u001b[0;34m\u001b[0m\u001b[0m\n\u001b[0m",
            "\u001b[0;32m/usr/local/lib/python3.7/dist-packages/fedml_api/standalone/fedavg/fedavg_api.py\u001b[0m in \u001b[0;36mtrain\u001b[0;34m(self)\u001b[0m\n\u001b[1;32m     78\u001b[0m \u001b[0;34m\u001b[0m\u001b[0m\n\u001b[1;32m     79\u001b[0m                     \u001b[0;31m# train on new dataset\u001b[0m\u001b[0;34m\u001b[0m\u001b[0;34m\u001b[0m\u001b[0;34m\u001b[0m\u001b[0m\n\u001b[0;32m---> 80\u001b[0;31m                     \u001b[0mw\u001b[0m \u001b[0;34m=\u001b[0m \u001b[0mclient\u001b[0m\u001b[0;34m.\u001b[0m\u001b[0mtrain\u001b[0m\u001b[0;34m(\u001b[0m\u001b[0mcopy\u001b[0m\u001b[0;34m.\u001b[0m\u001b[0mdeepcopy\u001b[0m\u001b[0;34m(\u001b[0m\u001b[0mw_global\u001b[0m\u001b[0;34m)\u001b[0m\u001b[0;34m)\u001b[0m\u001b[0;34m\u001b[0m\u001b[0;34m\u001b[0m\u001b[0m\n\u001b[0m\u001b[1;32m     81\u001b[0m                     \u001b[0;31m# self.logger.info(\"local weights = \" + str(w))\u001b[0m\u001b[0;34m\u001b[0m\u001b[0;34m\u001b[0m\u001b[0;34m\u001b[0m\u001b[0m\n\u001b[1;32m     82\u001b[0m                     \u001b[0mw_locals\u001b[0m\u001b[0;34m.\u001b[0m\u001b[0mappend\u001b[0m\u001b[0;34m(\u001b[0m\u001b[0;34m(\u001b[0m\u001b[0mclient\u001b[0m\u001b[0;34m.\u001b[0m\u001b[0mget_sample_number\u001b[0m\u001b[0;34m(\u001b[0m\u001b[0;34m)\u001b[0m\u001b[0;34m,\u001b[0m \u001b[0mcopy\u001b[0m\u001b[0;34m.\u001b[0m\u001b[0mdeepcopy\u001b[0m\u001b[0;34m(\u001b[0m\u001b[0mw\u001b[0m\u001b[0;34m)\u001b[0m\u001b[0;34m)\u001b[0m\u001b[0;34m)\u001b[0m\u001b[0;34m\u001b[0m\u001b[0;34m\u001b[0m\u001b[0m\n",
            "\u001b[0;32m/usr/local/lib/python3.7/dist-packages/fedml_api/standalone/fedavg/client.py\u001b[0m in \u001b[0;36mtrain\u001b[0;34m(self, w_global)\u001b[0m\n\u001b[1;32m     28\u001b[0m     \u001b[0;32mdef\u001b[0m \u001b[0mtrain\u001b[0m\u001b[0;34m(\u001b[0m\u001b[0mself\u001b[0m\u001b[0;34m,\u001b[0m \u001b[0mw_global\u001b[0m\u001b[0;34m)\u001b[0m\u001b[0;34m:\u001b[0m\u001b[0;34m\u001b[0m\u001b[0;34m\u001b[0m\u001b[0m\n\u001b[1;32m     29\u001b[0m         \u001b[0mself\u001b[0m\u001b[0;34m.\u001b[0m\u001b[0mmodel_trainer\u001b[0m\u001b[0;34m.\u001b[0m\u001b[0mset_model_params\u001b[0m\u001b[0;34m(\u001b[0m\u001b[0mw_global\u001b[0m\u001b[0;34m)\u001b[0m\u001b[0;34m\u001b[0m\u001b[0;34m\u001b[0m\u001b[0m\n\u001b[0;32m---> 30\u001b[0;31m         \u001b[0mself\u001b[0m\u001b[0;34m.\u001b[0m\u001b[0mmodel_trainer\u001b[0m\u001b[0;34m.\u001b[0m\u001b[0mtrain\u001b[0m\u001b[0;34m(\u001b[0m\u001b[0mself\u001b[0m\u001b[0;34m.\u001b[0m\u001b[0mlocal_training_data\u001b[0m\u001b[0;34m,\u001b[0m \u001b[0mself\u001b[0m\u001b[0;34m.\u001b[0m\u001b[0mdevice\u001b[0m\u001b[0;34m,\u001b[0m \u001b[0mself\u001b[0m\u001b[0;34m.\u001b[0m\u001b[0margs\u001b[0m\u001b[0;34m)\u001b[0m\u001b[0;34m\u001b[0m\u001b[0;34m\u001b[0m\u001b[0m\n\u001b[0m\u001b[1;32m     31\u001b[0m         \u001b[0mself\u001b[0m\u001b[0;34m.\u001b[0m\u001b[0mweights\u001b[0m \u001b[0;34m=\u001b[0m \u001b[0mself\u001b[0m\u001b[0;34m.\u001b[0m\u001b[0mmodel_trainer\u001b[0m\u001b[0;34m.\u001b[0m\u001b[0mget_model_params\u001b[0m\u001b[0;34m(\u001b[0m\u001b[0;34m)\u001b[0m\u001b[0;34m\u001b[0m\u001b[0;34m\u001b[0m\u001b[0m\n\u001b[1;32m     32\u001b[0m         \u001b[0;32mreturn\u001b[0m \u001b[0mself\u001b[0m\u001b[0;34m.\u001b[0m\u001b[0mweights\u001b[0m\u001b[0;34m\u001b[0m\u001b[0;34m\u001b[0m\u001b[0m\n",
            "\u001b[0;32m/content/yourTrainer.py\u001b[0m in \u001b[0;36mtrain\u001b[0;34m(self, train_data, device, args)\u001b[0m\n\u001b[1;32m     49\u001b[0m                 \u001b[0mloss\u001b[0m\u001b[0;34m.\u001b[0m\u001b[0mbackward\u001b[0m\u001b[0;34m(\u001b[0m\u001b[0;34m)\u001b[0m\u001b[0;34m\u001b[0m\u001b[0;34m\u001b[0m\u001b[0m\n\u001b[1;32m     50\u001b[0m                 \u001b[0moptimizer\u001b[0m\u001b[0;34m.\u001b[0m\u001b[0mstep\u001b[0m\u001b[0;34m(\u001b[0m\u001b[0;34m)\u001b[0m\u001b[0;34m\u001b[0m\u001b[0;34m\u001b[0m\u001b[0m\n\u001b[0;32m---> 51\u001b[0;31m                 \u001b[0mbatch_loss\u001b[0m\u001b[0;34m.\u001b[0m\u001b[0mappend\u001b[0m\u001b[0;34m(\u001b[0m\u001b[0mloss\u001b[0m\u001b[0;34m.\u001b[0m\u001b[0mitem\u001b[0m\u001b[0;34m(\u001b[0m\u001b[0;34m)\u001b[0m\u001b[0;34m)\u001b[0m\u001b[0;34m\u001b[0m\u001b[0;34m\u001b[0m\u001b[0m\n\u001b[0m\u001b[1;32m     52\u001b[0m \u001b[0;34m\u001b[0m\u001b[0m\n\u001b[1;32m     53\u001b[0m             \u001b[0mepoch_loss\u001b[0m\u001b[0;34m.\u001b[0m\u001b[0mappend\u001b[0m\u001b[0;34m(\u001b[0m\u001b[0msum\u001b[0m\u001b[0;34m(\u001b[0m\u001b[0mbatch_loss\u001b[0m\u001b[0;34m)\u001b[0m \u001b[0;34m/\u001b[0m \u001b[0mlen\u001b[0m\u001b[0;34m(\u001b[0m\u001b[0mbatch_loss\u001b[0m\u001b[0;34m)\u001b[0m\u001b[0;34m)\u001b[0m\u001b[0;34m\u001b[0m\u001b[0;34m\u001b[0m\u001b[0m\n",
            "\u001b[0;31mKeyboardInterrupt\u001b[0m: "
          ]
        }
      ]
    },
    {
      "cell_type": "code",
      "source": [
        ""
      ],
      "metadata": {
        "id": "ozBeQhmtqYDa"
      },
      "execution_count": null,
      "outputs": []
    },
    {
      "cell_type": "markdown",
      "source": [
        "# Lab 3 standalone"
      ],
      "metadata": {
        "id": "D5G9EQoMqYUk"
      }
    },
    {
      "cell_type": "code",
      "source": [
        "import argparse\n",
        "import logging\n",
        "import os\n",
        "import random\n",
        "import sys\n",
        "import time\n",
        "import json\n",
        "try:\n",
        "    from typing_extensions import Required\n",
        "except ImportError:\n",
        "    from typing import Generic, TypeVar\n",
        "    T = TypeVar(\"T\")\n",
        "    class Required(Generic[T]):\n",
        "        pass\n",
        "import numpy as np\n",
        "import copy\n",
        "\n",
        "import torch\n",
        "import torchvision\n",
        "from torchvision import transforms\n",
        "from torch.utils.data import SubsetRandomSampler\n",
        "import wandb\n",
        "\n",
        "from dataloader import femnist_dataloaders\n",
        "\n",
        "\n",
        "# from fedml_api.model.cv.resnet import resnet56\n",
        "from fedml_api.standalone.fedavg.fedavg_api import FedAvgAPI\n",
        "from fedml_api.standalone.fedavg.my_model_trainer_classification import MyModelTrainer\n",
        "from model import Net_femnist"
      ],
      "metadata": {
        "id": "UcwGrs62qadO"
      },
      "execution_count": 5,
      "outputs": []
    },
    {
      "cell_type": "code",
      "source": [
        "from types import SimpleNamespace\n",
        "\n",
        "d = {\n",
        "  'wandb_name': 'fedavg_femnist_r20_test1',\n",
        "  'model': 'resnet56',\n",
        "  'epochs': 1,\n",
        "  'batch_size': 16,\n",
        "  'client_num_per_round': 50,\n",
        "  'comm_round': 200,\n",
        "  'client_num_in_total': 50,\n",
        "  'client_optimizer' : 'adam',\n",
        "  'lr': 0.001,\n",
        "  'wd': 0.001,\n",
        "  'frequency_of_the_test': 1, \n",
        "  'dataset':  'cifar10',\n",
        "  'data_dir': './cifar10',\n",
        "  'gpu': 0,\n",
        "  'ci': 1,\n",
        "  'seed': 123\n",
        "}\n",
        "\n",
        "args = SimpleNamespace(**d)"
      ],
      "metadata": {
        "id": "26vmk6spqrLr"
      },
      "execution_count": 6,
      "outputs": []
    },
    {
      "cell_type": "code",
      "source": [
        "wandb.init(\n",
        "        project=\"fedml\",\n",
        "        name=args.wandb_name,\n",
        "        config=args\n",
        "    )"
      ],
      "metadata": {
        "colab": {
          "base_uri": "https://localhost:8080/",
          "height": 73
        },
        "id": "Mldg8ckfrKbM",
        "outputId": "cfe32371-e7c8-45c4-8165-43ded37f8034"
      },
      "execution_count": 7,
      "outputs": [
        {
          "output_type": "stream",
          "name": "stderr",
          "text": [
            "\u001b[34m\u001b[1mwandb\u001b[0m: Currently logged in as: \u001b[33mduygu\u001b[0m (use `wandb login --relogin` to force relogin)\n"
          ]
        },
        {
          "output_type": "display_data",
          "data": {
            "text/html": [
              "\n",
              "                    Syncing run <strong><a href=\"https://wandb.ai/duygu/fedml/runs/1khueofb\" target=\"_blank\">fedavg_femnist_r20_test1</a></strong> to <a href=\"https://wandb.ai/duygu/fedml\" target=\"_blank\">Weights & Biases</a> (<a href=\"https://docs.wandb.com/integrations/jupyter.html\" target=\"_blank\">docs</a>).<br/>\n",
              "\n",
              "                "
            ],
            "text/plain": [
              "<IPython.core.display.HTML object>"
            ]
          },
          "metadata": {}
        },
        {
          "output_type": "execute_result",
          "data": {
            "text/plain": [
              "<wandb.sdk.wandb_run.Run at 0x7fa3f57f6c10>"
            ],
            "text/html": [
              "<button onClick=\"this.nextSibling.style.display='block';this.style.display='none';\">Display W&B run</button><iframe src=\"https://wandb.ai/duygu/fedml/runs/1khueofb?jupyter=true\" style=\"border:none;width:100%;height:420px;display:none;\"></iframe>"
            ]
          },
          "metadata": {},
          "execution_count": 7
        }
      ]
    },
    {
      "cell_type": "code",
      "source": [
        "import glob"
      ],
      "metadata": {
        "id": "HoXffgCLr_Nv"
      },
      "execution_count": 8,
      "outputs": []
    },
    {
      "cell_type": "code",
      "source": [
        "if os.path.exists(os.path.abspath(\"./femnist\")):\n",
        "        raise ValueError(\"Folder: \\\"{}\\\" exist\".format(os.path.abspath(\"./femnist\")))\n",
        "os.makedirs(os.path.abspath(\"./femnist\"))\n",
        "import gdown, tarfile\n",
        "# download\n",
        "url = 'https://drive.google.com/uc?id=1tzA5b92qhrFBjVTyVP645Dfs4fTV2SNL'\n",
        "output = os.path.join(os.path.abspath(\"./femnist\"), 'femnist_100up_jsonfile.tar.gz')\n",
        "print(\"\\nDownload ...\")\n",
        "gdown.download(url, output, quiet=False)\n",
        "# check\n",
        "md5 = 'df9e06065616a86228ceea8ab690012d'\n",
        "#gdown.cached_download(url, output, md5=md5, postprocess=gdown.extractall)\n",
        "time.sleep(3)\n",
        "# extraction\n",
        "print(\"\\nExtracting ...\")\n",
        "tar = tarfile.open(output, 'r:gz')\n",
        "tar.extractall(path=os.path.abspath(\"./femnist\"))\n",
        "\n",
        "path = os.path.abspath(\"./femnist/femnist_100up_jsonfile\")\n",
        "\n",
        "train_list = glob.glob(os.path.join(path, \"train\", \"all_data_*.json\"))\n",
        "test_list = glob.glob(os.path.join(path, \"test\", \"all_data_*.json\"))\n",
        "\n",
        "train_list = sorted(train_list, key = lambda train_list : int(train_list.split(\"/\")[-1].split(\"_\")[2]))\n",
        "test_list = sorted(test_list, key = lambda test_list : int(test_list.split(\"/\")[-1].split(\"_\")[2]))\n",
        "\n",
        "# for isl FedML tutorial, only selecte first 300 clients\n",
        "train_list = train_list[:1]\n",
        "test_list = test_list[:1]\n",
        "\n",
        "train_data = {'users': [], 'num_samples': [], 'user_data': {}}\n",
        "test_data = {'users': [], 'num_samples': [], 'user_data': {}}\n",
        "\n",
        "for f in train_list:\n",
        "    print(\"Load : {}\".format(f))\n",
        "    file_ = open(f, 'r')\n",
        "    context = json.load(file_)\n",
        "    file_.close()\n",
        "    train_data['users'] += context['users']\n",
        "    train_data['num_samples'] += context['num_samples']\n",
        "    train_data['user_data'].update(context['user_data'])\n",
        "\n",
        "for f in test_list:\n",
        "    print(\"Load : {}\".format(f))\n",
        "    file_ = open(f, 'r')\n",
        "    context = json.load(file_)\n",
        "    file_.close()\n",
        "    test_data['users'] += context['users']\n",
        "    test_data['num_samples'] += context['num_samples']\n",
        "    test_data['user_data'].update(context['user_data'])\n",
        "\n",
        "os.makedirs(os.path.join(os.path.abspath(\".\"), \"femnist\"), exist_ok=True)\n",
        "torch.save(train_data, os.path.join(os.path.abspath(\".\"), \"femnist\", \"train_data.pt\"))\n",
        "print(\"\\nSave : {}\".format(os.path.join(os.path.abspath(\".\"), \"femnist\", \"train_data.pt\")))\n",
        "\n",
        "torch.save(test_data, os.path.join(os.path.abspath(\".\"), \"femnist\", \"test_data.pt\"))\n",
        "print(\"\\nSave : {}\".format(os.path.join(os.path.abspath(\".\"), \"femnist\", \"test_data.pt\")))\n",
        "\n",
        "train_data_name = {'users': copy.deepcopy(test_data['users']), }\n",
        "for name in train_data[\"users\"]:\n",
        "    for i, _ in enumerate(train_data['user_data'][name]['x']):\n",
        "        train_data['user_data'][name]['x'][i] = [0]\n",
        "torch.save(train_data, os.path.join(os.path.abspath(\".\"), \"femnist\", \"train_data_name_target_only.pt\"))\n",
        "print(\"\\nSave : {}\".format(os.path.join(os.path.abspath(\".\"), \"femnist\", \"train_data_name_target_only.pt\")))\n",
        "\n",
        "time.sleep(3)\n",
        "print(\"Done\")"
      ],
      "metadata": {
        "colab": {
          "base_uri": "https://localhost:8080/"
        },
        "id": "CTbxKX9grPNe",
        "outputId": "ab47f17b-6c26-460e-8753-717daf5d06b6"
      },
      "execution_count": 9,
      "outputs": [
        {
          "output_type": "stream",
          "name": "stdout",
          "text": [
            "\n",
            "Download ...\n"
          ]
        },
        {
          "output_type": "stream",
          "name": "stderr",
          "text": [
            "Downloading...\n",
            "From: https://drive.google.com/uc?id=1tzA5b92qhrFBjVTyVP645Dfs4fTV2SNL\n",
            "To: /content/femnist/femnist_100up_jsonfile.tar.gz\n",
            "100%|██████████| 195M/195M [00:01<00:00, 158MB/s]\n"
          ]
        },
        {
          "output_type": "stream",
          "name": "stdout",
          "text": [
            "\n",
            "Extracting ...\n",
            "Load : /content/femnist/femnist_100up_jsonfile/train/all_data_0_niid_0_keep_100_train_9.json\n",
            "Load : /content/femnist/femnist_100up_jsonfile/test/all_data_0_niid_0_keep_100_test_9.json\n",
            "\n",
            "Save : /content/femnist/train_data.pt\n",
            "\n",
            "Save : /content/femnist/test_data.pt\n",
            "\n",
            "Save : /content/femnist/train_data_name_target_only.pt\n",
            "Done\n"
          ]
        }
      ]
    },
    {
      "cell_type": "code",
      "source": [
        "random.seed(args.seed)\n",
        "np.random.seed(args.seed)\n",
        "torch.manual_seed(args.seed)\n",
        "torch.cuda.manual_seed_all(args.seed)\n",
        "torch.backends.cudnn.deterministic = True"
      ],
      "metadata": {
        "id": "b_sO_xknrHX2"
      },
      "execution_count": 10,
      "outputs": []
    },
    {
      "cell_type": "code",
      "source": [
        "dataset = femnist_dataloaders(root=\"./femnist\",clients=args.client_num_in_total, batch_size=args.batch_size)\n"
      ],
      "metadata": {
        "colab": {
          "base_uri": "https://localhost:8080/"
        },
        "id": "kl1lFoOKsoGt",
        "outputId": "4831bcf0-04e2-4bdc-96c6-84e29fddd8ff"
      },
      "execution_count": 11,
      "outputs": [
        {
          "output_type": "stream",
          "name": "stdout",
          "text": [
            "Filter clients by position.\n"
          ]
        }
      ]
    },
    {
      "cell_type": "code",
      "source": [
        "model = Net_femnist()"
      ],
      "metadata": {
        "id": "2IVCxtwjspMb"
      },
      "execution_count": 12,
      "outputs": []
    },
    {
      "cell_type": "code",
      "source": [
        "device = torch.device(\"cuda:0\" if torch.cuda.is_available() else \"cpu\")\n",
        "device"
      ],
      "metadata": {
        "id": "_wGl5SwJtmA7",
        "colab": {
          "base_uri": "https://localhost:8080/"
        },
        "outputId": "d46752f4-7f61-48de-c947-ceba6a03a136"
      },
      "execution_count": 13,
      "outputs": [
        {
          "output_type": "execute_result",
          "data": {
            "text/plain": [
              "device(type='cuda', index=0)"
            ]
          },
          "metadata": {},
          "execution_count": 13
        }
      ]
    },
    {
      "cell_type": "code",
      "source": [
        "dummy_opt = torch.optim.SGD(copy.deepcopy(model).parameters(), lr=args.lr)\n",
        "dummy_scheduler = torch.optim.lr_scheduler.StepLR(optimizer=dummy_opt, \n",
        "                                                step_size = args.comm_round/5,\n",
        "                                                gamma = 0.5)\n",
        "model_trainer = MyModelTrainer(model)"
      ],
      "metadata": {
        "id": "2Aw9hEWLsn9C"
      },
      "execution_count": 14,
      "outputs": []
    },
    {
      "cell_type": "code",
      "source": [
        "fedavgAPI = FedAvgAPI(dataset, device, args, model_trainer, threading=3, scheduler=dummy_scheduler)"
      ],
      "metadata": {
        "id": "o82JNy0Qtsrn"
      },
      "execution_count": 15,
      "outputs": []
    },
    {
      "cell_type": "code",
      "source": [
        "fedavgAPI.train()"
      ],
      "metadata": {
        "colab": {
          "base_uri": "https://localhost:8080/"
        },
        "id": "mdn8ilXlxFwc",
        "outputId": "de82e1c9-e815-4136-f25f-f3ab31beb5c5"
      },
      "execution_count": 16,
      "outputs": [
        {
          "output_type": "stream",
          "name": "stderr",
          "text": [
            "/usr/local/lib/python3.7/dist-packages/torch/optim/lr_scheduler.py:370: UserWarning: To get the last learning rate computed by the scheduler, please use `get_last_lr()`.\n",
            "  \"please use `get_last_lr()`.\", UserWarning)\n",
            "/usr/local/lib/python3.7/dist-packages/torch/optim/lr_scheduler.py:134: UserWarning: Detected call of `lr_scheduler.step()` before `optimizer.step()`. In PyTorch 1.1.0 and later, you should call them in the opposite order: `optimizer.step()` before `lr_scheduler.step()`.  Failure to do this will result in PyTorch skipping the first value of the learning rate schedule. See more details at https://pytorch.org/docs/stable/optim.html#how-to-adjust-learning-rate\n",
            "  \"https://pytorch.org/docs/stable/optim.html#how-to-adjust-learning-rate\", UserWarning)\n"
          ]
        }
      ]
    },
    {
      "cell_type": "markdown",
      "source": [
        "# lab 3 standalone (4 clients)"
      ],
      "metadata": {
        "id": "GV7Q4HGpDJ7-"
      }
    },
    {
      "cell_type": "code",
      "source": [
        "from types import SimpleNamespace\n",
        "\n",
        "d = {\n",
        "  'wandb_name': 'fedavg_femnist_r20_test1_4clients',\n",
        "  'model': 'resnet56',\n",
        "  'epochs': 1,\n",
        "  'batch_size': 16,\n",
        "  'client_num_per_round': 4,\n",
        "  'comm_round': 200,\n",
        "  'client_num_in_total': 4,\n",
        "  'client_optimizer' : 'adam',\n",
        "  'lr': 0.001,\n",
        "  'wd': 0.0001,\n",
        "  'frequency_of_the_test': 1, \n",
        "  'dataset':  'femnist',\n",
        "  'data_dir': './femnist',\n",
        "  'gpu': 0,\n",
        "  'ci': 1,\n",
        "  'seed': 123\n",
        "}\n",
        "\n",
        "args = SimpleNamespace(**d)"
      ],
      "metadata": {
        "id": "v6Y2CKyCDMgy"
      },
      "execution_count": 23,
      "outputs": []
    },
    {
      "cell_type": "code",
      "source": [
        "wandb.init(\n",
        "        project=\"fedml\",\n",
        "        name=args.wandb_name,\n",
        "        config=args\n",
        "    )"
      ],
      "metadata": {
        "colab": {
          "base_uri": "https://localhost:8080/",
          "height": 402,
          "referenced_widgets": [
            "b6aac905beb44719b6b1bae13a1c55ba",
            "2195c0b1dc0442fea34b3bdf4f5f38a1",
            "e05bef5b68b4474d80cb6f25099c6cbd",
            "700b1d0ffcc441c2b65e5004eadd0687",
            "6c7455238bfd4317b45e621f40c4c95d",
            "60b5f671a184414ca08fb2540560b91b",
            "52303c1a372b4c739e25dd919fac204b",
            "5ab603352d594d67bcba15de2a07c414"
          ]
        },
        "id": "pshFxCQtECsA",
        "outputId": "647748dd-c4cf-4626-a824-cb79aa7d7f30"
      },
      "execution_count": 24,
      "outputs": [
        {
          "output_type": "display_data",
          "data": {
            "text/html": [
              "Finishing last run (ID:fqdf2zix) before initializing another..."
            ],
            "text/plain": [
              "<IPython.core.display.HTML object>"
            ]
          },
          "metadata": {}
        },
        {
          "output_type": "display_data",
          "data": {
            "text/html": [
              "<br/>Waiting for W&B process to finish, PID 1010... <strong style=\"color:green\">(success).</strong>"
            ],
            "text/plain": [
              "<IPython.core.display.HTML object>"
            ]
          },
          "metadata": {}
        },
        {
          "output_type": "display_data",
          "data": {
            "application/vnd.jupyter.widget-view+json": {
              "model_id": "b6aac905beb44719b6b1bae13a1c55ba",
              "version_minor": 0,
              "version_major": 2
            },
            "text/plain": [
              "VBox(children=(Label(value=' 0.00MB of 0.00MB uploaded (0.00MB deduped)\\r'), FloatProgress(value=1.0, max=1.0)…"
            ]
          },
          "metadata": {}
        },
        {
          "output_type": "display_data",
          "data": {
            "text/html": [
              "<style>\n",
              "    table.wandb td:nth-child(1) { padding: 0 10px; text-align: right }\n",
              "    .wandb-row { display: flex; flex-direction: row; flex-wrap: wrap; width: 100% }\n",
              "    .wandb-col { display: flex; flex-direction: column; flex-basis: 100%; flex: 1; padding: 10px; }\n",
              "    </style>\n",
              "<div class=\"wandb-row\"><div class=\"wandb-col\">\n",
              "<h3>Run history:</h3><br/><table class=\"wandb\"><tr><td>LR</td><td>▁█████████████████████████████</td></tr><tr><td>Test/Acc</td><td>▂▂▁▂▂▂▂▂▂▄▅▅▅▅▅▅▅▅▇▇▇▇███▇▇▇▇▇</td></tr><tr><td>Test/Loss</td><td>█▇▆▆▅▅▄▄▄▄▃▃▃▃▃▃▂▂▂▂▂▂▂▁▁▁▁▁▁▁</td></tr><tr><td>Train/Acc</td><td>▁▁▁▂▃▃▃▄▄▄▅▅▅▅▅▆▆▆▆▆▆▆▆▇▇▇▇▇▇█</td></tr><tr><td>Train/Loss</td><td>█▆▅▅▄▄▄▃▃▃▃▃▃▃▃▃▂▂▂▂▂▂▂▂▂▁▁▁▁▁</td></tr><tr><td>round</td><td>▁▁▁▁▂▂▂▂▂▃▃▃▃▃▃▄▄▄▄▄▅▅▅▅▅▆▆▆▆▆▆▇▇▇▇▇████</td></tr></table><br/></div><div class=\"wandb-col\">\n",
              "<h3>Run summary:</h3><br/><table class=\"wandb\"><tr><td>LR</td><td>3e-05</td></tr><tr><td>Test/Acc</td><td>0.78788</td></tr><tr><td>Test/Loss</td><td>1.19261</td></tr><tr><td>Train/Acc</td><td>0.72945</td></tr><tr><td>Train/Loss</td><td>1.45833</td></tr><tr><td>round</td><td>29</td></tr></table>\n",
              "</div></div>\n",
              "Synced 5 W&B file(s), 0 media file(s), 0 artifact file(s) and 0 other file(s)\n",
              "<br/>Synced <strong style=\"color:#cdcd00\">fedavg_femnist_r20_test1_4clients</strong>: <a href=\"https://wandb.ai/duygu/fedml/runs/fqdf2zix\" target=\"_blank\">https://wandb.ai/duygu/fedml/runs/fqdf2zix</a><br/>\n",
              "Find logs at: <code>./wandb/run-20211228_032313-fqdf2zix/logs</code><br/>\n"
            ],
            "text/plain": [
              "<IPython.core.display.HTML object>"
            ]
          },
          "metadata": {}
        },
        {
          "output_type": "display_data",
          "data": {
            "text/html": [
              "Successfully finished last run (ID:fqdf2zix). Initializing new run:<br/>"
            ],
            "text/plain": [
              "<IPython.core.display.HTML object>"
            ]
          },
          "metadata": {}
        },
        {
          "output_type": "display_data",
          "data": {
            "text/html": [
              "\n",
              "                    Syncing run <strong><a href=\"https://wandb.ai/duygu/fedml/runs/1gtyr149\" target=\"_blank\">fedavg_femnist_r20_test1_4clients</a></strong> to <a href=\"https://wandb.ai/duygu/fedml\" target=\"_blank\">Weights & Biases</a> (<a href=\"https://docs.wandb.com/integrations/jupyter.html\" target=\"_blank\">docs</a>).<br/>\n",
              "\n",
              "                "
            ],
            "text/plain": [
              "<IPython.core.display.HTML object>"
            ]
          },
          "metadata": {}
        },
        {
          "output_type": "execute_result",
          "data": {
            "text/plain": [
              "<wandb.sdk.wandb_run.Run at 0x7fa3c150ff90>"
            ],
            "text/html": [
              "<button onClick=\"this.nextSibling.style.display='block';this.style.display='none';\">Display W&B run</button><iframe src=\"https://wandb.ai/duygu/fedml/runs/1gtyr149?jupyter=true\" style=\"border:none;width:100%;height:420px;display:none;\"></iframe>"
            ]
          },
          "metadata": {},
          "execution_count": 24
        }
      ]
    },
    {
      "cell_type": "code",
      "source": [
        "model = Net_femnist()\n",
        "dummy_opt = torch.optim.SGD(copy.deepcopy(model).parameters(), lr=args.lr)\n",
        "dummy_scheduler = torch.optim.lr_scheduler.StepLR(optimizer=dummy_opt, \n",
        "                                                step_size = args.comm_round/5,\n",
        "                                                gamma = 0.5)\n",
        "model_trainer = MyModelTrainer(model)"
      ],
      "metadata": {
        "id": "UFXMu-KcEdB3"
      },
      "execution_count": 22,
      "outputs": []
    },
    {
      "cell_type": "code",
      "source": [
        "fedavgAPI = FedAvgAPI(dataset, device, args, model_trainer, threading=3, scheduler=dummy_scheduler)"
      ],
      "metadata": {
        "id": "RZbn4-aJEJ-3"
      },
      "execution_count": 25,
      "outputs": []
    },
    {
      "cell_type": "code",
      "source": [
        "device = torch.device(\"cuda:0\" if torch.cuda.is_available() else \"cpu\")\n",
        "device"
      ],
      "metadata": {
        "colab": {
          "base_uri": "https://localhost:8080/"
        },
        "id": "2iP1XYpYEGgz",
        "outputId": "a96a57a8-09a8-4842-90c4-1cffc62e022f"
      },
      "execution_count": 26,
      "outputs": [
        {
          "output_type": "execute_result",
          "data": {
            "text/plain": [
              "device(type='cuda', index=0)"
            ]
          },
          "metadata": {},
          "execution_count": 26
        }
      ]
    },
    {
      "cell_type": "code",
      "source": [
        "fedavgAPI.train()"
      ],
      "metadata": {
        "colab": {
          "base_uri": "https://localhost:8080/"
        },
        "id": "Ntf8M08wEMjT",
        "outputId": "22185ec9-97d9-49aa-e6a2-ff55c8d85534"
      },
      "execution_count": 27,
      "outputs": [
        {
          "output_type": "stream",
          "name": "stderr",
          "text": [
            "/usr/local/lib/python3.7/dist-packages/torch/optim/lr_scheduler.py:370: UserWarning: To get the last learning rate computed by the scheduler, please use `get_last_lr()`.\n",
            "  \"please use `get_last_lr()`.\", UserWarning)\n",
            "/usr/local/lib/python3.7/dist-packages/torch/optim/lr_scheduler.py:134: UserWarning: Detected call of `lr_scheduler.step()` before `optimizer.step()`. In PyTorch 1.1.0 and later, you should call them in the opposite order: `optimizer.step()` before `lr_scheduler.step()`.  Failure to do this will result in PyTorch skipping the first value of the learning rate schedule. See more details at https://pytorch.org/docs/stable/optim.html#how-to-adjust-learning-rate\n",
            "  \"https://pytorch.org/docs/stable/optim.html#how-to-adjust-learning-rate\", UserWarning)\n"
          ]
        }
      ]
    },
    {
      "cell_type": "markdown",
      "source": [
        "# Lab3 distributed (4 clients, 200 rounds)"
      ],
      "metadata": {
        "id": "iq8ecXaqGd-b"
      }
    },
    {
      "cell_type": "code",
      "source": [
        "!pip3 install setproctitle\n",
        "!pip3 install mpi4py\n",
        "!pip3 install paho-mqtt\n",
        "!pip3 install -U PyYAML"
      ],
      "metadata": {
        "colab": {
          "base_uri": "https://localhost:8080/",
          "height": 329
        },
        "id": "twZmdclpGjm5",
        "outputId": "bd71d241-4d60-44b5-8e97-7789968c41c6"
      },
      "execution_count": 31,
      "outputs": [
        {
          "output_type": "stream",
          "name": "stdout",
          "text": [
            "Requirement already satisfied: setproctitle in /usr/local/lib/python3.7/dist-packages (1.2.2)\n",
            "Requirement already satisfied: mpi4py in /usr/local/lib/python3.7/dist-packages (3.1.3)\n",
            "Requirement already satisfied: paho-mqtt in /usr/local/lib/python3.7/dist-packages (1.6.1)\n",
            "Requirement already satisfied: PyYAML in /usr/local/lib/python3.7/dist-packages (3.13)\n",
            "Collecting PyYAML\n",
            "  Downloading PyYAML-6.0-cp37-cp37m-manylinux_2_5_x86_64.manylinux1_x86_64.manylinux_2_12_x86_64.manylinux2010_x86_64.whl (596 kB)\n",
            "\u001b[K     |████████████████████████████████| 596 kB 5.2 MB/s \n",
            "\u001b[?25hInstalling collected packages: PyYAML\n",
            "  Attempting uninstall: PyYAML\n",
            "    Found existing installation: PyYAML 3.13\n",
            "    Uninstalling PyYAML-3.13:\n",
            "      Successfully uninstalled PyYAML-3.13\n",
            "Successfully installed PyYAML-6.0\n"
          ]
        },
        {
          "output_type": "display_data",
          "data": {
            "application/vnd.colab-display-data+json": {
              "pip_warning": {
                "packages": [
                  "yaml"
                ]
              }
            }
          },
          "metadata": {}
        }
      ]
    },
    {
      "cell_type": "code",
      "source": [
        "import argparse\n",
        "import logging\n",
        "import os\n",
        "import random\n",
        "import socket\n",
        "import sys\n",
        "import traceback\n",
        "\n",
        "import numpy as np\n",
        "import psutil\n",
        "import setproctitle\n",
        "import torch\n",
        "import wandb\n",
        "\n",
        "from dataloader import femnist_dataloaders\n",
        "\n",
        "from fedml_api.distributed.utils.gpu_mapping import mapping_processes_to_gpu_device_from_yaml_file\n",
        "from fedml_api.distributed.fedavg.FedAvgAPI import FedML_init, FedML_FedAvg_distributed\n",
        "\n",
        "from model import Net_femnist"
      ],
      "metadata": {
        "id": "-SF3G24KG1_k"
      },
      "execution_count": 1,
      "outputs": []
    },
    {
      "cell_type": "code",
      "source": [
        "from types import SimpleNamespace\n",
        "\n",
        "d = {\n",
        "  'wandb_name': 'fedavg_femnist_r20_grpc_test2',\n",
        "  'model': 'resnet56',\n",
        "  'epochs': 1,\n",
        "  'batch_size': 16,\n",
        "  'client_num_per_round': 4,\n",
        "  'comm_round': 200,\n",
        "  'client_num_in_total': 4,\n",
        "  'client_optimizer' : 'adam',\n",
        "  'lr': 0.001,\n",
        "  'wd': 0.0001,\n",
        "  'frequency_of_the_test': 1, \n",
        "  'dataset':  'femnist',\n",
        "  'data_dir': './femnist',\n",
        "  'gpu': 0,\n",
        "  'ci': 1,\n",
        "  'seed': 123,\n",
        "  'backend': 'GRPC',\n",
        "  'gpu_mapping_file' : \"./grpc_config/gpu_mapping.yaml\",\n",
        "  'gpu_mapping_key':  \"mapping_FedML_gRPC_5\",\n",
        "  'grpc_ipconfig_path': \"./grpc_config/grpc_ipconfig.csv\",\n",
        "  'fl_worker_index': 0,\n",
        "  'is_mobile': 1,\n",
        "  'partition_alpha': 0.5,\n",
        "  'partition_method': 'hetero',\n",
        "  'gpu_server_num': 1,\n",
        "  'gpu_num_per_server': 4,\n",
        "  \n",
        "}\n",
        "\n",
        "args = SimpleNamespace(**d)"
      ],
      "metadata": {
        "id": "w2uM7fGYG475"
      },
      "execution_count": 2,
      "outputs": []
    },
    {
      "cell_type": "code",
      "source": [
        "# customize the log format\n",
        "# logging.basicConfig(level=logging.INFO,\n",
        "logging.basicConfig(level=logging.DEBUG,\n",
        "                    format=' - %(asctime)s %(filename)s[line:%(lineno)d] %(levelname)s %(message)s',\n",
        "                    datefmt='%a, %d %b %Y %H:%M:%S')\n",
        "\n",
        "# parse python script input parameters\n",
        "#parser = argparse.ArgumentParser()\n",
        "#args = add_args(parser)\n",
        "logging.info(args)\n",
        "\n",
        "# customize the process name\n",
        "str_process_name = \"FedAvg (distributed):\" + str(args.fl_worker_index)\n",
        "setproctitle.setproctitle(str_process_name)\n",
        "\n",
        "hostname = socket.gethostname()\n",
        "logging.info(\"#############process ID = \" + str(args.fl_worker_index) +\n",
        "              \", host name = \" + hostname + \"########\" +\n",
        "              \", process ID = \" + str(os.getpid()) +\n",
        "              \", process Name = \" + str(psutil.Process(os.getpid())))\n",
        "\n",
        "# initialize the wandb machine learning experimental tracking platform (https://www.wandb.com/).\n",
        "if args.fl_worker_index == 0:\n",
        "    wandb.init(\n",
        "        # project=\"federated_nas\",\n",
        "        project=\"fedml_rpc\",\n",
        "        name=args.wandb_name,\n",
        "        config=args\n",
        "    )\n",
        "\n",
        "# Set the random seed. The np.random seed determines the dataset partition.\n",
        "# The torch_manual_seed determines the initial weight.\n",
        "# We fix these two, so that we can reproduce the result.\n",
        "random.seed(0)\n",
        "np.random.seed(0)\n",
        "torch.manual_seed(0)\n",
        "torch.cuda.manual_seed_all(0)\n",
        "\n",
        "num_FL_workers = args.client_num_per_round + 1\n",
        "# Please check \"GPU_MAPPING.md\" to see how to define the topology\n",
        "device = mapping_processes_to_gpu_device_from_yaml_file(args.fl_worker_index, num_FL_workers,\n",
        "                                                        args.gpu_mapping_file, args.gpu_mapping_key)\n",
        "\n",
        "# load data\n",
        "# dataset = load_data(args, args.dataset)\n",
        "dataset = femnist_dataloaders(root=\"./femnist\",clients=args.client_num_in_total, batch_size=args.batch_size)\n",
        "[train_data_num, test_data_num, train_data_global, test_data_global,\n",
        "  train_data_local_num_dict, train_data_local_dict, test_data_local_dict, class_num] = dataset\n",
        "\n",
        "# create model.\n",
        "# Note if the model is DNN (e.g., ResNet), the training will be very slow.\n",
        "# In this case, please use our FedML distributed version (./fedml_experiments/distributed_fedavg)\n",
        "model = Net_femnist()"
      ],
      "metadata": {
        "colab": {
          "base_uri": "https://localhost:8080/",
          "height": 297
        },
        "id": "4g0reT30HTfQ",
        "outputId": "02e4542e-89a1-45e8-a2a9-be6e840faec7"
      },
      "execution_count": 3,
      "outputs": [
        {
          "output_type": "stream",
          "name": "stderr",
          "text": [
            " - Tue, 28 Dec 2021 03:37:29 <ipython-input-3-aa0be7a78b41>[line:10] INFO namespace(backend='GRPC', batch_size=16, ci=1, client_num_in_total=4, client_num_per_round=4, client_optimizer='adam', comm_round=200, data_dir='./femnist', dataset='femnist', epochs=1, fl_worker_index=0, frequency_of_the_test=1, gpu=0, gpu_mapping_file='./grpc_config/gpu_mapping.yaml', gpu_mapping_key='mapping_FedML_gRPC_5', gpu_num_per_server=4, gpu_server_num=1, grpc_ipconfig_path='./grpc_config/grpc_ipconfig.csv', is_mobile=1, lr=0.001, model='resnet56', partition_alpha=0.5, partition_method='hetero', seed=123, wandb_name='fedavg_femnist_r20_grpc_test2', wd=0.0001)\n",
            " - Tue, 28 Dec 2021 03:37:29 <ipython-input-3-aa0be7a78b41>[line:20] INFO #############process ID = 0, host name = 2628ec0190fc########, process ID = 2169, process Name = psutil.Process(pid=2169, name='FedAvg (distributed):0', started='03:37:11')\n",
            " - Tue, 28 Dec 2021 03:37:30 connectionpool.py[line:205] DEBUG Starting new HTTP connection (1): 172.28.0.2:9000\n",
            " - Tue, 28 Dec 2021 03:37:30 connectionpool.py[line:393] DEBUG http://172.28.0.2:9000 \"GET /api/sessions?token= HTTP/1.1\" 200 410\n",
            " - Tue, 28 Dec 2021 03:37:30 connectionpool.py[line:813] DEBUG Starting new HTTPS connection (1): api.wandb.ai:443\n",
            " - Tue, 28 Dec 2021 03:37:30 connectionpool.py[line:393] DEBUG https://api.wandb.ai:443 \"POST /graphql HTTP/1.1\" 200 None\n",
            " - Tue, 28 Dec 2021 03:37:30 connectionpool.py[line:813] DEBUG Starting new HTTPS connection (1): api.wandb.ai:443\n",
            " - Tue, 28 Dec 2021 03:37:30 connectionpool.py[line:393] DEBUG https://api.wandb.ai:443 \"POST /graphql HTTP/1.1\" 200 None\n",
            "\u001b[34m\u001b[1mwandb\u001b[0m: Currently logged in as: \u001b[33mduygu\u001b[0m (use `wandb login --relogin` to force relogin)\n"
          ]
        },
        {
          "output_type": "display_data",
          "data": {
            "text/html": [
              "\n",
              "                    Syncing run <strong><a href=\"https://wandb.ai/duygu/fedml_rpc/runs/105ueef3\" target=\"_blank\">fedavg_femnist_r20_grpc_test2</a></strong> to <a href=\"https://wandb.ai/duygu/fedml_rpc\" target=\"_blank\">Weights & Biases</a> (<a href=\"https://docs.wandb.com/integrations/jupyter.html\" target=\"_blank\">docs</a>).<br/>\n",
              "\n",
              "                "
            ],
            "text/plain": [
              "<IPython.core.display.HTML object>"
            ]
          },
          "metadata": {}
        },
        {
          "output_type": "stream",
          "name": "stderr",
          "text": [
            " - Tue, 28 Dec 2021 03:37:35 gpu_mapping.py[line:22] INFO gpu_util = {'hostname_node_server': [1], 'hostname_node_1': [1, 0, 0, 0], 'hostname_node_2': [1, 0, 0, 0], 'hostname_node_3': [1, 0, 0, 0], 'hostname_node_4': [1, 0, 0, 0]}\n",
            " - Tue, 28 Dec 2021 03:37:35 gpu_mapping.py[line:31] INFO Process 0 running on host: hostname_node_server, gethostname: 2628ec0190fc, local_gpu_id: 0 ...\n",
            " - Tue, 28 Dec 2021 03:37:35 gpu_mapping.py[line:32] INFO i = 5, worker_number = 5\n",
            " - Tue, 28 Dec 2021 03:37:35 gpu_mapping.py[line:37] INFO process_id = 0, GPU device = cuda:0\n"
          ]
        },
        {
          "output_type": "stream",
          "name": "stdout",
          "text": [
            "Filter clients by position.\n"
          ]
        }
      ]
    },
    {
      "cell_type": "code",
      "source": [
        "FedML_FedAvg_distributed(args.fl_worker_index, num_FL_workers, device, None,\n",
        "                          model, train_data_num, train_data_global, test_data_global,\n",
        "                          train_data_local_num_dict, train_data_local_dict, test_data_local_dict, args)"
      ],
      "metadata": {
        "colab": {
          "base_uri": "https://localhost:8080/",
          "height": 554
        },
        "id": "043uUGxgHW8J",
        "outputId": "8c656211-94f5-4e06-afd7-1498be2ba67c"
      },
      "execution_count": 4,
      "outputs": [
        {
          "output_type": "stream",
          "name": "stderr",
          "text": [
            " - Tue, 28 Dec 2021 03:37:54 grpc_comm_manager.py[line:44] INFO /content\n",
            " - Tue, 28 Dec 2021 03:37:54 FedAVGAggregator.py[line:97] INFO client_indexes = [0, 1, 2, 3]\n"
          ]
        },
        {
          "output_type": "stream",
          "name": "stdout",
          "text": [
            "server started. Listening on port 50000\n"
          ]
        },
        {
          "output_type": "stream",
          "name": "stderr",
          "text": [
            " - Tue, 28 Dec 2021 03:37:56 grpc_comm_manager.py[line:67] INFO sending message to 0.0.0.0:50001\n"
          ]
        },
        {
          "output_type": "stream",
          "name": "stdout",
          "text": [
            "json string size = 38088544\n"
          ]
        },
        {
          "output_type": "error",
          "ename": "_InactiveRpcError",
          "evalue": "ignored",
          "traceback": [
            "\u001b[0;31m---------------------------------------------------------------------------\u001b[0m",
            "\u001b[0;31m_InactiveRpcError\u001b[0m                         Traceback (most recent call last)",
            "\u001b[0;32m<ipython-input-4-ec95e76c78bf>\u001b[0m in \u001b[0;36m<module>\u001b[0;34m()\u001b[0m\n\u001b[1;32m      1\u001b[0m FedML_FedAvg_distributed(args.fl_worker_index, num_FL_workers, device, None,\n\u001b[1;32m      2\u001b[0m                           \u001b[0mmodel\u001b[0m\u001b[0;34m,\u001b[0m \u001b[0mtrain_data_num\u001b[0m\u001b[0;34m,\u001b[0m \u001b[0mtrain_data_global\u001b[0m\u001b[0;34m,\u001b[0m \u001b[0mtest_data_global\u001b[0m\u001b[0;34m,\u001b[0m\u001b[0;34m\u001b[0m\u001b[0;34m\u001b[0m\u001b[0m\n\u001b[0;32m----> 3\u001b[0;31m                           train_data_local_num_dict, train_data_local_dict, test_data_local_dict, args)\n\u001b[0m",
            "\u001b[0;32m/usr/local/lib/python3.7/dist-packages/fedml_api/distributed/fedavg/FedAvgAPI.py\u001b[0m in \u001b[0;36mFedML_FedAvg_distributed\u001b[0;34m(process_id, worker_number, device, comm, model, train_data_num, train_data_global, test_data_global, train_data_local_num_dict, train_data_local_dict, test_data_local_dict, args, model_trainer, preprocessed_sampling_lists)\u001b[0m\n\u001b[1;32m     49\u001b[0m             \u001b[0mtrain_data_local_num_dict\u001b[0m\u001b[0;34m,\u001b[0m\u001b[0;34m\u001b[0m\u001b[0;34m\u001b[0m\u001b[0m\n\u001b[1;32m     50\u001b[0m             \u001b[0mmodel_trainer\u001b[0m\u001b[0;34m,\u001b[0m\u001b[0;34m\u001b[0m\u001b[0;34m\u001b[0m\u001b[0m\n\u001b[0;32m---> 51\u001b[0;31m             \u001b[0mpreprocessed_sampling_lists\u001b[0m\u001b[0;34m,\u001b[0m\u001b[0;34m\u001b[0m\u001b[0;34m\u001b[0m\u001b[0m\n\u001b[0m\u001b[1;32m     52\u001b[0m         )\n\u001b[1;32m     53\u001b[0m     \u001b[0;32melse\u001b[0m\u001b[0;34m:\u001b[0m\u001b[0;34m\u001b[0m\u001b[0;34m\u001b[0m\u001b[0m\n",
            "\u001b[0;32m/usr/local/lib/python3.7/dist-packages/fedml_api/distributed/fedavg/FedAvgAPI.py\u001b[0m in \u001b[0;36minit_server\u001b[0;34m(args, device, comm, rank, size, model, train_data_num, train_data_global, test_data_global, train_data_local_dict, test_data_local_dict, train_data_local_num_dict, model_trainer, preprocessed_sampling_lists)\u001b[0m\n\u001b[1;32m    122\u001b[0m             \u001b[0mpreprocessed_client_lists\u001b[0m\u001b[0;34m=\u001b[0m\u001b[0mpreprocessed_sampling_lists\u001b[0m\u001b[0;34m,\u001b[0m\u001b[0;34m\u001b[0m\u001b[0;34m\u001b[0m\u001b[0m\n\u001b[1;32m    123\u001b[0m         )\n\u001b[0;32m--> 124\u001b[0;31m     \u001b[0mserver_manager\u001b[0m\u001b[0;34m.\u001b[0m\u001b[0msend_init_msg\u001b[0m\u001b[0;34m(\u001b[0m\u001b[0;34m)\u001b[0m\u001b[0;34m\u001b[0m\u001b[0;34m\u001b[0m\u001b[0m\n\u001b[0m\u001b[1;32m    125\u001b[0m     \u001b[0mserver_manager\u001b[0m\u001b[0;34m.\u001b[0m\u001b[0mrun\u001b[0m\u001b[0;34m(\u001b[0m\u001b[0;34m)\u001b[0m\u001b[0;34m\u001b[0m\u001b[0;34m\u001b[0m\u001b[0m\n\u001b[1;32m    126\u001b[0m \u001b[0;34m\u001b[0m\u001b[0m\n",
            "\u001b[0;32m/usr/local/lib/python3.7/dist-packages/fedml_api/distributed/fedavg/FedAvgServerManager.py\u001b[0m in \u001b[0;36msend_init_msg\u001b[0;34m(self)\u001b[0m\n\u001b[1;32m     37\u001b[0m             \u001b[0mglobal_model_params\u001b[0m \u001b[0;34m=\u001b[0m \u001b[0mtransform_tensor_to_list\u001b[0m\u001b[0;34m(\u001b[0m\u001b[0mglobal_model_params\u001b[0m\u001b[0;34m)\u001b[0m\u001b[0;34m\u001b[0m\u001b[0;34m\u001b[0m\u001b[0m\n\u001b[1;32m     38\u001b[0m         \u001b[0;32mfor\u001b[0m \u001b[0mprocess_id\u001b[0m \u001b[0;32min\u001b[0m \u001b[0mrange\u001b[0m\u001b[0;34m(\u001b[0m\u001b[0;36m1\u001b[0m\u001b[0;34m,\u001b[0m \u001b[0mself\u001b[0m\u001b[0;34m.\u001b[0m\u001b[0msize\u001b[0m\u001b[0;34m)\u001b[0m\u001b[0;34m:\u001b[0m\u001b[0;34m\u001b[0m\u001b[0;34m\u001b[0m\u001b[0m\n\u001b[0;32m---> 39\u001b[0;31m             \u001b[0mself\u001b[0m\u001b[0;34m.\u001b[0m\u001b[0msend_message_init_config\u001b[0m\u001b[0;34m(\u001b[0m\u001b[0mprocess_id\u001b[0m\u001b[0;34m,\u001b[0m \u001b[0mglobal_model_params\u001b[0m\u001b[0;34m,\u001b[0m \u001b[0mclient_indexes\u001b[0m\u001b[0;34m[\u001b[0m\u001b[0mprocess_id\u001b[0m \u001b[0;34m-\u001b[0m \u001b[0;36m1\u001b[0m\u001b[0;34m]\u001b[0m\u001b[0;34m)\u001b[0m\u001b[0;34m\u001b[0m\u001b[0;34m\u001b[0m\u001b[0m\n\u001b[0m\u001b[1;32m     40\u001b[0m \u001b[0;34m\u001b[0m\u001b[0m\n\u001b[1;32m     41\u001b[0m     \u001b[0;32mdef\u001b[0m \u001b[0mregister_message_receive_handlers\u001b[0m\u001b[0;34m(\u001b[0m\u001b[0mself\u001b[0m\u001b[0;34m)\u001b[0m\u001b[0;34m:\u001b[0m\u001b[0;34m\u001b[0m\u001b[0;34m\u001b[0m\u001b[0m\n",
            "\u001b[0;32m/usr/local/lib/python3.7/dist-packages/fedml_api/distributed/fedavg/FedAvgServerManager.py\u001b[0m in \u001b[0;36msend_message_init_config\u001b[0;34m(self, receive_id, global_model_params, client_index)\u001b[0m\n\u001b[1;32m     86\u001b[0m         \u001b[0mmessage\u001b[0m\u001b[0;34m.\u001b[0m\u001b[0madd_params\u001b[0m\u001b[0;34m(\u001b[0m\u001b[0mMyMessage\u001b[0m\u001b[0;34m.\u001b[0m\u001b[0mMSG_ARG_KEY_MODEL_PARAMS\u001b[0m\u001b[0;34m,\u001b[0m \u001b[0mglobal_model_params\u001b[0m\u001b[0;34m)\u001b[0m\u001b[0;34m\u001b[0m\u001b[0;34m\u001b[0m\u001b[0m\n\u001b[1;32m     87\u001b[0m         \u001b[0mmessage\u001b[0m\u001b[0;34m.\u001b[0m\u001b[0madd_params\u001b[0m\u001b[0;34m(\u001b[0m\u001b[0mMyMessage\u001b[0m\u001b[0;34m.\u001b[0m\u001b[0mMSG_ARG_KEY_CLIENT_INDEX\u001b[0m\u001b[0;34m,\u001b[0m \u001b[0mstr\u001b[0m\u001b[0;34m(\u001b[0m\u001b[0mclient_index\u001b[0m\u001b[0;34m)\u001b[0m\u001b[0;34m)\u001b[0m\u001b[0;34m\u001b[0m\u001b[0;34m\u001b[0m\u001b[0m\n\u001b[0;32m---> 88\u001b[0;31m         \u001b[0mself\u001b[0m\u001b[0;34m.\u001b[0m\u001b[0msend_message\u001b[0m\u001b[0;34m(\u001b[0m\u001b[0mmessage\u001b[0m\u001b[0;34m)\u001b[0m\u001b[0;34m\u001b[0m\u001b[0;34m\u001b[0m\u001b[0m\n\u001b[0m\u001b[1;32m     89\u001b[0m \u001b[0;34m\u001b[0m\u001b[0m\n\u001b[1;32m     90\u001b[0m     \u001b[0;32mdef\u001b[0m \u001b[0msend_message_sync_model_to_client\u001b[0m\u001b[0;34m(\u001b[0m\u001b[0mself\u001b[0m\u001b[0;34m,\u001b[0m \u001b[0mreceive_id\u001b[0m\u001b[0;34m,\u001b[0m \u001b[0mglobal_model_params\u001b[0m\u001b[0;34m,\u001b[0m \u001b[0mclient_index\u001b[0m\u001b[0;34m)\u001b[0m\u001b[0;34m:\u001b[0m\u001b[0;34m\u001b[0m\u001b[0;34m\u001b[0m\u001b[0m\n",
            "\u001b[0;32m/usr/local/lib/python3.7/dist-packages/fedml_core/distributed/server/server_manager.py\u001b[0m in \u001b[0;36msend_message\u001b[0;34m(self, message)\u001b[0m\n\u001b[1;32m     54\u001b[0m \u001b[0;34m\u001b[0m\u001b[0m\n\u001b[1;32m     55\u001b[0m     \u001b[0;32mdef\u001b[0m \u001b[0msend_message\u001b[0m\u001b[0;34m(\u001b[0m\u001b[0mself\u001b[0m\u001b[0;34m,\u001b[0m \u001b[0mmessage\u001b[0m\u001b[0;34m)\u001b[0m\u001b[0;34m:\u001b[0m\u001b[0;34m\u001b[0m\u001b[0;34m\u001b[0m\u001b[0m\n\u001b[0;32m---> 56\u001b[0;31m         \u001b[0mself\u001b[0m\u001b[0;34m.\u001b[0m\u001b[0mcom_manager\u001b[0m\u001b[0;34m.\u001b[0m\u001b[0msend_message\u001b[0m\u001b[0;34m(\u001b[0m\u001b[0mmessage\u001b[0m\u001b[0;34m)\u001b[0m\u001b[0;34m\u001b[0m\u001b[0;34m\u001b[0m\u001b[0m\n\u001b[0m\u001b[1;32m     57\u001b[0m \u001b[0;34m\u001b[0m\u001b[0m\n\u001b[1;32m     58\u001b[0m     \u001b[0;34m@\u001b[0m\u001b[0mabstractmethod\u001b[0m\u001b[0;34m\u001b[0m\u001b[0;34m\u001b[0m\u001b[0m\n",
            "\u001b[0;32m/usr/local/lib/python3.7/dist-packages/fedml_core/distributed/communication/gRPC/grpc_comm_manager.py\u001b[0m in \u001b[0;36msend_message\u001b[0;34m(self, msg)\u001b[0m\n\u001b[1;32m     71\u001b[0m         \u001b[0mrequest\u001b[0m\u001b[0;34m.\u001b[0m\u001b[0mmessage\u001b[0m \u001b[0;34m=\u001b[0m \u001b[0mpayload\u001b[0m\u001b[0;34m\u001b[0m\u001b[0;34m\u001b[0m\u001b[0m\n\u001b[1;32m     72\u001b[0m \u001b[0;34m\u001b[0m\u001b[0m\n\u001b[0;32m---> 73\u001b[0;31m         \u001b[0mstub\u001b[0m\u001b[0;34m.\u001b[0m\u001b[0msendMessage\u001b[0m\u001b[0;34m(\u001b[0m\u001b[0mrequest\u001b[0m\u001b[0;34m)\u001b[0m\u001b[0;34m\u001b[0m\u001b[0;34m\u001b[0m\u001b[0m\n\u001b[0m\u001b[1;32m     74\u001b[0m         \u001b[0mlogging\u001b[0m\u001b[0;34m.\u001b[0m\u001b[0mdebug\u001b[0m\u001b[0;34m(\u001b[0m\u001b[0;34m\"sent successfully\"\u001b[0m\u001b[0;34m)\u001b[0m\u001b[0;34m\u001b[0m\u001b[0;34m\u001b[0m\u001b[0m\n\u001b[1;32m     75\u001b[0m         \u001b[0mchannel\u001b[0m\u001b[0;34m.\u001b[0m\u001b[0mclose\u001b[0m\u001b[0;34m(\u001b[0m\u001b[0;34m)\u001b[0m\u001b[0;34m\u001b[0m\u001b[0;34m\u001b[0m\u001b[0m\n",
            "\u001b[0;32m/usr/local/lib/python3.7/dist-packages/grpc/_channel.py\u001b[0m in \u001b[0;36m__call__\u001b[0;34m(self, request, timeout, metadata, credentials, wait_for_ready, compression)\u001b[0m\n\u001b[1;32m    944\u001b[0m         state, call, = self._blocking(request, timeout, metadata, credentials,\n\u001b[1;32m    945\u001b[0m                                       wait_for_ready, compression)\n\u001b[0;32m--> 946\u001b[0;31m         \u001b[0;32mreturn\u001b[0m \u001b[0m_end_unary_response_blocking\u001b[0m\u001b[0;34m(\u001b[0m\u001b[0mstate\u001b[0m\u001b[0;34m,\u001b[0m \u001b[0mcall\u001b[0m\u001b[0;34m,\u001b[0m \u001b[0;32mFalse\u001b[0m\u001b[0;34m,\u001b[0m \u001b[0;32mNone\u001b[0m\u001b[0;34m)\u001b[0m\u001b[0;34m\u001b[0m\u001b[0;34m\u001b[0m\u001b[0m\n\u001b[0m\u001b[1;32m    947\u001b[0m \u001b[0;34m\u001b[0m\u001b[0m\n\u001b[1;32m    948\u001b[0m     def with_call(self,\n",
            "\u001b[0;32m/usr/local/lib/python3.7/dist-packages/grpc/_channel.py\u001b[0m in \u001b[0;36m_end_unary_response_blocking\u001b[0;34m(state, call, with_call, deadline)\u001b[0m\n\u001b[1;32m    847\u001b[0m             \u001b[0;32mreturn\u001b[0m \u001b[0mstate\u001b[0m\u001b[0;34m.\u001b[0m\u001b[0mresponse\u001b[0m\u001b[0;34m\u001b[0m\u001b[0;34m\u001b[0m\u001b[0m\n\u001b[1;32m    848\u001b[0m     \u001b[0;32melse\u001b[0m\u001b[0;34m:\u001b[0m\u001b[0;34m\u001b[0m\u001b[0;34m\u001b[0m\u001b[0m\n\u001b[0;32m--> 849\u001b[0;31m         \u001b[0;32mraise\u001b[0m \u001b[0m_InactiveRpcError\u001b[0m\u001b[0;34m(\u001b[0m\u001b[0mstate\u001b[0m\u001b[0;34m)\u001b[0m\u001b[0;34m\u001b[0m\u001b[0;34m\u001b[0m\u001b[0m\n\u001b[0m\u001b[1;32m    850\u001b[0m \u001b[0;34m\u001b[0m\u001b[0m\n\u001b[1;32m    851\u001b[0m \u001b[0;34m\u001b[0m\u001b[0m\n",
            "\u001b[0;31m_InactiveRpcError\u001b[0m: <_InactiveRpcError of RPC that terminated with:\n\tstatus = StatusCode.UNAVAILABLE\n\tdetails = \"failed to connect to all addresses\"\n\tdebug_error_string = \"{\"created\":\"@1640662676.090121505\",\"description\":\"Failed to pick subchannel\",\"file\":\"src/core/ext/filters/client_channel/client_channel.cc\",\"file_line\":3093,\"referenced_errors\":[{\"created\":\"@1640662676.090118842\",\"description\":\"failed to connect to all addresses\",\"file\":\"src/core/lib/transport/error_utils.cc\",\"file_line\":163,\"grpc_status\":14}]}\"\n>"
          ]
        }
      ]
    }
  ]
}